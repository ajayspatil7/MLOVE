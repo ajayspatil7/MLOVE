{
 "cells": [
  {
   "cell_type": "markdown",
   "id": "c7bdce40",
   "metadata": {
    "id": "c7bdce40"
   },
   "source": [
    "**Prepared by:**\n",
    "\n",
    "Prof. Ashwini Kumar Mathur<br>\n",
    "Assistant Professor<br>\n",
    "SoCSE"
   ]
  },
  {
   "cell_type": "markdown",
   "id": "50700540",
   "metadata": {
    "id": "50700540"
   },
   "source": [
    "## What is Gradient Decent?\n",
    "\n",
    "Gradient descent is an optimization algorithm commonly used in machine learning and other fields to minimize a function.\n",
    "\n",
    "\n",
    "### **Key points about gradient descent:**\n",
    "\n",
    "- It's an iterative algorithm, meaning it takes small steps repeatedly.\n",
    "- It needs a function to optimize, like a loss function in machine learning.\n",
    "- It requires a learning rate, which controls the size of the steps it takes.\n",
    "- It's not guaranteed to find the global minimum, but it usually finds a good local minimum"
   ]
  },
  {
   "cell_type": "code",
   "execution_count": 1,
   "id": "ea86eb45",
   "metadata": {
    "id": "ea86eb45",
    "ExecuteTime": {
     "end_time": "2024-02-16T17:58:52.531958Z",
     "start_time": "2024-02-16T17:58:52.296833Z"
    }
   },
   "outputs": [],
   "source": [
    "import numpy as np\n",
    "\n",
    "# Define sample data\n",
    "x = np.array([1, 2, 3, 4, 5])\n",
    "y = np.array([2, 4, 5, 4, 5])\n",
    "\n",
    "# Implement a simple linear model\n",
    "def model(x, w, b):\n",
    "    return w * x + b\n",
    "\n",
    "# Define the mean squared error loss function\n",
    "def mean_squared_error(y_true, y_pred):\n",
    "    return np.mean((y_true - y_pred)**2)\n",
    "\n",
    "# Set initial parameters\n",
    "w = 1\n",
    "b = 0"
   ]
  },
  {
   "cell_type": "markdown",
   "id": "7bac5219",
   "metadata": {
    "id": "7bac5219"
   },
   "source": [
    "### Implementation of Gradient Decent"
   ]
  },
  {
   "cell_type": "code",
   "execution_count": 12,
   "id": "0e401f32",
   "metadata": {
    "id": "0e401f32",
    "outputId": "e3f78f15-9288-44a1-8c77-eb762b24b18b",
    "ExecuteTime": {
     "end_time": "2024-02-16T18:33:18.316755Z",
     "start_time": "2024-02-16T18:33:18.289800Z"
    }
   },
   "outputs": [
    {
     "name": "stdout",
     "output_type": "stream",
     "text": [
      "Iteration: 0 Loss: 0.5330704642533954\n",
      "Iteration: 1 Loss: 0.533034584474143\n",
      "Iteration: 2 Loss: 0.5329987289524235\n",
      "Iteration: 3 Loss: 0.5329628976718378\n",
      "Iteration: 4 Loss: 0.5329270906159964\n",
      "Iteration: 5 Loss: 0.5328913077685217\n",
      "Iteration: 6 Loss: 0.5328555491130471\n",
      "Iteration: 7 Loss: 0.5328198146332166\n",
      "Iteration: 8 Loss: 0.5327841043126857\n",
      "Iteration: 9 Loss: 0.5327484181351214\n",
      "Iteration: 10 Loss: 0.5327127560842\n",
      "Iteration: 11 Loss: 0.532677118143611\n",
      "Iteration: 12 Loss: 0.5326415042970535\n",
      "Iteration: 13 Loss: 0.5326059145282377\n",
      "Iteration: 14 Loss: 0.5325703488208863\n",
      "Iteration: 15 Loss: 0.5325348071587307\n",
      "Iteration: 16 Loss: 0.532499289525515\n",
      "Iteration: 17 Loss: 0.5324637959049937\n",
      "Iteration: 18 Loss: 0.5324283262809323\n",
      "Iteration: 19 Loss: 0.5323928806371075\n",
      "Iteration: 20 Loss: 0.5323574589573068\n",
      "Iteration: 21 Loss: 0.5323220612253282\n",
      "Iteration: 22 Loss: 0.5322866874249813\n",
      "Iteration: 23 Loss: 0.5322513375400868\n",
      "Iteration: 24 Loss: 0.5322160115544756\n",
      "Iteration: 25 Loss: 0.5321807094519901\n",
      "Iteration: 26 Loss: 0.5321454312164834\n",
      "Iteration: 27 Loss: 0.5321101768318193\n",
      "Iteration: 28 Loss: 0.5320749462818732\n",
      "Iteration: 29 Loss: 0.532039739550531\n",
      "Iteration: 30 Loss: 0.532004556621689\n",
      "Iteration: 31 Loss: 0.5319693974792551\n",
      "Iteration: 32 Loss: 0.5319342621071477\n",
      "Iteration: 33 Loss: 0.5318991504892965\n",
      "Iteration: 34 Loss: 0.5318640626096414\n",
      "Iteration: 35 Loss: 0.5318289984521336\n",
      "Iteration: 36 Loss: 0.5317939580007355\n",
      "Iteration: 37 Loss: 0.5317589412394199\n",
      "Iteration: 38 Loss: 0.5317239481521697\n",
      "Iteration: 39 Loss: 0.5316889787229802\n",
      "Iteration: 40 Loss: 0.5316540329358558\n",
      "Iteration: 41 Loss: 0.5316191107748134\n",
      "Iteration: 42 Loss: 0.53158421222388\n",
      "Iteration: 43 Loss: 0.5315493372670926\n",
      "Iteration: 44 Loss: 0.5315144858885004\n",
      "Iteration: 45 Loss: 0.5314796580721624\n",
      "Iteration: 46 Loss: 0.5314448538021486\n",
      "Iteration: 47 Loss: 0.5314100730625397\n",
      "Iteration: 48 Loss: 0.5313753158374279\n",
      "Iteration: 49 Loss: 0.5313405821109152\n",
      "Iteration: 50 Loss: 0.5313058718671145\n",
      "Iteration: 51 Loss: 0.5312711850901504\n",
      "Iteration: 52 Loss: 0.5312365217641563\n",
      "Iteration: 53 Loss: 0.5312018818732788\n",
      "Iteration: 54 Loss: 0.531167265401673\n",
      "Iteration: 55 Loss: 0.5311326723335059\n",
      "Iteration: 56 Loss: 0.5310981026529552\n",
      "Iteration: 57 Loss: 0.5310635563442087\n",
      "Iteration: 58 Loss: 0.5310290333914653\n",
      "Iteration: 59 Loss: 0.5309945337789346\n",
      "Iteration: 60 Loss: 0.5309600574908369\n",
      "Iteration: 61 Loss: 0.530925604511403\n",
      "Iteration: 62 Loss: 0.5308911748248746\n",
      "Iteration: 63 Loss: 0.530856768415503\n",
      "Iteration: 64 Loss: 0.530822385267552\n",
      "Iteration: 65 Loss: 0.5307880253652946\n",
      "Iteration: 66 Loss: 0.5307536886930155\n",
      "Iteration: 67 Loss: 0.5307193752350086\n",
      "Iteration: 68 Loss: 0.5306850849755795\n",
      "Iteration: 69 Loss: 0.5306508178990447\n",
      "Iteration: 70 Loss: 0.5306165739897297\n",
      "Iteration: 71 Loss: 0.5305823532319728\n",
      "Iteration: 72 Loss: 0.5305481556101205\n",
      "Iteration: 73 Loss: 0.5305139811085324\n",
      "Iteration: 74 Loss: 0.5304798297115765\n",
      "Iteration: 75 Loss: 0.5304457014036326\n",
      "Iteration: 76 Loss: 0.5304115961690907\n",
      "Iteration: 77 Loss: 0.5303775139923516\n",
      "Iteration: 78 Loss: 0.5303434548578261\n",
      "Iteration: 79 Loss: 0.5303094187499359\n",
      "Iteration: 80 Loss: 0.5302754056531128\n",
      "Iteration: 81 Loss: 0.5302414155518005\n",
      "Iteration: 82 Loss: 0.5302074484304518\n",
      "Iteration: 83 Loss: 0.5301735042735298\n",
      "Iteration: 84 Loss: 0.5301395830655098\n",
      "Iteration: 85 Loss: 0.5301056847908756\n",
      "Iteration: 86 Loss: 0.5300718094341235\n",
      "Iteration: 87 Loss: 0.5300379569797584\n",
      "Iteration: 88 Loss: 0.5300041274122963\n",
      "Iteration: 89 Loss: 0.5299703207162647\n",
      "Iteration: 90 Loss: 0.5299365368762003\n",
      "Iteration: 91 Loss: 0.5299027758766505\n",
      "Iteration: 92 Loss: 0.5298690377021738\n",
      "Iteration: 93 Loss: 0.5298353223373384\n",
      "Iteration: 94 Loss: 0.529801629766723\n",
      "Iteration: 95 Loss: 0.5297679599749169\n",
      "Iteration: 96 Loss: 0.5297343129465204\n",
      "Iteration: 97 Loss: 0.5297006886661433\n",
      "Iteration: 98 Loss: 0.529667087118406\n",
      "Iteration: 99 Loss: 0.5296335082879399\n",
      "Final w: 0.7445901437108259\n",
      "Final b: 1.677983702999759\n",
      "Final loss: 0.5296335082879399\n"
     ]
    }
   ],
   "source": [
    "# Learning rate\n",
    "learning_rate = 0.001\n",
    "\n",
    "# Gradient descent loop\n",
    "for i in range(100):\n",
    "    y_pred = model(x, w, b)\n",
    "    loss = mean_squared_error(y, y_pred)\n",
    "\n",
    "    # Calculate gradients\n",
    "    dw = np.mean(2 * x * (y_pred - y))\n",
    "    db = np.mean(2 * (y_pred - y))\n",
    "\n",
    "    # Update parameters\n",
    "    w = w - learning_rate * dw\n",
    "    b = b - learning_rate * db\n",
    "\n",
    "    print(\"Iteration:\", i, \"Loss:\", loss)\n",
    "\n",
    "# Print final parameters and loss\n",
    "print(\"Final w:\", w)\n",
    "print(\"Final b:\", b)\n",
    "print(\"Final loss:\", loss)"
   ]
  },
  {
   "cell_type": "code",
   "execution_count": 13,
   "id": "5bf3c010",
   "metadata": {
    "id": "5bf3c010",
    "outputId": "a55754b1-a712-421e-8835-e9a6eed9f03e",
    "ExecuteTime": {
     "end_time": "2024-02-16T18:33:56.540580Z",
     "start_time": "2024-02-16T18:33:56.118576Z"
    }
   },
   "outputs": [
    {
     "name": "stdout",
     "output_type": "stream",
     "text": [
      "Final w: -6963138911621.207\n",
      "Final b: -1928677824225.5952\n",
      "Final loss: 3.426775257152769e+26\n"
     ]
    },
    {
     "data": {
      "text/plain": "<Figure size 640x480 with 1 Axes>",
      "image/png": "[encoded data removed]"
     },
     "metadata": {},
     "output_type": "display_data"
    }
   ],
   "source": [
    "import numpy as np\n",
    "import matplotlib.pyplot as plt\n",
    "\n",
    "import numpy as np\n",
    "\n",
    "# Define sample data\n",
    "x = np.array([1, 2, 3, 4, 5])\n",
    "y = np.array([2, 4, 5, 4, 5])\n",
    "\n",
    "# Set initial parameters\n",
    "w = 0\n",
    "b = 0\n",
    "\n",
    "\n",
    "# Learning rate\n",
    "learning_rate = 0.001\n",
    "\n",
    "# Function to calculate predictions\n",
    "def model(x, w, b):\n",
    "    return w * x + b\n",
    "\n",
    "# Function to calculate mean squared error\n",
    "def mean_squared_error(y_true, y_pred):\n",
    "    return np.mean((y_true - y_pred)**2)\n",
    "\n",
    "# Plot initial data and line\n",
    "plt.scatter(x, y, label='Data points')\n",
    "plt.plot(x, model(x, w, b), color='red', label='Initial line')\n",
    "\n",
    "# Gradient descent loop\n",
    "for i in range(100):\n",
    "    y_pred = model(x, w, b)\n",
    "    loss = mean_squared_error(y, y_pred)\n",
    "\n",
    "    # Calculate gradients\n",
    "    dw = np.mean(2 * x * (y_pred - y))\n",
    "    db = np.mean(2 * (y_pred - y))\n",
    "\n",
    "    # Update parameters\n",
    "    w = w - learning_rate * dw\n",
    "    b = b - learning_rate * db\n",
    "\n",
    "    # Plot updated line\n",
    "    if i % 10 == 0:  # Plot every 10 iterations for better visualization\n",
    "        plt.plot(x, model(x, w, b), color='green', alpha=0.3)\n",
    "\n",
    "# Print final parameters and loss\n",
    "print(\"Final w:\", w)\n",
    "print(\"Final b:\", b)\n",
    "print(\"Final loss:\", loss)\n",
    "\n",
    "# Plot final line\n",
    "plt.plot(x, model(x, w, b), color='blue', label='Final line')\n",
    "\n",
    "# Add labels and legend\n",
    "plt.xlabel('X')\n",
    "plt.ylabel('Y')\n",
    "plt.legend()\n",
    "plt.title('Gradient Descent Visualization')\n",
    "\n",
    "# Show the plot\n",
    "plt.show()"
   ]
  },
  {
   "cell_type": "markdown",
   "id": "b24ef5e5",
   "metadata": {
    "id": "b24ef5e5"
   },
   "source": [
    "## Class activity excercise : [Intermediate Level ]\n",
    "\n",
    "Give the short inference via experiment by changing the learning rates. Write your understanding in two to three lines."
   ]
  },
  {
   "cell_type": "code",
   "execution_count": 14,
   "outputs": [
    {
     "data": {
      "text/plain": "'\\nA quick comparison,\\nWhen the learning rate at 0.009 -> The loss at 99th itteration was 0.81\\nWhen the learning rate at 0.007 -> The loss at 99th itteration was 0.64\\nWhen the learning rate at 0.005 -> The loss at 99th itteration was 0.55\\nWhen the learning rate at 0.003 -> The loss at 99th itteration was 0.53\\nWhen the learning rate at 0.001 -> The loss at 99th itteration was 0.52\\n\\nIn this we can see the as the learning rate is increased the algorithm converges quickly but, it \\nwill miss the optimal parameters.\\n\\nBut, as we decrease the learning rate algorithm takes time but, loss starts to reduce slowly\\n\\nAt one point, we cannot see much difference so, that would be our optimal learning rate.\\n'"
     },
     "execution_count": 14,
     "metadata": {},
     "output_type": "execute_result"
    }
   ],
   "source": [
    "\"\"\"\n",
    "A quick comparison,\n",
    "When the learning rate at 0.009 -> The loss at 99th itteration was 0.81\n",
    "When the learning rate at 0.007 -> The loss at 99th itteration was 0.64\n",
    "When the learning rate at 0.005 -> The loss at 99th itteration was 0.55\n",
    "When the learning rate at 0.003 -> The loss at 99th itteration was 0.53\n",
    "When the learning rate at 0.001 -> The loss at 99th itteration was 0.52\n",
    "\n",
    "In this we can see the as the learning rate is increased the algorithm converges quickly but, it \n",
    "will miss the optimal parameters.\n",
    "\n",
    "But, as we decrease the learning rate algorithm takes time but, loss starts to reduce slowly\n",
    "\n",
    "At one point, we cannot see much difference so, that would be our optimal learning rate.\n",
    "\"\"\""
   ],
   "metadata": {
    "collapsed": false,
    "ExecuteTime": {
     "end_time": "2024-02-16T18:37:33.431323Z",
     "start_time": "2024-02-16T18:37:33.404878Z"
    }
   },
   "id": "ef7873bde157f152"
  },
  {
   "cell_type": "code",
   "execution_count": null,
   "outputs": [],
   "source": [],
   "metadata": {
    "collapsed": false
   },
   "id": "2555a78be507a52"
  }
 ],
 "metadata": {
  "colab": {
   "provenance": []
  },
  "kernelspec": {
   "display_name": "Python 3 (ipykernel)",
   "language": "python",
   "name": "python3"
  },
  "language_info": {
   "codemirror_mode": {
    "name": "ipython",
    "version": 3
   },
   "file_extension": ".py",
   "mimetype": "text/x-python",
   "name": "python",
   "nbconvert_exporter": "python",
   "pygments_lexer": "ipython3",
   "version": "3.11.5"
  }
 },
 "nbformat": 4,
 "nbformat_minor": 5
}
