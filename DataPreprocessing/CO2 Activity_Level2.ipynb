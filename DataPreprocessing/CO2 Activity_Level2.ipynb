{
 "cells": [
  {
   "cell_type": "markdown",
   "metadata": {
    "id": "5LDXR7RZ9P9M"
   },
   "source": [
    "## CO 2:Data Preprocessing\n"
   ]
  },
  {
   "cell_type": "markdown",
   "metadata": {
    "id": "iywSfAgf9dsM"
   },
   "source": [
    "**Example problems**"
   ]
  },
  {
   "cell_type": "code",
   "execution_count": 1,
   "metadata": {
    "id": "QAk4yo5j9IdF",
    "ExecuteTime": {
     "end_time": "2024-02-03T17:56:20.996376Z",
     "start_time": "2024-02-03T17:56:20.984561Z"
    }
   },
   "outputs": [],
   "source": [
    "import numpy as np\n",
    "import pandas as pd\n",
    "import matplotlib.pyplot as plt\n",
    "import seaborn as sns"
   ]
  },
  {
   "cell_type": "code",
   "execution_count": 65,
   "metadata": {
    "colab": {
     "base_uri": "https://localhost:8080/",
     "height": 175
    },
    "executionInfo": {
     "elapsed": 4913,
     "status": "ok",
     "timestamp": 1706515119665,
     "user": {
      "displayName": "Achala Hegde",
      "userId": "16272186569959107554"
     },
     "user_tz": -330
    },
    "id": "0TvBhDoo9IdR",
    "outputId": "5e916cbe-9efa-4dff-dbbd-0ec7d244124d",
    "ExecuteTime": {
     "end_time": "2024-02-03T19:39:16.285796Z",
     "start_time": "2024-02-03T19:39:16.224253Z"
    }
   },
   "outputs": [
    {
     "data": {
      "text/plain": "   sl_no gender  hsc_p     hsc_s  degree_p   degree_t  etest_p specialisation  \\\n0      1      M  91.00  Commerce     58.00   Sci&Tech     55.0         Mkt&HR   \n1      2      M  78.33   Science     77.48   Sci&Tech     86.5        Mkt&Fin   \n2      3      M    NaN      Arts     64.00  Comm&Mgmt     75.0        Mkt&Fin   \n3      4      M  52.00   Science       NaN   Sci&Tech     66.0         Mkt&HR   \n\n   mba_p    salary  \n0  58.80  270000.0  \n1  66.28  200000.0  \n2  57.80  250000.0  \n3  59.43       NaN  ",
      "text/html": "<div>\n<style scoped>\n    .dataframe tbody tr th:only-of-type {\n        vertical-align: middle;\n    }\n\n    .dataframe tbody tr th {\n        vertical-align: top;\n    }\n\n    .dataframe thead th {\n        text-align: right;\n    }\n</style>\n<table border=\"1\" class=\"dataframe\">\n  <thead>\n    <tr style=\"text-align: right;\">\n      <th></th>\n      <th>sl_no</th>\n      <th>gender</th>\n      <th>hsc_p</th>\n      <th>hsc_s</th>\n      <th>degree_p</th>\n      <th>degree_t</th>\n      <th>etest_p</th>\n      <th>specialisation</th>\n      <th>mba_p</th>\n      <th>salary</th>\n    </tr>\n  </thead>\n  <tbody>\n    <tr>\n      <th>0</th>\n      <td>1</td>\n      <td>M</td>\n      <td>91.00</td>\n      <td>Commerce</td>\n      <td>58.00</td>\n      <td>Sci&amp;Tech</td>\n      <td>55.0</td>\n      <td>Mkt&amp;HR</td>\n      <td>58.80</td>\n      <td>270000.0</td>\n    </tr>\n    <tr>\n      <th>1</th>\n      <td>2</td>\n      <td>M</td>\n      <td>78.33</td>\n      <td>Science</td>\n      <td>77.48</td>\n      <td>Sci&amp;Tech</td>\n      <td>86.5</td>\n      <td>Mkt&amp;Fin</td>\n      <td>66.28</td>\n      <td>200000.0</td>\n    </tr>\n    <tr>\n      <th>2</th>\n      <td>3</td>\n      <td>M</td>\n      <td>NaN</td>\n      <td>Arts</td>\n      <td>64.00</td>\n      <td>Comm&amp;Mgmt</td>\n      <td>75.0</td>\n      <td>Mkt&amp;Fin</td>\n      <td>57.80</td>\n      <td>250000.0</td>\n    </tr>\n    <tr>\n      <th>3</th>\n      <td>4</td>\n      <td>M</td>\n      <td>52.00</td>\n      <td>Science</td>\n      <td>NaN</td>\n      <td>Sci&amp;Tech</td>\n      <td>66.0</td>\n      <td>Mkt&amp;HR</td>\n      <td>59.43</td>\n      <td>NaN</td>\n    </tr>\n  </tbody>\n</table>\n</div>"
     },
     "execution_count": 65,
     "metadata": {},
     "output_type": "execute_result"
    }
   ],
   "source": [
    "data=pd.read_csv(\"Placement_Data.csv\")\n",
    "data.head(4)"
   ]
  },
  {
   "cell_type": "markdown",
   "metadata": {
    "id": "Z0FRvPZX9IdU"
   },
   "source": [
    "# Handling missing values"
   ]
  },
  {
   "cell_type": "markdown",
   "metadata": {
    "id": "ZZBG6kfrFVWa"
   },
   "source": [
    "Calculate the number of null values in each column"
   ]
  },
  {
   "cell_type": "code",
   "execution_count": 3,
   "metadata": {
    "colab": {
     "base_uri": "https://localhost:8080/"
    },
    "executionInfo": {
     "elapsed": 480,
     "status": "ok",
     "timestamp": 1706515128453,
     "user": {
      "displayName": "Achala Hegde",
      "userId": "16272186569959107554"
     },
     "user_tz": -330
    },
    "id": "-awfqKtg9Ida",
    "outputId": "00231b04-dfb5-447c-8112-7e009e2c17f7",
    "ExecuteTime": {
     "end_time": "2024-02-03T17:56:25.829831Z",
     "start_time": "2024-02-03T17:56:25.625104Z"
    }
   },
   "outputs": [
    {
     "data": {
      "text/plain": "sl_no              0\ngender             0\nhsc_p              5\nhsc_s              0\ndegree_p           2\ndegree_t           0\netest_p            4\nspecialisation     0\nmba_p              1\nsalary            67\ndtype: int64"
     },
     "execution_count": 3,
     "metadata": {},
     "output_type": "execute_result"
    }
   ],
   "source": [
    "data.isnull().sum()"
   ]
  },
  {
   "cell_type": "markdown",
   "metadata": {
    "id": "zolw6DnAFcnm"
   },
   "source": [
    "Replace missing values in features that have less than 20 percent null values with appropriate measures."
   ]
  },
  {
   "cell_type": "code",
   "execution_count": 4,
   "metadata": {
    "id": "kd6o2A4t9Idc",
    "ExecuteTime": {
     "end_time": "2024-02-03T17:56:28.742144Z",
     "start_time": "2024-02-03T17:56:28.685389Z"
    }
   },
   "outputs": [],
   "source": [
    "hsc_p_mean = data['hsc_p'].mean()\n",
    "etest_p_mean = data['etest_p'].mean()\n",
    "degree_p_mean= data['degree_p'].mean()\n",
    "mba_p_mean = data['mba_p'].mean()\n",
    "\n",
    "\n",
    "data['hsc_p'].fillna(hsc_p_mean, inplace=True)\n",
    "data['etest_p'].fillna(etest_p_mean, inplace=True)\n",
    "data['degree_p'].fillna(degree_p_mean, inplace=True)\n",
    "data['mba_p'].fillna(mba_p_mean, inplace=True)\n"
   ]
  },
  {
   "cell_type": "markdown",
   "metadata": {
    "id": "blgndIyGGHRm"
   },
   "source": [
    "Remove all the rows where the salary column has null values"
   ]
  },
  {
   "cell_type": "code",
   "execution_count": 5,
   "metadata": {
    "id": "P6RMC6Yb9Idh",
    "ExecuteTime": {
     "end_time": "2024-02-03T17:56:31.161194Z",
     "start_time": "2024-02-03T17:56:31.116706Z"
    }
   },
   "outputs": [],
   "source": [
    "data.dropna(subset=['salary'], inplace=True)"
   ]
  },
  {
   "cell_type": "code",
   "execution_count": 6,
   "metadata": {
    "colab": {
     "base_uri": "https://localhost:8080/"
    },
    "executionInfo": {
     "elapsed": 25,
     "status": "ok",
     "timestamp": 1706515139332,
     "user": {
      "displayName": "Achala Hegde",
      "userId": "16272186569959107554"
     },
     "user_tz": -330
    },
    "id": "WATCc4oK9Idj",
    "outputId": "fd2d93c5-1394-4daa-f2c3-014d59e47ad7",
    "ExecuteTime": {
     "end_time": "2024-02-03T17:56:31.833789Z",
     "start_time": "2024-02-03T17:56:31.753652Z"
    }
   },
   "outputs": [
    {
     "data": {
      "text/plain": "sl_no             0\ngender            0\nhsc_p             0\nhsc_s             0\ndegree_p          0\ndegree_t          0\netest_p           0\nspecialisation    0\nmba_p             0\nsalary            0\ndtype: int64"
     },
     "execution_count": 6,
     "metadata": {},
     "output_type": "execute_result"
    }
   ],
   "source": [
    "data.isna().sum()"
   ]
  },
  {
   "cell_type": "markdown",
   "metadata": {
    "id": "4SYAlrDA9Idm"
   },
   "source": [
    "#Detecting Outliers:\n",
    "1.Visualization (Box Plot):"
   ]
  },
  {
   "cell_type": "markdown",
   "metadata": {
    "id": "TKFUBt44GfvK"
   },
   "source": [
    "Check for outlayers using boxplot."
   ]
  },
  {
   "cell_type": "code",
   "execution_count": 7,
   "metadata": {
    "colab": {
     "base_uri": "https://localhost:8080/",
     "height": 568
    },
    "executionInfo": {
     "elapsed": 19,
     "status": "ok",
     "timestamp": 1706515193425,
     "user": {
      "displayName": "Achala Hegde",
      "userId": "16272186569959107554"
     },
     "user_tz": -330
    },
    "id": "zZbfg4gh9Ido",
    "outputId": "59e3ad67-cb04-417a-fcaf-892fe8fc3378",
    "ExecuteTime": {
     "end_time": "2024-02-03T17:56:37.929494Z",
     "start_time": "2024-02-03T17:56:37.219956Z"
    }
   },
   "outputs": [
    {
     "data": {
      "text/plain": "<Figure size 640x480 with 1 Axes>",
      "image/png": "[encoded data removed]"
     },
     "metadata": {},
     "output_type": "display_data"
    }
   ],
   "source": [
    "# import matplotlib.pyplot as plt\n",
    "# import seaborn as sns\n",
    "# plt.figure(figsize=(5, 6))\n",
    "sns.boxplot(data)\n",
    "plt.title('Detecting outliers through box-plot')\n",
    "# plt.xticks(rotation=90)\n",
    "plt.show()"
   ]
  },
  {
   "cell_type": "markdown",
   "metadata": {
    "id": "FHpnB4bK9Idr"
   },
   "source": [
    "2. Using Z-Scores"
   ]
  },
  {
   "cell_type": "markdown",
   "metadata": {
    "id": "KEgw4coHGp-M"
   },
   "source": [
    "Cheak for outlayers using Z-scores method."
   ]
  },
  {
   "cell_type": "code",
   "execution_count": 8,
   "metadata": {
    "colab": {
     "base_uri": "https://localhost:8080/"
    },
    "executionInfo": {
     "elapsed": 459,
     "status": "ok",
     "timestamp": 1705999940165,
     "user": {
      "displayName": "Achala Hegde",
      "userId": "16272186569959107554"
     },
     "user_tz": -330
    },
    "id": "8U8NFk9c9Ids",
    "outputId": "0df375fd-740a-4bae-f4cf-ecfc98501c65",
    "ExecuteTime": {
     "end_time": "2024-02-03T17:57:05.890462Z",
     "start_time": "2024-02-03T17:57:05.728196Z"
    }
   },
   "outputs": [
    {
     "name": "stdout",
     "output_type": "stream",
     "text": [
      "Rows with Outliers:\n",
      "119    940000.0\n",
      "150    690000.0\n",
      "177    650000.0\n",
      "Name: salary, dtype: float64\n"
     ]
    }
   ],
   "source": [
    "#another library to compute z_score which can be used to detect outliers\n",
    "from scipy import stats\n",
    "\n",
    "\n",
    "# Specify columns to check for outliers\n",
    "columns_to_check = ['salary']\n",
    "# Calculate Z-scores for each column\n",
    "z_scores = stats.zscore(data[columns_to_check])\n",
    "\n",
    "# Define a threshold for outlier detection (e.g., 3 standard deviations)\n",
    "threshold = 3\n",
    "outlier_indices = (z_scores > threshold).any(axis=1)\n",
    "outliers_df = data[outlier_indices]\n",
    "\n",
    "print(\"Rows with Outliers:\")\n",
    "print(outliers_df['salary'])\n"
   ]
  },
  {
   "cell_type": "markdown",
   "metadata": {
    "id": "nbnqSBpU9Idu"
   },
   "source": [
    "# Handling outliers\n",
    "\n",
    "1. Remove Outliers:"
   ]
  },
  {
   "cell_type": "markdown",
   "metadata": {
    "id": "wb-XWMKkG__2"
   },
   "source": [
    "Remove outlayers using the following three methods."
   ]
  },
  {
   "cell_type": "code",
   "execution_count": 15,
   "metadata": {
    "id": "4wfs8RXx9Idv",
    "ExecuteTime": {
     "end_time": "2024-02-03T18:42:47.604645Z",
     "start_time": "2024-02-03T18:42:45.958275Z"
    }
   },
   "outputs": [
    {
     "data": {
      "text/plain": "Index(['sl_no', 'gender', 'hsc_p', 'hsc_s', 'degree_p', 'degree_t', 'etest_p',\n       'specialisation', 'mba_p', 'salary'],\n      dtype='object')"
     },
     "execution_count": 15,
     "metadata": {},
     "output_type": "execute_result"
    },
    {
     "data": {
      "text/plain": "<Figure size 300x2000 with 6 Axes>",
      "image/png": "[encoded data removed]"
     },
     "metadata": {},
     "output_type": "display_data"
    }
   ],
   "source": [
    "# Plotting box-plot for multiple columns to see the outliers clearly\n",
    "plt.figure(figsize=(3, 20))\n",
    "\n",
    "plt.subplot(6, 1, 1)\n",
    "sns.boxplot(data['sl_no'])\n",
    "\n",
    "plt.subplot(6, 1, 2)\n",
    "sns.boxplot(data['hsc_p'])\n",
    "\n",
    "plt.subplot(6, 1, 3)\n",
    "sns.boxplot(data['degree_p'])\n",
    "\n",
    "plt.subplot(6, 1, 4)\n",
    "sns.boxplot(data['etest_p'])\n",
    "\n",
    "plt.subplot(6, 1, 5)\n",
    "sns.boxplot(data['mba_p'])\n",
    "\n",
    "plt.subplot(6, 1, 6)\n",
    "sns.boxplot(data['salary'])\n",
    "\n",
    "data.columns"
   ]
  },
  {
   "cell_type": "code",
   "execution_count": 34,
   "outputs": [
    {
     "data": {
      "text/plain": "<Axes: ylabel='salary'>"
     },
     "execution_count": 34,
     "metadata": {},
     "output_type": "execute_result"
    },
    {
     "data": {
      "text/plain": "<Figure size 300x2000 with 6 Axes>",
      "image/png": "[encoded data removed]"
     },
     "metadata": {},
     "output_type": "display_data"
    }
   ],
   "source": [
    "# Removing outliers using Z-score method\n",
    "# Formula : z = (X — mu) / sigma\n",
    "z_scores = stats.zscore(data[['sl_no', 'hsc_p', 'degree_p', 'etest_p', 'mba_p', 'salary']])\n",
    "threshold = 3\n",
    "outliersRemoved = data[abs(z_scores) < (threshold)]\n",
    "\n",
    "plt.figure(figsize=(3, 20))\n",
    "\n",
    "# We can even plot for each column and check whether the outliers are removed or not\n",
    "plt.subplot(6, 1, 1)\n",
    "sns.boxplot(outliersRemovedIQR['sl_no'])\n",
    "\n",
    "plt.subplot(6, 1, 2)\n",
    "sns.boxplot(outliersRemovedIQR['hsc_p'])\n",
    "\n",
    "plt.subplot(6, 1, 3)\n",
    "sns.boxplot(outliersRemovedIQR['degree_p'])\n",
    "\n",
    "plt.subplot(6, 1, 4)\n",
    "sns.boxplot(outliersRemovedIQR['etest_p'])\n",
    "\n",
    "plt.subplot(6, 1, 5)\n",
    "sns.boxplot(outliersRemovedIQR['mba_p'])\n",
    "\n",
    "plt.subplot(6, 1, 6)\n",
    "sns.boxplot(outliersRemovedIQR['salary'])\n"
   ],
   "metadata": {
    "collapsed": false,
    "ExecuteTime": {
     "end_time": "2024-02-03T18:57:43.065306Z",
     "start_time": "2024-02-03T18:57:42.073048Z"
    }
   }
  },
  {
   "cell_type": "markdown",
   "metadata": {
    "id": "VqCPJSKc9Idw"
   },
   "source": [
    "2.Quantile-Based Capping and Flooring:"
   ]
  },
  {
   "cell_type": "code",
   "execution_count": 36,
   "metadata": {
    "id": "IVW4CKtG9Idx",
    "ExecuteTime": {
     "end_time": "2024-02-03T18:57:55.803027Z",
     "start_time": "2024-02-03T18:57:55.784616Z"
    }
   },
   "outputs": [],
   "source": [
    "# Cap and floor values using quantiles\n",
    "# Formula : IQR = Q3 - Q1\n",
    "\n",
    "# Calculate Q1, Q2 and IQR\n",
    "Q1 = data[['sl_no', 'hsc_p', 'degree_p', 'etest_p', 'mba_p', 'salary']].quantile(0.25)\n",
    "Q3 = data[['sl_no', 'hsc_p', 'degree_p', 'etest_p', 'mba_p', 'salary']].quantile(0.75)\n",
    "\n",
    "IQR = Q3 - Q1\n",
    "\n",
    "# Calculate the lower and upper limits for outlier detection\n",
    "lower_limit = Q1 - 1.5 * IQR\n",
    "upper_limit = Q3 + 1.5 * IQR\n",
    "\n",
    "# Remove outliers\n",
    "outliersRemovedIQR = data[~((data[['sl_no', 'hsc_p', 'degree_p', 'etest_p', 'mba_p', 'salary']] < lower_limit) | (data[['sl_no', 'hsc_p', 'degree_p', 'etest_p', 'mba_p', 'salary']] > upper_limit)).any(axis=1)]\n"
   ]
  },
  {
   "cell_type": "code",
   "execution_count": null,
   "outputs": [],
   "source": [
    "# Plotting the box-plot for the salary column after removing the outliers using IQR method\n",
    "sns.boxplot(outliersRemovedIQR['salary'])"
   ],
   "metadata": {
    "collapsed": false
   }
  },
  {
   "cell_type": "code",
   "execution_count": 33,
   "outputs": [
    {
     "data": {
      "text/plain": "<Axes: ylabel='salary'>"
     },
     "execution_count": 33,
     "metadata": {},
     "output_type": "execute_result"
    },
    {
     "data": {
      "text/plain": "<Figure size 300x2000 with 6 Axes>",
      "image/png": "[encoded data removed]"
     },
     "metadata": {},
     "output_type": "display_data"
    }
   ],
   "source": [
    "plt.figure(figsize=(3, 20))\n",
    "\n",
    "# We can even plot for each column and check whether the outliers are removed or not\n",
    "plt.subplot(6, 1, 1)\n",
    "sns.boxplot(outliersRemovedIQR['sl_no'])\n",
    "\n",
    "plt.subplot(6, 1, 2)\n",
    "sns.boxplot(outliersRemovedIQR['hsc_p'])\n",
    "\n",
    "plt.subplot(6, 1, 3)\n",
    "sns.boxplot(outliersRemovedIQR['degree_p'])\n",
    "\n",
    "plt.subplot(6, 1, 4)\n",
    "sns.boxplot(outliersRemovedIQR['etest_p'])\n",
    "\n",
    "plt.subplot(6, 1, 5)\n",
    "sns.boxplot(outliersRemovedIQR['mba_p'])\n",
    "\n",
    "plt.subplot(6, 1, 6)\n",
    "sns.boxplot(outliersRemovedIQR['salary'])"
   ],
   "metadata": {
    "collapsed": false,
    "ExecuteTime": {
     "end_time": "2024-02-03T18:55:00.528177Z",
     "start_time": "2024-02-03T18:54:59.705355Z"
    }
   }
  },
  {
   "cell_type": "markdown",
   "metadata": {
    "id": "nCUDSgQy9Idy"
   },
   "source": [
    "3. Mean/Median Imputation:"
   ]
  },
  {
   "cell_type": "code",
   "execution_count": 85,
   "metadata": {
    "id": "8D8qJ9vi9Idz",
    "ExecuteTime": {
     "end_time": "2024-02-03T19:48:50.044043Z",
     "start_time": "2024-02-03T19:48:49.948372Z"
    }
   },
   "outputs": [
    {
     "name": "stdout",
     "output_type": "stream",
     "text": [
      "Df before imputation\n"
     ]
    },
    {
     "data": {
      "text/plain": "     sl_no  hsc_p  degree_p  etest_p  mba_p    salary\n0        1  91.00     58.00     55.0  58.80  270000.0\n1        2  78.33     77.48     86.5  66.28  200000.0\n2        3    NaN     64.00     75.0  57.80  250000.0\n3        4  52.00       NaN     66.0  59.43       NaN\n4        5  73.60     73.30     96.8  55.50  425000.0\n..     ...    ...       ...      ...    ...       ...\n210    211  82.00     77.60     91.0  74.49  400000.0\n211    212  60.00     72.00     74.0  53.62  275000.0\n212    213  67.00     73.00     59.0  69.72  295000.0\n213    214  66.00     58.00     70.0  60.23  204000.0\n214    215  58.00     53.00     89.0  60.22       NaN\n\n[215 rows x 6 columns]",
      "text/html": "<div>\n<style scoped>\n    .dataframe tbody tr th:only-of-type {\n        vertical-align: middle;\n    }\n\n    .dataframe tbody tr th {\n        vertical-align: top;\n    }\n\n    .dataframe thead th {\n        text-align: right;\n    }\n</style>\n<table border=\"1\" class=\"dataframe\">\n  <thead>\n    <tr style=\"text-align: right;\">\n      <th></th>\n      <th>sl_no</th>\n      <th>hsc_p</th>\n      <th>degree_p</th>\n      <th>etest_p</th>\n      <th>mba_p</th>\n      <th>salary</th>\n    </tr>\n  </thead>\n  <tbody>\n    <tr>\n      <th>0</th>\n      <td>1</td>\n      <td>91.00</td>\n      <td>58.00</td>\n      <td>55.0</td>\n      <td>58.80</td>\n      <td>270000.0</td>\n    </tr>\n    <tr>\n      <th>1</th>\n      <td>2</td>\n      <td>78.33</td>\n      <td>77.48</td>\n      <td>86.5</td>\n      <td>66.28</td>\n      <td>200000.0</td>\n    </tr>\n    <tr>\n      <th>2</th>\n      <td>3</td>\n      <td>NaN</td>\n      <td>64.00</td>\n      <td>75.0</td>\n      <td>57.80</td>\n      <td>250000.0</td>\n    </tr>\n    <tr>\n      <th>3</th>\n      <td>4</td>\n      <td>52.00</td>\n      <td>NaN</td>\n      <td>66.0</td>\n      <td>59.43</td>\n      <td>NaN</td>\n    </tr>\n    <tr>\n      <th>4</th>\n      <td>5</td>\n      <td>73.60</td>\n      <td>73.30</td>\n      <td>96.8</td>\n      <td>55.50</td>\n      <td>425000.0</td>\n    </tr>\n    <tr>\n      <th>...</th>\n      <td>...</td>\n      <td>...</td>\n      <td>...</td>\n      <td>...</td>\n      <td>...</td>\n      <td>...</td>\n    </tr>\n    <tr>\n      <th>210</th>\n      <td>211</td>\n      <td>82.00</td>\n      <td>77.60</td>\n      <td>91.0</td>\n      <td>74.49</td>\n      <td>400000.0</td>\n    </tr>\n    <tr>\n      <th>211</th>\n      <td>212</td>\n      <td>60.00</td>\n      <td>72.00</td>\n      <td>74.0</td>\n      <td>53.62</td>\n      <td>275000.0</td>\n    </tr>\n    <tr>\n      <th>212</th>\n      <td>213</td>\n      <td>67.00</td>\n      <td>73.00</td>\n      <td>59.0</td>\n      <td>69.72</td>\n      <td>295000.0</td>\n    </tr>\n    <tr>\n      <th>213</th>\n      <td>214</td>\n      <td>66.00</td>\n      <td>58.00</td>\n      <td>70.0</td>\n      <td>60.23</td>\n      <td>204000.0</td>\n    </tr>\n    <tr>\n      <th>214</th>\n      <td>215</td>\n      <td>58.00</td>\n      <td>53.00</td>\n      <td>89.0</td>\n      <td>60.22</td>\n      <td>NaN</td>\n    </tr>\n  </tbody>\n</table>\n<p>215 rows × 6 columns</p>\n</div>"
     },
     "execution_count": 85,
     "metadata": {},
     "output_type": "execute_result"
    }
   ],
   "source": [
    "# Removing outliers using Mean/Median Imputation method\n",
    "# Considering only the columns with numerical values\n",
    "\n",
    "meanImputation = data.copy()\n",
    "meanImputation = meanImputation[['sl_no', 'hsc_p', 'degree_p', 'etest_p', 'mba_p', 'salary']]\n",
    "\n",
    "print(\"Df before imputation\")\n",
    "meanImputation"
   ]
  },
  {
   "cell_type": "code",
   "execution_count": 87,
   "outputs": [
    {
     "name": "stdout",
     "output_type": "stream",
     "text": [
      "Df after imputation\n"
     ]
    },
    {
     "data": {
      "text/plain": "     sl_no   hsc_p  degree_p  etest_p  mba_p         salary\n0        1  91.000  58.00000     55.0  58.80  270000.000000\n1        2  78.330  77.48000     86.5  66.28  200000.000000\n2        3  66.503  64.00000     75.0  57.80  250000.000000\n3        4  52.000  66.42061     66.0  59.43  288655.405405\n4        5  73.600  73.30000     96.8  55.50  425000.000000\n..     ...     ...       ...      ...    ...            ...\n210    211  82.000  77.60000     91.0  74.49  400000.000000\n211    212  60.000  72.00000     74.0  53.62  275000.000000\n212    213  67.000  73.00000     59.0  69.72  295000.000000\n213    214  66.000  58.00000     70.0  60.23  204000.000000\n214    215  58.000  53.00000     89.0  60.22  288655.405405\n\n[215 rows x 6 columns]",
      "text/html": "<div>\n<style scoped>\n    .dataframe tbody tr th:only-of-type {\n        vertical-align: middle;\n    }\n\n    .dataframe tbody tr th {\n        vertical-align: top;\n    }\n\n    .dataframe thead th {\n        text-align: right;\n    }\n</style>\n<table border=\"1\" class=\"dataframe\">\n  <thead>\n    <tr style=\"text-align: right;\">\n      <th></th>\n      <th>sl_no</th>\n      <th>hsc_p</th>\n      <th>degree_p</th>\n      <th>etest_p</th>\n      <th>mba_p</th>\n      <th>salary</th>\n    </tr>\n  </thead>\n  <tbody>\n    <tr>\n      <th>0</th>\n      <td>1</td>\n      <td>91.000</td>\n      <td>58.00000</td>\n      <td>55.0</td>\n      <td>58.80</td>\n      <td>270000.000000</td>\n    </tr>\n    <tr>\n      <th>1</th>\n      <td>2</td>\n      <td>78.330</td>\n      <td>77.48000</td>\n      <td>86.5</td>\n      <td>66.28</td>\n      <td>200000.000000</td>\n    </tr>\n    <tr>\n      <th>2</th>\n      <td>3</td>\n      <td>66.503</td>\n      <td>64.00000</td>\n      <td>75.0</td>\n      <td>57.80</td>\n      <td>250000.000000</td>\n    </tr>\n    <tr>\n      <th>3</th>\n      <td>4</td>\n      <td>52.000</td>\n      <td>66.42061</td>\n      <td>66.0</td>\n      <td>59.43</td>\n      <td>288655.405405</td>\n    </tr>\n    <tr>\n      <th>4</th>\n      <td>5</td>\n      <td>73.600</td>\n      <td>73.30000</td>\n      <td>96.8</td>\n      <td>55.50</td>\n      <td>425000.000000</td>\n    </tr>\n    <tr>\n      <th>...</th>\n      <td>...</td>\n      <td>...</td>\n      <td>...</td>\n      <td>...</td>\n      <td>...</td>\n      <td>...</td>\n    </tr>\n    <tr>\n      <th>210</th>\n      <td>211</td>\n      <td>82.000</td>\n      <td>77.60000</td>\n      <td>91.0</td>\n      <td>74.49</td>\n      <td>400000.000000</td>\n    </tr>\n    <tr>\n      <th>211</th>\n      <td>212</td>\n      <td>60.000</td>\n      <td>72.00000</td>\n      <td>74.0</td>\n      <td>53.62</td>\n      <td>275000.000000</td>\n    </tr>\n    <tr>\n      <th>212</th>\n      <td>213</td>\n      <td>67.000</td>\n      <td>73.00000</td>\n      <td>59.0</td>\n      <td>69.72</td>\n      <td>295000.000000</td>\n    </tr>\n    <tr>\n      <th>213</th>\n      <td>214</td>\n      <td>66.000</td>\n      <td>58.00000</td>\n      <td>70.0</td>\n      <td>60.23</td>\n      <td>204000.000000</td>\n    </tr>\n    <tr>\n      <th>214</th>\n      <td>215</td>\n      <td>58.000</td>\n      <td>53.00000</td>\n      <td>89.0</td>\n      <td>60.22</td>\n      <td>288655.405405</td>\n    </tr>\n  </tbody>\n</table>\n<p>215 rows × 6 columns</p>\n</div>"
     },
     "execution_count": 87,
     "metadata": {},
     "output_type": "execute_result"
    }
   ],
   "source": [
    "imputedMean = meanImputation.fillna((meanImputation.mean()), axis=0)\n",
    "print(\"Df after imputation\")\n",
    "imputedMean"
   ],
   "metadata": {
    "collapsed": false,
    "ExecuteTime": {
     "end_time": "2024-02-03T19:49:19.131168Z",
     "start_time": "2024-02-03T19:49:19.057356Z"
    }
   }
  },
  {
   "cell_type": "code",
   "execution_count": 91,
   "outputs": [
    {
     "name": "stdout",
     "output_type": "stream",
     "text": [
      "Before imputation\n"
     ]
    },
    {
     "data": {
      "text/plain": "     sl_no  hsc_p  degree_p  etest_p  mba_p    salary\n0        1  91.00     58.00     55.0  58.80  270000.0\n1        2  78.33     77.48     86.5  66.28  200000.0\n2        3    NaN     64.00     75.0  57.80  250000.0\n3        4  52.00       NaN     66.0  59.43       NaN\n4        5  73.60     73.30     96.8  55.50  425000.0\n..     ...    ...       ...      ...    ...       ...\n210    211  82.00     77.60     91.0  74.49  400000.0\n211    212  60.00     72.00     74.0  53.62  275000.0\n212    213  67.00     73.00     59.0  69.72  295000.0\n213    214  66.00     58.00     70.0  60.23  204000.0\n214    215  58.00     53.00     89.0  60.22       NaN\n\n[215 rows x 6 columns]",
      "text/html": "<div>\n<style scoped>\n    .dataframe tbody tr th:only-of-type {\n        vertical-align: middle;\n    }\n\n    .dataframe tbody tr th {\n        vertical-align: top;\n    }\n\n    .dataframe thead th {\n        text-align: right;\n    }\n</style>\n<table border=\"1\" class=\"dataframe\">\n  <thead>\n    <tr style=\"text-align: right;\">\n      <th></th>\n      <th>sl_no</th>\n      <th>hsc_p</th>\n      <th>degree_p</th>\n      <th>etest_p</th>\n      <th>mba_p</th>\n      <th>salary</th>\n    </tr>\n  </thead>\n  <tbody>\n    <tr>\n      <th>0</th>\n      <td>1</td>\n      <td>91.00</td>\n      <td>58.00</td>\n      <td>55.0</td>\n      <td>58.80</td>\n      <td>270000.0</td>\n    </tr>\n    <tr>\n      <th>1</th>\n      <td>2</td>\n      <td>78.33</td>\n      <td>77.48</td>\n      <td>86.5</td>\n      <td>66.28</td>\n      <td>200000.0</td>\n    </tr>\n    <tr>\n      <th>2</th>\n      <td>3</td>\n      <td>NaN</td>\n      <td>64.00</td>\n      <td>75.0</td>\n      <td>57.80</td>\n      <td>250000.0</td>\n    </tr>\n    <tr>\n      <th>3</th>\n      <td>4</td>\n      <td>52.00</td>\n      <td>NaN</td>\n      <td>66.0</td>\n      <td>59.43</td>\n      <td>NaN</td>\n    </tr>\n    <tr>\n      <th>4</th>\n      <td>5</td>\n      <td>73.60</td>\n      <td>73.30</td>\n      <td>96.8</td>\n      <td>55.50</td>\n      <td>425000.0</td>\n    </tr>\n    <tr>\n      <th>...</th>\n      <td>...</td>\n      <td>...</td>\n      <td>...</td>\n      <td>...</td>\n      <td>...</td>\n      <td>...</td>\n    </tr>\n    <tr>\n      <th>210</th>\n      <td>211</td>\n      <td>82.00</td>\n      <td>77.60</td>\n      <td>91.0</td>\n      <td>74.49</td>\n      <td>400000.0</td>\n    </tr>\n    <tr>\n      <th>211</th>\n      <td>212</td>\n      <td>60.00</td>\n      <td>72.00</td>\n      <td>74.0</td>\n      <td>53.62</td>\n      <td>275000.0</td>\n    </tr>\n    <tr>\n      <th>212</th>\n      <td>213</td>\n      <td>67.00</td>\n      <td>73.00</td>\n      <td>59.0</td>\n      <td>69.72</td>\n      <td>295000.0</td>\n    </tr>\n    <tr>\n      <th>213</th>\n      <td>214</td>\n      <td>66.00</td>\n      <td>58.00</td>\n      <td>70.0</td>\n      <td>60.23</td>\n      <td>204000.0</td>\n    </tr>\n    <tr>\n      <th>214</th>\n      <td>215</td>\n      <td>58.00</td>\n      <td>53.00</td>\n      <td>89.0</td>\n      <td>60.22</td>\n      <td>NaN</td>\n    </tr>\n  </tbody>\n</table>\n<p>215 rows × 6 columns</p>\n</div>"
     },
     "execution_count": 91,
     "metadata": {},
     "output_type": "execute_result"
    }
   ],
   "source": [
    "# Mean Imputation : Filling the null values with median\n",
    "meanImputation = data.copy()\n",
    "meanImputation = meanImputation[['sl_no', 'hsc_p', 'degree_p', 'etest_p', 'mba_p', 'salary']]\n",
    "print(\"Before imputation\")\n",
    "meanImputation"
   ],
   "metadata": {
    "collapsed": false,
    "ExecuteTime": {
     "end_time": "2024-02-03T19:51:39.104430Z",
     "start_time": "2024-02-03T19:51:39.073400Z"
    }
   }
  },
  {
   "cell_type": "code",
   "execution_count": 92,
   "outputs": [
    {
     "name": "stdout",
     "output_type": "stream",
     "text": [
      "After imputation\n"
     ]
    },
    {
     "data": {
      "text/plain": "     sl_no  hsc_p  degree_p  etest_p  mba_p    salary\n0        1  91.00     58.00     55.0  58.80  270000.0\n1        2  78.33     77.48     86.5  66.28  200000.0\n2        3  65.00     64.00     75.0  57.80  250000.0\n3        4  52.00     66.00     66.0  59.43  265000.0\n4        5  73.60     73.30     96.8  55.50  425000.0\n..     ...    ...       ...      ...    ...       ...\n210    211  82.00     77.60     91.0  74.49  400000.0\n211    212  60.00     72.00     74.0  53.62  275000.0\n212    213  67.00     73.00     59.0  69.72  295000.0\n213    214  66.00     58.00     70.0  60.23  204000.0\n214    215  58.00     53.00     89.0  60.22  265000.0\n\n[215 rows x 6 columns]",
      "text/html": "<div>\n<style scoped>\n    .dataframe tbody tr th:only-of-type {\n        vertical-align: middle;\n    }\n\n    .dataframe tbody tr th {\n        vertical-align: top;\n    }\n\n    .dataframe thead th {\n        text-align: right;\n    }\n</style>\n<table border=\"1\" class=\"dataframe\">\n  <thead>\n    <tr style=\"text-align: right;\">\n      <th></th>\n      <th>sl_no</th>\n      <th>hsc_p</th>\n      <th>degree_p</th>\n      <th>etest_p</th>\n      <th>mba_p</th>\n      <th>salary</th>\n    </tr>\n  </thead>\n  <tbody>\n    <tr>\n      <th>0</th>\n      <td>1</td>\n      <td>91.00</td>\n      <td>58.00</td>\n      <td>55.0</td>\n      <td>58.80</td>\n      <td>270000.0</td>\n    </tr>\n    <tr>\n      <th>1</th>\n      <td>2</td>\n      <td>78.33</td>\n      <td>77.48</td>\n      <td>86.5</td>\n      <td>66.28</td>\n      <td>200000.0</td>\n    </tr>\n    <tr>\n      <th>2</th>\n      <td>3</td>\n      <td>65.00</td>\n      <td>64.00</td>\n      <td>75.0</td>\n      <td>57.80</td>\n      <td>250000.0</td>\n    </tr>\n    <tr>\n      <th>3</th>\n      <td>4</td>\n      <td>52.00</td>\n      <td>66.00</td>\n      <td>66.0</td>\n      <td>59.43</td>\n      <td>265000.0</td>\n    </tr>\n    <tr>\n      <th>4</th>\n      <td>5</td>\n      <td>73.60</td>\n      <td>73.30</td>\n      <td>96.8</td>\n      <td>55.50</td>\n      <td>425000.0</td>\n    </tr>\n    <tr>\n      <th>...</th>\n      <td>...</td>\n      <td>...</td>\n      <td>...</td>\n      <td>...</td>\n      <td>...</td>\n      <td>...</td>\n    </tr>\n    <tr>\n      <th>210</th>\n      <td>211</td>\n      <td>82.00</td>\n      <td>77.60</td>\n      <td>91.0</td>\n      <td>74.49</td>\n      <td>400000.0</td>\n    </tr>\n    <tr>\n      <th>211</th>\n      <td>212</td>\n      <td>60.00</td>\n      <td>72.00</td>\n      <td>74.0</td>\n      <td>53.62</td>\n      <td>275000.0</td>\n    </tr>\n    <tr>\n      <th>212</th>\n      <td>213</td>\n      <td>67.00</td>\n      <td>73.00</td>\n      <td>59.0</td>\n      <td>69.72</td>\n      <td>295000.0</td>\n    </tr>\n    <tr>\n      <th>213</th>\n      <td>214</td>\n      <td>66.00</td>\n      <td>58.00</td>\n      <td>70.0</td>\n      <td>60.23</td>\n      <td>204000.0</td>\n    </tr>\n    <tr>\n      <th>214</th>\n      <td>215</td>\n      <td>58.00</td>\n      <td>53.00</td>\n      <td>89.0</td>\n      <td>60.22</td>\n      <td>265000.0</td>\n    </tr>\n  </tbody>\n</table>\n<p>215 rows × 6 columns</p>\n</div>"
     },
     "execution_count": 92,
     "metadata": {},
     "output_type": "execute_result"
    }
   ],
   "source": [
    "meanImputation = meanImputation.fillna((meanImputation.median()), axis=0)\n",
    "print(\"After imputation\")\n",
    "meanImputation"
   ],
   "metadata": {
    "collapsed": false,
    "ExecuteTime": {
     "end_time": "2024-02-03T19:51:43.274008Z",
     "start_time": "2024-02-03T19:51:43.202993Z"
    }
   }
  },
  {
   "cell_type": "code",
   "execution_count": 97,
   "outputs": [
    {
     "data": {
      "text/plain": "     sl_no gender  hsc_p     hsc_s  degree_p   degree_t  etest_p  \\\n0        1      M  91.00  Commerce     58.00   Sci&Tech     55.0   \n1        2      M  78.33   Science     77.48   Sci&Tech     86.5   \n2        3      M  65.00      Arts     64.00  Comm&Mgmt     75.0   \n3        4      M  52.00   Science     66.00   Sci&Tech     66.0   \n4        5      M  73.60  Commerce     73.30  Comm&Mgmt     96.8   \n..     ...    ...    ...       ...       ...        ...      ...   \n210    211      M  82.00  Commerce     77.60  Comm&Mgmt     91.0   \n211    212      M  60.00   Science     72.00   Sci&Tech     74.0   \n212    213      M  67.00  Commerce     73.00  Comm&Mgmt     59.0   \n213    214      F  66.00  Commerce     58.00  Comm&Mgmt     70.0   \n214    215      M  58.00   Science     53.00  Comm&Mgmt     89.0   \n\n    specialisation  mba_p    salary  \n0           Mkt&HR  58.80  270000.0  \n1          Mkt&Fin  66.28  200000.0  \n2          Mkt&Fin  57.80  250000.0  \n3           Mkt&HR  59.43  265000.0  \n4          Mkt&Fin  55.50  425000.0  \n..             ...    ...       ...  \n210        Mkt&Fin  74.49  400000.0  \n211        Mkt&Fin  53.62  275000.0  \n212        Mkt&Fin  69.72  295000.0  \n213         Mkt&HR  60.23  204000.0  \n214         Mkt&HR  60.22  265000.0  \n\n[215 rows x 10 columns]",
      "text/html": "<div>\n<style scoped>\n    .dataframe tbody tr th:only-of-type {\n        vertical-align: middle;\n    }\n\n    .dataframe tbody tr th {\n        vertical-align: top;\n    }\n\n    .dataframe thead th {\n        text-align: right;\n    }\n</style>\n<table border=\"1\" class=\"dataframe\">\n  <thead>\n    <tr style=\"text-align: right;\">\n      <th></th>\n      <th>sl_no</th>\n      <th>gender</th>\n      <th>hsc_p</th>\n      <th>hsc_s</th>\n      <th>degree_p</th>\n      <th>degree_t</th>\n      <th>etest_p</th>\n      <th>specialisation</th>\n      <th>mba_p</th>\n      <th>salary</th>\n    </tr>\n  </thead>\n  <tbody>\n    <tr>\n      <th>0</th>\n      <td>1</td>\n      <td>M</td>\n      <td>91.00</td>\n      <td>Commerce</td>\n      <td>58.00</td>\n      <td>Sci&amp;Tech</td>\n      <td>55.0</td>\n      <td>Mkt&amp;HR</td>\n      <td>58.80</td>\n      <td>270000.0</td>\n    </tr>\n    <tr>\n      <th>1</th>\n      <td>2</td>\n      <td>M</td>\n      <td>78.33</td>\n      <td>Science</td>\n      <td>77.48</td>\n      <td>Sci&amp;Tech</td>\n      <td>86.5</td>\n      <td>Mkt&amp;Fin</td>\n      <td>66.28</td>\n      <td>200000.0</td>\n    </tr>\n    <tr>\n      <th>2</th>\n      <td>3</td>\n      <td>M</td>\n      <td>65.00</td>\n      <td>Arts</td>\n      <td>64.00</td>\n      <td>Comm&amp;Mgmt</td>\n      <td>75.0</td>\n      <td>Mkt&amp;Fin</td>\n      <td>57.80</td>\n      <td>250000.0</td>\n    </tr>\n    <tr>\n      <th>3</th>\n      <td>4</td>\n      <td>M</td>\n      <td>52.00</td>\n      <td>Science</td>\n      <td>66.00</td>\n      <td>Sci&amp;Tech</td>\n      <td>66.0</td>\n      <td>Mkt&amp;HR</td>\n      <td>59.43</td>\n      <td>265000.0</td>\n    </tr>\n    <tr>\n      <th>4</th>\n      <td>5</td>\n      <td>M</td>\n      <td>73.60</td>\n      <td>Commerce</td>\n      <td>73.30</td>\n      <td>Comm&amp;Mgmt</td>\n      <td>96.8</td>\n      <td>Mkt&amp;Fin</td>\n      <td>55.50</td>\n      <td>425000.0</td>\n    </tr>\n    <tr>\n      <th>...</th>\n      <td>...</td>\n      <td>...</td>\n      <td>...</td>\n      <td>...</td>\n      <td>...</td>\n      <td>...</td>\n      <td>...</td>\n      <td>...</td>\n      <td>...</td>\n      <td>...</td>\n    </tr>\n    <tr>\n      <th>210</th>\n      <td>211</td>\n      <td>M</td>\n      <td>82.00</td>\n      <td>Commerce</td>\n      <td>77.60</td>\n      <td>Comm&amp;Mgmt</td>\n      <td>91.0</td>\n      <td>Mkt&amp;Fin</td>\n      <td>74.49</td>\n      <td>400000.0</td>\n    </tr>\n    <tr>\n      <th>211</th>\n      <td>212</td>\n      <td>M</td>\n      <td>60.00</td>\n      <td>Science</td>\n      <td>72.00</td>\n      <td>Sci&amp;Tech</td>\n      <td>74.0</td>\n      <td>Mkt&amp;Fin</td>\n      <td>53.62</td>\n      <td>275000.0</td>\n    </tr>\n    <tr>\n      <th>212</th>\n      <td>213</td>\n      <td>M</td>\n      <td>67.00</td>\n      <td>Commerce</td>\n      <td>73.00</td>\n      <td>Comm&amp;Mgmt</td>\n      <td>59.0</td>\n      <td>Mkt&amp;Fin</td>\n      <td>69.72</td>\n      <td>295000.0</td>\n    </tr>\n    <tr>\n      <th>213</th>\n      <td>214</td>\n      <td>F</td>\n      <td>66.00</td>\n      <td>Commerce</td>\n      <td>58.00</td>\n      <td>Comm&amp;Mgmt</td>\n      <td>70.0</td>\n      <td>Mkt&amp;HR</td>\n      <td>60.23</td>\n      <td>204000.0</td>\n    </tr>\n    <tr>\n      <th>214</th>\n      <td>215</td>\n      <td>M</td>\n      <td>58.00</td>\n      <td>Science</td>\n      <td>53.00</td>\n      <td>Comm&amp;Mgmt</td>\n      <td>89.0</td>\n      <td>Mkt&amp;HR</td>\n      <td>60.22</td>\n      <td>265000.0</td>\n    </tr>\n  </tbody>\n</table>\n<p>215 rows × 10 columns</p>\n</div>"
     },
     "execution_count": 97,
     "metadata": {},
     "output_type": "execute_result"
    }
   ],
   "source": [
    "data[['sl_no', 'hsc_p', 'degree_p', 'etest_p', 'mba_p', 'salary']] = meanImputation\n",
    "data"
   ],
   "metadata": {
    "collapsed": false,
    "ExecuteTime": {
     "end_time": "2024-02-03T19:53:47.948509Z",
     "start_time": "2024-02-03T19:53:47.880836Z"
    }
   }
  },
  {
   "cell_type": "markdown",
   "metadata": {
    "id": "tkarqL459Id0"
   },
   "source": [
    "# Feature Encoding"
   ]
  },
  {
   "cell_type": "markdown",
   "metadata": {
    "id": "VFc7-Vh99Id1"
   },
   "source": [
    "1.Label encoding"
   ]
  },
  {
   "cell_type": "markdown",
   "metadata": {
    "id": "W9u28MShHVFr"
   },
   "source": [
    "Apply label encoding to all categorical variables."
   ]
  },
  {
   "cell_type": "code",
   "execution_count": 98,
   "metadata": {
    "colab": {
     "base_uri": "https://localhost:8080/"
    },
    "executionInfo": {
     "elapsed": 463,
     "status": "ok",
     "timestamp": 1705999993929,
     "user": {
      "displayName": "Achala Hegde",
      "userId": "16272186569959107554"
     },
     "user_tz": -330
    },
    "id": "inUO1bNJ9Id2",
    "outputId": "97e9a8eb-c356-494d-c93d-8af38d9456f3",
    "ExecuteTime": {
     "end_time": "2024-02-03T19:54:04.392341Z",
     "start_time": "2024-02-03T19:54:04.376959Z"
    }
   },
   "outputs": [
    {
     "data": {
      "text/plain": "sl_no               int64\ngender             object\nhsc_p             float64\nhsc_s              object\ndegree_p          float64\ndegree_t           object\netest_p           float64\nspecialisation     object\nmba_p             float64\nsalary            float64\ndtype: object"
     },
     "execution_count": 98,
     "metadata": {},
     "output_type": "execute_result"
    }
   ],
   "source": [
    "data.dtypes"
   ]
  },
  {
   "cell_type": "code",
   "execution_count": 99,
   "metadata": {
    "id": "FEYzjPmfxOKc",
    "ExecuteTime": {
     "end_time": "2024-02-03T19:54:06.709200Z",
     "start_time": "2024-02-03T19:54:06.684551Z"
    }
   },
   "outputs": [
    {
     "data": {
      "text/plain": "array(['Mkt&HR', 'Mkt&Fin'], dtype=object)"
     },
     "execution_count": 99,
     "metadata": {},
     "output_type": "execute_result"
    }
   ],
   "source": [
    "data['gender'].unique()\n",
    "data['hsc_s'].unique()\n",
    "data['degree_t'].unique()\n",
    "data['specialisation'].unique()\n"
   ]
  },
  {
   "cell_type": "code",
   "execution_count": 100,
   "metadata": {
    "id": "CYHyJqNn9Id4",
    "ExecuteTime": {
     "end_time": "2024-02-03T19:54:08.957343Z",
     "start_time": "2024-02-03T19:54:08.933585Z"
    }
   },
   "outputs": [],
   "source": [
    "from sklearn.preprocessing import LabelEncoder\n",
    "label_encoder = LabelEncoder()\n",
    "## Apply label encoding for columns gender, hsc_s, degree_t, specialisation"
   ]
  },
  {
   "cell_type": "code",
   "execution_count": 105,
   "metadata": {
    "colab": {
     "base_uri": "https://localhost:8080/",
     "height": 206
    },
    "executionInfo": {
     "elapsed": 523,
     "status": "ok",
     "timestamp": 1706000005150,
     "user": {
      "displayName": "Achala Hegde",
      "userId": "16272186569959107554"
     },
     "user_tz": -330
    },
    "id": "xDQNf77g9Id5",
    "outputId": "18c2e6b3-6596-4d6e-9d02-62c4a29a3dc1",
    "ExecuteTime": {
     "end_time": "2024-02-03T19:55:11.869426Z",
     "start_time": "2024-02-03T19:55:11.834163Z"
    }
   },
   "outputs": [
    {
     "data": {
      "text/plain": "   sl_no gender  hsc_p     hsc_s  degree_p   degree_t  etest_p specialisation  \\\n0      1      M  91.00  Commerce     58.00   Sci&Tech     55.0         Mkt&HR   \n1      2      M  78.33   Science     77.48   Sci&Tech     86.5        Mkt&Fin   \n2      3      M  65.00      Arts     64.00  Comm&Mgmt     75.0        Mkt&Fin   \n3      4      M  52.00   Science     66.00   Sci&Tech     66.0         Mkt&HR   \n4      5      M  73.60  Commerce     73.30  Comm&Mgmt     96.8        Mkt&Fin   \n\n   mba_p    salary  \n0  58.80  270000.0  \n1  66.28  200000.0  \n2  57.80  250000.0  \n3  59.43  265000.0  \n4  55.50  425000.0  ",
      "text/html": "<div>\n<style scoped>\n    .dataframe tbody tr th:only-of-type {\n        vertical-align: middle;\n    }\n\n    .dataframe tbody tr th {\n        vertical-align: top;\n    }\n\n    .dataframe thead th {\n        text-align: right;\n    }\n</style>\n<table border=\"1\" class=\"dataframe\">\n  <thead>\n    <tr style=\"text-align: right;\">\n      <th></th>\n      <th>sl_no</th>\n      <th>gender</th>\n      <th>hsc_p</th>\n      <th>hsc_s</th>\n      <th>degree_p</th>\n      <th>degree_t</th>\n      <th>etest_p</th>\n      <th>specialisation</th>\n      <th>mba_p</th>\n      <th>salary</th>\n    </tr>\n  </thead>\n  <tbody>\n    <tr>\n      <th>0</th>\n      <td>1</td>\n      <td>M</td>\n      <td>91.00</td>\n      <td>Commerce</td>\n      <td>58.00</td>\n      <td>Sci&amp;Tech</td>\n      <td>55.0</td>\n      <td>Mkt&amp;HR</td>\n      <td>58.80</td>\n      <td>270000.0</td>\n    </tr>\n    <tr>\n      <th>1</th>\n      <td>2</td>\n      <td>M</td>\n      <td>78.33</td>\n      <td>Science</td>\n      <td>77.48</td>\n      <td>Sci&amp;Tech</td>\n      <td>86.5</td>\n      <td>Mkt&amp;Fin</td>\n      <td>66.28</td>\n      <td>200000.0</td>\n    </tr>\n    <tr>\n      <th>2</th>\n      <td>3</td>\n      <td>M</td>\n      <td>65.00</td>\n      <td>Arts</td>\n      <td>64.00</td>\n      <td>Comm&amp;Mgmt</td>\n      <td>75.0</td>\n      <td>Mkt&amp;Fin</td>\n      <td>57.80</td>\n      <td>250000.0</td>\n    </tr>\n    <tr>\n      <th>3</th>\n      <td>4</td>\n      <td>M</td>\n      <td>52.00</td>\n      <td>Science</td>\n      <td>66.00</td>\n      <td>Sci&amp;Tech</td>\n      <td>66.0</td>\n      <td>Mkt&amp;HR</td>\n      <td>59.43</td>\n      <td>265000.0</td>\n    </tr>\n    <tr>\n      <th>4</th>\n      <td>5</td>\n      <td>M</td>\n      <td>73.60</td>\n      <td>Commerce</td>\n      <td>73.30</td>\n      <td>Comm&amp;Mgmt</td>\n      <td>96.8</td>\n      <td>Mkt&amp;Fin</td>\n      <td>55.50</td>\n      <td>425000.0</td>\n    </tr>\n  </tbody>\n</table>\n</div>"
     },
     "execution_count": 105,
     "metadata": {},
     "output_type": "execute_result"
    }
   ],
   "source": [
    "data.head()"
   ]
  },
  {
   "cell_type": "markdown",
   "metadata": {
    "id": "XqajAN7NHuqu"
   },
   "source": [
    "\n",
    "Conduct one-hot encoding by separating features from target variables."
   ]
  },
  {
   "cell_type": "code",
   "execution_count": 125,
   "metadata": {
    "colab": {
     "base_uri": "https://localhost:8080/"
    },
    "executionInfo": {
     "elapsed": 545,
     "status": "ok",
     "timestamp": 1706000014449,
     "user": {
      "displayName": "Achala Hegde",
      "userId": "16272186569959107554"
     },
     "user_tz": -330
    },
    "id": "GlKzUTZS9Id6",
    "outputId": "f7e78748-b5a6-4d03-f8e5-cbb7927365b5",
    "ExecuteTime": {
     "end_time": "2024-02-03T20:04:11.634346Z",
     "start_time": "2024-02-03T20:04:11.532999Z"
    }
   },
   "outputs": [],
   "source": [
    "# Seperating Features and Target\n",
    "X = data[['gender', 'hsc_p', 'hsc_s', 'degree_p', 'degree_t','etest_p', 'specialisation', 'mba_p',]]\n",
    "y = data['salary']\n",
    "#Reverse Mapping and making Categorical\n",
    "x_cpy = X.copy()\n",
    "x_cpy[\"gender\"] = [1 if i==\"M\" else 0 for i in x_cpy[\"gender\"]]\n",
    "x_cpy[\"hsc_s\"] = [0 if i==\"Commerce\" else 1 if i==\"Science\" else 2 for i in x_cpy[\"hsc_s\"]]\n",
    "x_cpy[\"degree_t\"] = [0 if i==\"Comm&Mgmt\" else 1 if i==\"Sci&Tech\" else 2 for i in x_cpy[\"degree_t\"]]\n",
    "x_cpy[\"specialisation\"] = [1 if i==\"Mkt&HR\" else 0 for i in x_cpy[\"specialisation\"]]"
   ]
  },
  {
   "cell_type": "code",
   "execution_count": 126,
   "metadata": {
    "id": "FICGym0b9Id7",
    "ExecuteTime": {
     "end_time": "2024-02-03T20:04:12.555460Z",
     "start_time": "2024-02-03T20:04:12.519384Z"
    }
   },
   "outputs": [],
   "source": [
    "#Perform one-hot encoding using pandas for dataframe X"
   ]
  },
  {
   "cell_type": "code",
   "execution_count": 127,
   "metadata": {
    "colab": {
     "base_uri": "https://localhost:8080/",
     "height": 443
    },
    "executionInfo": {
     "elapsed": 966,
     "status": "ok",
     "timestamp": 1706000055394,
     "user": {
      "displayName": "Achala Hegde",
      "userId": "16272186569959107554"
     },
     "user_tz": -330
    },
    "id": "4IjY4Deb9Id7",
    "outputId": "92b00103-ece6-4c39-cfb1-dfc7aee29169",
    "ExecuteTime": {
     "end_time": "2024-02-03T20:04:13.204299Z",
     "start_time": "2024-02-03T20:04:13.168764Z"
    }
   },
   "outputs": [
    {
     "data": {
      "text/plain": "     gender  hsc_p  hsc_s  degree_p  degree_t  etest_p  specialisation  mba_p\n0         1  91.00      0     58.00         1     55.0               1  58.80\n1         1  78.33      1     77.48         1     86.5               0  66.28\n2         1  65.00      2     64.00         0     75.0               0  57.80\n3         1  52.00      1     66.00         1     66.0               1  59.43\n4         1  73.60      0     73.30         0     96.8               0  55.50\n..      ...    ...    ...       ...       ...      ...             ...    ...\n210       1  82.00      0     77.60         0     91.0               0  74.49\n211       1  60.00      1     72.00         1     74.0               0  53.62\n212       1  67.00      0     73.00         0     59.0               0  69.72\n213       0  66.00      0     58.00         0     70.0               1  60.23\n214       1  58.00      1     53.00         0     89.0               1  60.22\n\n[215 rows x 8 columns]",
      "text/html": "<div>\n<style scoped>\n    .dataframe tbody tr th:only-of-type {\n        vertical-align: middle;\n    }\n\n    .dataframe tbody tr th {\n        vertical-align: top;\n    }\n\n    .dataframe thead th {\n        text-align: right;\n    }\n</style>\n<table border=\"1\" class=\"dataframe\">\n  <thead>\n    <tr style=\"text-align: right;\">\n      <th></th>\n      <th>gender</th>\n      <th>hsc_p</th>\n      <th>hsc_s</th>\n      <th>degree_p</th>\n      <th>degree_t</th>\n      <th>etest_p</th>\n      <th>specialisation</th>\n      <th>mba_p</th>\n    </tr>\n  </thead>\n  <tbody>\n    <tr>\n      <th>0</th>\n      <td>1</td>\n      <td>91.00</td>\n      <td>0</td>\n      <td>58.00</td>\n      <td>1</td>\n      <td>55.0</td>\n      <td>1</td>\n      <td>58.80</td>\n    </tr>\n    <tr>\n      <th>1</th>\n      <td>1</td>\n      <td>78.33</td>\n      <td>1</td>\n      <td>77.48</td>\n      <td>1</td>\n      <td>86.5</td>\n      <td>0</td>\n      <td>66.28</td>\n    </tr>\n    <tr>\n      <th>2</th>\n      <td>1</td>\n      <td>65.00</td>\n      <td>2</td>\n      <td>64.00</td>\n      <td>0</td>\n      <td>75.0</td>\n      <td>0</td>\n      <td>57.80</td>\n    </tr>\n    <tr>\n      <th>3</th>\n      <td>1</td>\n      <td>52.00</td>\n      <td>1</td>\n      <td>66.00</td>\n      <td>1</td>\n      <td>66.0</td>\n      <td>1</td>\n      <td>59.43</td>\n    </tr>\n    <tr>\n      <th>4</th>\n      <td>1</td>\n      <td>73.60</td>\n      <td>0</td>\n      <td>73.30</td>\n      <td>0</td>\n      <td>96.8</td>\n      <td>0</td>\n      <td>55.50</td>\n    </tr>\n    <tr>\n      <th>...</th>\n      <td>...</td>\n      <td>...</td>\n      <td>...</td>\n      <td>...</td>\n      <td>...</td>\n      <td>...</td>\n      <td>...</td>\n      <td>...</td>\n    </tr>\n    <tr>\n      <th>210</th>\n      <td>1</td>\n      <td>82.00</td>\n      <td>0</td>\n      <td>77.60</td>\n      <td>0</td>\n      <td>91.0</td>\n      <td>0</td>\n      <td>74.49</td>\n    </tr>\n    <tr>\n      <th>211</th>\n      <td>1</td>\n      <td>60.00</td>\n      <td>1</td>\n      <td>72.00</td>\n      <td>1</td>\n      <td>74.0</td>\n      <td>0</td>\n      <td>53.62</td>\n    </tr>\n    <tr>\n      <th>212</th>\n      <td>1</td>\n      <td>67.00</td>\n      <td>0</td>\n      <td>73.00</td>\n      <td>0</td>\n      <td>59.0</td>\n      <td>0</td>\n      <td>69.72</td>\n    </tr>\n    <tr>\n      <th>213</th>\n      <td>0</td>\n      <td>66.00</td>\n      <td>0</td>\n      <td>58.00</td>\n      <td>0</td>\n      <td>70.0</td>\n      <td>1</td>\n      <td>60.23</td>\n    </tr>\n    <tr>\n      <th>214</th>\n      <td>1</td>\n      <td>58.00</td>\n      <td>1</td>\n      <td>53.00</td>\n      <td>0</td>\n      <td>89.0</td>\n      <td>1</td>\n      <td>60.22</td>\n    </tr>\n  </tbody>\n</table>\n<p>215 rows × 8 columns</p>\n</div>"
     },
     "execution_count": 127,
     "metadata": {},
     "output_type": "execute_result"
    }
   ],
   "source": [
    "##Print X\n",
    "x_cpy"
   ]
  },
  {
   "cell_type": "markdown",
   "metadata": {
    "id": "2IPVoHfJIZPf"
   },
   "source": [
    "Perform feature scaling for numarical values."
   ]
  },
  {
   "cell_type": "markdown",
   "metadata": {
    "id": "7dNLZuGdIlmv"
   },
   "source": [
    "MinMax Scaling"
   ]
  },
  {
   "cell_type": "code",
   "execution_count": 129,
   "metadata": {
    "id": "Ll9PNU1X9Id9",
    "ExecuteTime": {
     "end_time": "2024-02-03T20:04:32.941665Z",
     "start_time": "2024-02-03T20:04:32.868324Z"
    }
   },
   "outputs": [],
   "source": [
    "from sklearn.preprocessing import MinMaxScaler\n",
    "\n",
    "scaler = MinMaxScaler()\n",
    "#feature_range arguemnt can be used to specify the min, max range for features while creating the object for MinMaxScaler class. Eg. feature_range=(-1,1)\n",
    "X_scaled = scaler.fit_transform(x_cpy)"
   ]
  },
  {
   "cell_type": "code",
   "execution_count": 130,
   "metadata": {
    "colab": {
     "base_uri": "https://localhost:8080/"
    },
    "executionInfo": {
     "elapsed": 472,
     "status": "ok",
     "timestamp": 1706000068902,
     "user": {
      "displayName": "Achala Hegde",
      "userId": "16272186569959107554"
     },
     "user_tz": -330
    },
    "id": "FByChMS99Id-",
    "outputId": "f05c8426-f507-47e0-f52a-abaf7e43bd28",
    "ExecuteTime": {
     "end_time": "2024-02-03T20:04:36.320262Z",
     "start_time": "2024-02-03T20:04:36.291843Z"
    }
   },
   "outputs": [
    {
     "data": {
      "text/plain": "array([[1.        , 0.88962109, 0.        , ..., 0.10416667, 1.        ,\n        0.28448276],\n       [1.        , 0.68088962, 0.5       , ..., 0.76041667, 0.        ,\n        0.56484258],\n       [1.        , 0.46128501, 1.        , ..., 0.52083333, 0.        ,\n        0.2470015 ],\n       ...,\n       [1.        , 0.49423394, 0.        , ..., 0.1875    , 0.        ,\n        0.69377811],\n       [0.        , 0.47775947, 0.        , ..., 0.41666667, 1.        ,\n        0.33808096],\n       [1.        , 0.34596376, 0.5       , ..., 0.8125    , 1.        ,\n        0.33770615]])"
     },
     "execution_count": 130,
     "metadata": {},
     "output_type": "execute_result"
    }
   ],
   "source": [
    "X_scaled"
   ]
  },
  {
   "cell_type": "code",
   "execution_count": 132,
   "metadata": {
    "id": "cnhLkDYO9Id_",
    "ExecuteTime": {
     "end_time": "2024-02-03T20:04:54.145238Z",
     "start_time": "2024-02-03T20:04:54.117779Z"
    }
   },
   "outputs": [],
   "source": [
    "columns = x_cpy.columns  # Assuming X is a DataFrame\n",
    "X_scaled_df = pd.DataFrame(X_scaled, columns=columns)"
   ]
  },
  {
   "cell_type": "code",
   "execution_count": 133,
   "metadata": {
    "colab": {
     "base_uri": "https://localhost:8080/",
     "height": 443
    },
    "executionInfo": {
     "elapsed": 802,
     "status": "ok",
     "timestamp": 1706000078937,
     "user": {
      "displayName": "Achala Hegde",
      "userId": "16272186569959107554"
     },
     "user_tz": -330
    },
    "id": "8dxE6e_E9Id_",
    "outputId": "0a2a9a2c-761b-4475-fae6-6a1ea8f821d3",
    "ExecuteTime": {
     "end_time": "2024-02-03T20:04:56.608683Z",
     "start_time": "2024-02-03T20:04:56.526579Z"
    }
   },
   "outputs": [
    {
     "data": {
      "text/plain": "     gender     hsc_p  hsc_s  degree_p  degree_t   etest_p  specialisation  \\\n0       1.0  0.889621    0.0  0.195122       0.5  0.104167             1.0   \n1       1.0  0.680890    0.5  0.670244       0.5  0.760417             0.0   \n2       1.0  0.461285    1.0  0.341463       0.0  0.520833             0.0   \n3       1.0  0.247117    0.5  0.390244       0.5  0.333333             1.0   \n4       1.0  0.602965    0.0  0.568293       0.0  0.975000             0.0   \n..      ...       ...    ...       ...       ...       ...             ...   \n210     1.0  0.741351    0.0  0.673171       0.0  0.854167             0.0   \n211     1.0  0.378913    0.5  0.536585       0.5  0.500000             0.0   \n212     1.0  0.494234    0.0  0.560976       0.0  0.187500             0.0   \n213     0.0  0.477759    0.0  0.195122       0.0  0.416667             1.0   \n214     1.0  0.345964    0.5  0.073171       0.0  0.812500             1.0   \n\n        mba_p  \n0    0.284483  \n1    0.564843  \n2    0.247001  \n3    0.308096  \n4    0.160795  \n..        ...  \n210  0.872564  \n211  0.090330  \n212  0.693778  \n213  0.338081  \n214  0.337706  \n\n[215 rows x 8 columns]",
      "text/html": "<div>\n<style scoped>\n    .dataframe tbody tr th:only-of-type {\n        vertical-align: middle;\n    }\n\n    .dataframe tbody tr th {\n        vertical-align: top;\n    }\n\n    .dataframe thead th {\n        text-align: right;\n    }\n</style>\n<table border=\"1\" class=\"dataframe\">\n  <thead>\n    <tr style=\"text-align: right;\">\n      <th></th>\n      <th>gender</th>\n      <th>hsc_p</th>\n      <th>hsc_s</th>\n      <th>degree_p</th>\n      <th>degree_t</th>\n      <th>etest_p</th>\n      <th>specialisation</th>\n      <th>mba_p</th>\n    </tr>\n  </thead>\n  <tbody>\n    <tr>\n      <th>0</th>\n      <td>1.0</td>\n      <td>0.889621</td>\n      <td>0.0</td>\n      <td>0.195122</td>\n      <td>0.5</td>\n      <td>0.104167</td>\n      <td>1.0</td>\n      <td>0.284483</td>\n    </tr>\n    <tr>\n      <th>1</th>\n      <td>1.0</td>\n      <td>0.680890</td>\n      <td>0.5</td>\n      <td>0.670244</td>\n      <td>0.5</td>\n      <td>0.760417</td>\n      <td>0.0</td>\n      <td>0.564843</td>\n    </tr>\n    <tr>\n      <th>2</th>\n      <td>1.0</td>\n      <td>0.461285</td>\n      <td>1.0</td>\n      <td>0.341463</td>\n      <td>0.0</td>\n      <td>0.520833</td>\n      <td>0.0</td>\n      <td>0.247001</td>\n    </tr>\n    <tr>\n      <th>3</th>\n      <td>1.0</td>\n      <td>0.247117</td>\n      <td>0.5</td>\n      <td>0.390244</td>\n      <td>0.5</td>\n      <td>0.333333</td>\n      <td>1.0</td>\n      <td>0.308096</td>\n    </tr>\n    <tr>\n      <th>4</th>\n      <td>1.0</td>\n      <td>0.602965</td>\n      <td>0.0</td>\n      <td>0.568293</td>\n      <td>0.0</td>\n      <td>0.975000</td>\n      <td>0.0</td>\n      <td>0.160795</td>\n    </tr>\n    <tr>\n      <th>...</th>\n      <td>...</td>\n      <td>...</td>\n      <td>...</td>\n      <td>...</td>\n      <td>...</td>\n      <td>...</td>\n      <td>...</td>\n      <td>...</td>\n    </tr>\n    <tr>\n      <th>210</th>\n      <td>1.0</td>\n      <td>0.741351</td>\n      <td>0.0</td>\n      <td>0.673171</td>\n      <td>0.0</td>\n      <td>0.854167</td>\n      <td>0.0</td>\n      <td>0.872564</td>\n    </tr>\n    <tr>\n      <th>211</th>\n      <td>1.0</td>\n      <td>0.378913</td>\n      <td>0.5</td>\n      <td>0.536585</td>\n      <td>0.5</td>\n      <td>0.500000</td>\n      <td>0.0</td>\n      <td>0.090330</td>\n    </tr>\n    <tr>\n      <th>212</th>\n      <td>1.0</td>\n      <td>0.494234</td>\n      <td>0.0</td>\n      <td>0.560976</td>\n      <td>0.0</td>\n      <td>0.187500</td>\n      <td>0.0</td>\n      <td>0.693778</td>\n    </tr>\n    <tr>\n      <th>213</th>\n      <td>0.0</td>\n      <td>0.477759</td>\n      <td>0.0</td>\n      <td>0.195122</td>\n      <td>0.0</td>\n      <td>0.416667</td>\n      <td>1.0</td>\n      <td>0.338081</td>\n    </tr>\n    <tr>\n      <th>214</th>\n      <td>1.0</td>\n      <td>0.345964</td>\n      <td>0.5</td>\n      <td>0.073171</td>\n      <td>0.0</td>\n      <td>0.812500</td>\n      <td>1.0</td>\n      <td>0.337706</td>\n    </tr>\n  </tbody>\n</table>\n<p>215 rows × 8 columns</p>\n</div>"
     },
     "execution_count": 133,
     "metadata": {},
     "output_type": "execute_result"
    }
   ],
   "source": [
    "X_scaled_df"
   ]
  },
  {
   "cell_type": "markdown",
   "metadata": {
    "id": "GirT07BnJb53"
   },
   "source": [
    "Code for standardization"
   ]
  },
  {
   "cell_type": "code",
   "execution_count": 135,
   "metadata": {
    "id": "n0oyan51B5Xi",
    "ExecuteTime": {
     "end_time": "2024-02-03T20:05:22.161194Z",
     "start_time": "2024-02-03T20:05:22.050544Z"
    }
   },
   "outputs": [
    {
     "data": {
      "text/plain": "array([[ 0.73943397,  2.28132847, -0.88628132, ..., -1.2932768 ,\n         1.12390297, -0.59440996],\n       [ 0.73943397,  1.10309243,  0.80000615, ...,  1.09540343,\n        -0.88975652,  0.69307266],\n       [ 0.73943397, -0.13651976,  2.48629363, ...,  0.22334557,\n        -0.88975652, -0.7665333 ],\n       ...,\n       [ 0.73943397,  0.04946857, -0.88628132, ..., -0.98995232,\n        -0.88975652,  1.28517696],\n       [-1.35238581, -0.04352559, -0.88628132, ..., -0.15581002,\n         1.12390297, -0.34827357],\n       [ 0.73943397, -0.7874789 ,  0.80000615, ...,  1.28498123,\n         1.12390297, -0.34999481]])"
     },
     "execution_count": 135,
     "metadata": {},
     "output_type": "execute_result"
    }
   ],
   "source": [
    "from sklearn.preprocessing import StandardScaler\n",
    "\n",
    "scaler = StandardScaler()\n",
    "Y_scaled = scaler.fit_transform(x_cpy)\n",
    "Y_scaled"
   ]
  },
  {
   "cell_type": "markdown",
   "metadata": {
    "id": "0wU5bugF-FrH"
   },
   "source": [
    "-------\n",
    "-------"
   ]
  },
  {
   "cell_type": "markdown",
   "metadata": {
    "id": "fhi66mxJ-KO9"
   },
   "source": [
    "# **Exercise problems**"
   ]
  },
  {
   "cell_type": "code",
   "execution_count": 136,
   "metadata": {
    "id": "YJcP6KQb-UUf",
    "ExecuteTime": {
     "end_time": "2024-02-03T20:05:52.867360Z",
     "start_time": "2024-02-03T20:05:52.801555Z"
    }
   },
   "outputs": [],
   "source": [
    "import pandas as pd\n",
    "import numpy as np\n",
    "import seaborn as sns\n",
    "import matplotlib.pyplot as plt"
   ]
  },
  {
   "cell_type": "markdown",
   "metadata": {
    "id": "uJUfNst7iApm"
   },
   "source": [
    "1. Given Automobile.csv, read the csv file."
   ]
  },
  {
   "cell_type": "code",
   "execution_count": 167,
   "metadata": {
    "id": "qQWsAnslin_L",
    "ExecuteTime": {
     "end_time": "2024-02-03T20:18:05.610384Z",
     "start_time": "2024-02-03T20:18:05.541049Z"
    }
   },
   "outputs": [
    {
     "data": {
      "text/plain": "                          name   mpg  cylinders  displacement  horsepower  \\\n0    chevrolet chevelle malibu  18.0        8.0         307.0       130.0   \n1            buick skylark 320  15.0        8.0         350.0       165.0   \n2           plymouth satellite  18.0        8.0         318.0       150.0   \n3                amc rebel sst  16.0        8.0         304.0       150.0   \n4                  ford torino  17.0        NaN         302.0       140.0   \n..                         ...   ...        ...           ...         ...   \n393            ford mustang gl  27.0        4.0         140.0        86.0   \n394                  vw pickup  44.0        4.0          97.0        52.0   \n395              dodge rampage  32.0        4.0         135.0        84.0   \n396                ford ranger  28.0        4.0         120.0        79.0   \n397                 chevy s-10  31.0        4.0         119.0        82.0   \n\n     weight  acceleration  model_year  origin  \n0    3504.0          12.0          70     usa  \n1    3693.0          11.5          70     usa  \n2    3436.0          11.0          70     usa  \n3    3433.0          12.0          70     usa  \n4    3449.0          10.5          70     usa  \n..      ...           ...         ...     ...  \n393  2790.0          15.6          82     usa  \n394  2130.0          24.6          82  europe  \n395  2295.0          11.6          82     usa  \n396  2625.0          18.6          82     usa  \n397  2720.0          19.4          82     usa  \n\n[398 rows x 9 columns]",
      "text/html": "<div>\n<style scoped>\n    .dataframe tbody tr th:only-of-type {\n        vertical-align: middle;\n    }\n\n    .dataframe tbody tr th {\n        vertical-align: top;\n    }\n\n    .dataframe thead th {\n        text-align: right;\n    }\n</style>\n<table border=\"1\" class=\"dataframe\">\n  <thead>\n    <tr style=\"text-align: right;\">\n      <th></th>\n      <th>name</th>\n      <th>mpg</th>\n      <th>cylinders</th>\n      <th>displacement</th>\n      <th>horsepower</th>\n      <th>weight</th>\n      <th>acceleration</th>\n      <th>model_year</th>\n      <th>origin</th>\n    </tr>\n  </thead>\n  <tbody>\n    <tr>\n      <th>0</th>\n      <td>chevrolet chevelle malibu</td>\n      <td>18.0</td>\n      <td>8.0</td>\n      <td>307.0</td>\n      <td>130.0</td>\n      <td>3504.0</td>\n      <td>12.0</td>\n      <td>70</td>\n      <td>usa</td>\n    </tr>\n    <tr>\n      <th>1</th>\n      <td>buick skylark 320</td>\n      <td>15.0</td>\n      <td>8.0</td>\n      <td>350.0</td>\n      <td>165.0</td>\n      <td>3693.0</td>\n      <td>11.5</td>\n      <td>70</td>\n      <td>usa</td>\n    </tr>\n    <tr>\n      <th>2</th>\n      <td>plymouth satellite</td>\n      <td>18.0</td>\n      <td>8.0</td>\n      <td>318.0</td>\n      <td>150.0</td>\n      <td>3436.0</td>\n      <td>11.0</td>\n      <td>70</td>\n      <td>usa</td>\n    </tr>\n    <tr>\n      <th>3</th>\n      <td>amc rebel sst</td>\n      <td>16.0</td>\n      <td>8.0</td>\n      <td>304.0</td>\n      <td>150.0</td>\n      <td>3433.0</td>\n      <td>12.0</td>\n      <td>70</td>\n      <td>usa</td>\n    </tr>\n    <tr>\n      <th>4</th>\n      <td>ford torino</td>\n      <td>17.0</td>\n      <td>NaN</td>\n      <td>302.0</td>\n      <td>140.0</td>\n      <td>3449.0</td>\n      <td>10.5</td>\n      <td>70</td>\n      <td>usa</td>\n    </tr>\n    <tr>\n      <th>...</th>\n      <td>...</td>\n      <td>...</td>\n      <td>...</td>\n      <td>...</td>\n      <td>...</td>\n      <td>...</td>\n      <td>...</td>\n      <td>...</td>\n      <td>...</td>\n    </tr>\n    <tr>\n      <th>393</th>\n      <td>ford mustang gl</td>\n      <td>27.0</td>\n      <td>4.0</td>\n      <td>140.0</td>\n      <td>86.0</td>\n      <td>2790.0</td>\n      <td>15.6</td>\n      <td>82</td>\n      <td>usa</td>\n    </tr>\n    <tr>\n      <th>394</th>\n      <td>vw pickup</td>\n      <td>44.0</td>\n      <td>4.0</td>\n      <td>97.0</td>\n      <td>52.0</td>\n      <td>2130.0</td>\n      <td>24.6</td>\n      <td>82</td>\n      <td>europe</td>\n    </tr>\n    <tr>\n      <th>395</th>\n      <td>dodge rampage</td>\n      <td>32.0</td>\n      <td>4.0</td>\n      <td>135.0</td>\n      <td>84.0</td>\n      <td>2295.0</td>\n      <td>11.6</td>\n      <td>82</td>\n      <td>usa</td>\n    </tr>\n    <tr>\n      <th>396</th>\n      <td>ford ranger</td>\n      <td>28.0</td>\n      <td>4.0</td>\n      <td>120.0</td>\n      <td>79.0</td>\n      <td>2625.0</td>\n      <td>18.6</td>\n      <td>82</td>\n      <td>usa</td>\n    </tr>\n    <tr>\n      <th>397</th>\n      <td>chevy s-10</td>\n      <td>31.0</td>\n      <td>4.0</td>\n      <td>119.0</td>\n      <td>82.0</td>\n      <td>2720.0</td>\n      <td>19.4</td>\n      <td>82</td>\n      <td>usa</td>\n    </tr>\n  </tbody>\n</table>\n<p>398 rows × 9 columns</p>\n</div>"
     },
     "execution_count": 167,
     "metadata": {},
     "output_type": "execute_result"
    }
   ],
   "source": [
    "automobile = pd.read_csv(\"Automobile.csv\")\n",
    "automobile"
   ]
  },
  {
   "cell_type": "markdown",
   "metadata": {
    "id": "WjTcHifRKBhk"
   },
   "source": [
    "## Handling Null values"
   ]
  },
  {
   "cell_type": "markdown",
   "metadata": {
    "id": "JxqT3jqWKD8S"
   },
   "source": [
    "2. Calculate number of null values in each column"
   ]
  },
  {
   "cell_type": "code",
   "execution_count": 138,
   "metadata": {
    "id": "EC44a4gbiwvQ",
    "ExecuteTime": {
     "end_time": "2024-02-03T20:05:59.082566Z",
     "start_time": "2024-02-03T20:05:59.033925Z"
    }
   },
   "outputs": [
    {
     "data": {
      "text/plain": "name             0\nmpg              0\ncylinders        3\ndisplacement     3\nhorsepower      12\nweight           2\nacceleration     3\nmodel_year       0\norigin           0\ndtype: int64"
     },
     "execution_count": 138,
     "metadata": {},
     "output_type": "execute_result"
    }
   ],
   "source": [
    "automobile.isnull().sum()"
   ]
  },
  {
   "cell_type": "markdown",
   "metadata": {
    "id": "1mY0SM4GKZcu"
   },
   "source": [
    "3. Delete or Fill the null values with appropriate measures"
   ]
  },
  {
   "cell_type": "code",
   "execution_count": 139,
   "metadata": {
    "id": "2ruom4toi2vO",
    "ExecuteTime": {
     "end_time": "2024-02-03T20:06:02.049683Z",
     "start_time": "2024-02-03T20:06:01.994867Z"
    }
   },
   "outputs": [],
   "source": [
    "# Filling the null values with mean\n",
    "automobile['mpg'].fillna(automobile['mpg'].mean(), inplace=True)\n",
    "automobile['cylinders'].fillna(automobile['cylinders'].mean(), inplace=True)\n",
    "automobile['displacement'].fillna(automobile['cylinders'].mean(), inplace=True)\n",
    "automobile['horsepower'].fillna(automobile['horsepower'].mean(), inplace=True)\n",
    "automobile['weight'].fillna(automobile['weight'].mean(), inplace=True)\n",
    "automobile['acceleration'].fillna(automobile['acceleration'].mean(), inplace=True)"
   ]
  },
  {
   "cell_type": "markdown",
   "metadata": {
    "id": "eKy4iIRQN7bi"
   },
   "source": [
    "\n",
    "\n",
    "##Detecting Outliers:\n",
    "\n",
    "\n",
    "4. Check for outliers using boxplot"
   ]
  },
  {
   "cell_type": "code",
   "execution_count": 140,
   "metadata": {
    "id": "9mwtg4AAjDlB",
    "ExecuteTime": {
     "end_time": "2024-02-03T20:06:07.871686Z",
     "start_time": "2024-02-03T20:06:05.674653Z"
    }
   },
   "outputs": [
    {
     "data": {
      "text/plain": "<Axes: ylabel='acceleration'>"
     },
     "execution_count": 140,
     "metadata": {},
     "output_type": "execute_result"
    },
    {
     "data": {
      "text/plain": "<Figure size 300x2000 with 6 Axes>",
      "image/png": "[encoded data removed]"
     },
     "metadata": {},
     "output_type": "display_data"
    }
   ],
   "source": [
    "# Plotting box-plot for multiple columns from mpg to model_year []\n",
    "plt.figure(figsize=(3, 20))\n",
    "\n",
    "plt.subplot(6, 1, 1)\n",
    "sns.boxplot(automobile['mpg'])\n",
    "\n",
    "plt.subplot(6, 1, 2)\n",
    "sns.boxplot(automobile['cylinders'])\n",
    "\n",
    "plt.subplot(6, 1, 3)\n",
    "sns.boxplot(automobile['displacement'])\n",
    "\n",
    "plt.subplot(6, 1, 4)\n",
    "sns.boxplot(automobile['horsepower'])\n",
    "\n",
    "plt.subplot(6, 1, 5)\n",
    "sns.boxplot(automobile['weight'])\n",
    "\n",
    "plt.subplot(6, 1, 6)\n",
    "sns.boxplot(automobile['acceleration'])"
   ]
  },
  {
   "cell_type": "code",
   "execution_count": 142,
   "outputs": [
    {
     "data": {
      "text/plain": "<Axes: ylabel='horsepower'>"
     },
     "execution_count": 142,
     "metadata": {},
     "output_type": "execute_result"
    },
    {
     "data": {
      "text/plain": "<Figure size 640x480 with 1 Axes>",
      "image/png": "[encoded data removed]"
     },
     "metadata": {},
     "output_type": "display_data"
    }
   ],
   "source": [
    "# Applying scaling to the data to see the outliers clearly in the box-plot\n",
    "from sklearn.preprocessing import MinMaxScaler\n",
    "\n",
    "col_name = 'horsepower'\n",
    "scaler = MinMaxScaler()\n",
    "automobile_scaled = scaler.fit_transform(automobile[[col_name]])\n",
    "automobile_scaled = pd.DataFrame(automobile_scaled, columns=[col_name])\n",
    "sns.boxplot(automobile_scaled[col_name])"
   ],
   "metadata": {
    "collapsed": false,
    "ExecuteTime": {
     "end_time": "2024-02-03T20:06:45.804899Z",
     "start_time": "2024-02-03T20:06:45.621610Z"
    }
   }
  },
  {
   "cell_type": "markdown",
   "metadata": {
    "id": "yd_dpoh3WLDf",
    "ExecuteTime": {
     "end_time": "2024-02-01T10:32:47.360438Z",
     "start_time": "2024-02-01T10:32:47.247736Z"
    }
   },
   "source": [
    "5. Check outlayers using Z-score method"
   ]
  },
  {
   "cell_type": "code",
   "execution_count": 143,
   "metadata": {
    "id": "_Vu0wm9mjEo7",
    "ExecuteTime": {
     "end_time": "2024-02-03T20:06:51.005818Z",
     "start_time": "2024-02-03T20:06:50.928286Z"
    }
   },
   "outputs": [
    {
     "name": "stdout",
     "output_type": "stream",
     "text": [
      "Rows with outliers:\n"
     ]
    },
    {
     "data": {
      "text/plain": "(array([  6,  13,  95, 116, 299, 394]), array([3, 3, 3, 3, 5, 5]))"
     },
     "execution_count": 143,
     "metadata": {},
     "output_type": "execute_result"
    }
   ],
   "source": [
    "# Checking outlers using Z-score method\n",
    "# Formula : z = (X — mu) / sigma\n",
    "\n",
    "from scipy import stats\n",
    "\n",
    "# Specify columns to check for outliers\n",
    "columnsWithOutliers = ['mpg', 'cylinders', 'displacement', 'horsepower', 'weight', 'acceleration']\n",
    "\n",
    "# Calculate Z-scores for each column\n",
    "z_scores = stats.zscore(automobile[columnsWithOutliers])\n",
    "\n",
    "# Threshold for outlier detection of 3 std.dev\n",
    "threshold = 3\n",
    "\n",
    "# Print the list of outliers\n",
    "print(\"Rows with outliers:\")\n",
    "outliers = np.where(z_scores > threshold)\n",
    "outliers"
   ]
  },
  {
   "cell_type": "markdown",
   "metadata": {
    "id": "mxmCJD0pWTBn"
   },
   "source": [
    "##Handeling outliers\n",
    "\n",
    "5. Remove outliers"
   ]
  },
  {
   "cell_type": "code",
   "execution_count": 144,
   "metadata": {
    "id": "cMRtB3wiPrQp",
    "ExecuteTime": {
     "end_time": "2024-02-03T20:06:54.371506Z",
     "start_time": "2024-02-03T20:06:54.341752Z"
    }
   },
   "outputs": [
    {
     "name": "stdout",
     "output_type": "stream",
     "text": [
      "Before removing outliers : (398, 9)\n",
      "After removing outliers : (392, 9)\n"
     ]
    }
   ],
   "source": [
    "# Removing rthe outliers\n",
    "print(f\"Before removing outliers : {automobile.shape}\")\n",
    "automobile.drop(automobile.index[outliers[0]], inplace=True)\n",
    "print(f\"After removing outliers : {automobile.shape}\")"
   ]
  },
  {
   "cell_type": "markdown",
   "metadata": {
    "id": "GU1GD1EUWcpB"
   },
   "source": [
    "6. Remove outlayers using Quantile-Based Capping and Flooring method"
   ]
  },
  {
   "cell_type": "code",
   "execution_count": 145,
   "metadata": {
    "id": "K94BiwpZPsnv",
    "ExecuteTime": {
     "end_time": "2024-02-03T20:06:58.673254Z",
     "start_time": "2024-02-03T20:06:58.623561Z"
    }
   },
   "outputs": [
    {
     "name": "stdout",
     "output_type": "stream",
     "text": [
      "Before removing outliers : (392, 9)\n",
      "After removing outliers : (370, 9)\n"
     ]
    }
   ],
   "source": [
    "# Removing outliers using Quantile-Based Capping and Flooring method\n",
    "# Formula : IQR = Q3 - Q1\n",
    "\n",
    "# Calculate Q1, Q2 and IQR\n",
    "Q1 = automobile[columnsWithOutliers].quantile(0.25)\n",
    "Q3 = automobile[columnsWithOutliers].quantile(0.75)\n",
    "IQR = Q3 - Q1\n",
    "\n",
    "# Calculate the lower and upper limits for outlier detection\n",
    "lower_limit = Q1 - 1.5 * IQR\n",
    "upper_limit = Q3 + 1.5 * IQR\n",
    "\n",
    "\n",
    "print(f\"Before removing outliers : {automobile.shape}\")\n",
    "# Remove outliers\n",
    "automobile = automobile[~((automobile[columnsWithOutliers] < lower_limit) | (automobile[columnsWithOutliers] > upper_limit)).any(axis=1)]\n",
    "print(f\"After removing outliers : {automobile.shape}\")"
   ]
  },
  {
   "cell_type": "markdown",
   "metadata": {
    "id": "CrBsh3LfWuz2"
   },
   "source": [
    "7. Remove outlayers using Mean/Median Imputation method"
   ]
  },
  {
   "cell_type": "code",
   "execution_count": 146,
   "metadata": {
    "id": "qhe-793kP9wy",
    "ExecuteTime": {
     "end_time": "2024-02-03T20:07:01.237071Z",
     "start_time": "2024-02-03T20:07:01.157549Z"
    }
   },
   "outputs": [
    {
     "name": "stdout",
     "output_type": "stream",
     "text": [
      "Rows with outliers:\n",
      "Before removing outliers : (370, 9)\n",
      "After removing outliers : (370, 9)\n"
     ]
    },
    {
     "name": "stderr",
     "output_type": "stream",
     "text": [
      "/var/folders/3p/5m3b586s5h30b05twqfrv8sh0000gn/T/ipykernel_46953/1789992251.py:16: SettingWithCopyWarning: \n",
      "A value is trying to be set on a copy of a slice from a DataFrame\n",
      "\n",
      "See the caveats in the documentation: https://pandas.pydata.org/pandas-docs/stable/user_guide/indexing.html#returning-a-view-versus-a-copy\n",
      "  automobile.drop(automobile.index[outliers[0]], inplace=True)\n"
     ]
    }
   ],
   "source": [
    "# Removing outliers using Mean/Median Imputation method\n",
    "# Formula : z = (X — mu) / sigma\n",
    "\n",
    "# Calculate Z-scores for each column\n",
    "z_scores = stats.zscore(automobile[columnsWithOutliers])\n",
    "\n",
    "# Threshold for outlier detection of 3 std.dev\n",
    "threshold = 3\n",
    "\n",
    "# Print the list of outliers\n",
    "print(\"Rows with outliers:\")\n",
    "outliers = np.where(z_scores > threshold)\n",
    "\n",
    "# Removing outliers using Mean/Median Imputation method\n",
    "print(f\"Before removing outliers : {automobile.shape}\")\n",
    "automobile.drop(automobile.index[outliers[0]], inplace=True)\n",
    "print(f\"After removing outliers : {automobile.shape}\")\n",
    "\n"
   ]
  },
  {
   "cell_type": "markdown",
   "metadata": {
    "id": "dfBkQNv7XJUS"
   },
   "source": [
    "# Feature Encoding"
   ]
  },
  {
   "cell_type": "markdown",
   "metadata": {
    "id": "VZ91ozzwXaHW"
   },
   "source": [
    "label encoding"
   ]
  },
  {
   "cell_type": "markdown",
   "metadata": {
    "id": "y1oUJOAaXLKI"
   },
   "source": [
    "8. Perform label encoding to all categorical variables."
   ]
  },
  {
   "cell_type": "code",
   "execution_count": 147,
   "metadata": {
    "id": "dJgX9EY9aNFO",
    "ExecuteTime": {
     "end_time": "2024-02-03T20:07:13.691702Z",
     "start_time": "2024-02-03T20:07:13.653956Z"
    }
   },
   "outputs": [
    {
     "data": {
      "text/plain": "name             object\nmpg             float64\ncylinders       float64\ndisplacement    float64\nhorsepower      float64\nweight          float64\nacceleration    float64\nmodel_year        int64\norigin           object\ndtype: object"
     },
     "execution_count": 147,
     "metadata": {},
     "output_type": "execute_result"
    }
   ],
   "source": [
    "automobile.dtypes"
   ]
  },
  {
   "cell_type": "code",
   "execution_count": 148,
   "outputs": [
    {
     "data": {
      "text/plain": "array(['chevrolet chevelle malibu', 'buick skylark 320',\n       'plymouth satellite', 'amc rebel sst', 'ford torino',\n       'pontiac catalina', 'dodge challenger se', 'chevrolet monte carlo',\n       'toyota corona mark ii', 'plymouth duster', 'amc hornet',\n       'ford maverick', 'datsun pl510', 'volkswagen 1131 deluxe sedan',\n       'peugeot 504', 'audi 100 ls', 'saab 99e', 'bmw 2002',\n       'amc gremlin', 'chevrolet vega 2300', 'toyota corona',\n       'ford pinto', 'plymouth satellite custom', 'ford torino 500',\n       'amc matador', 'chevrolet impala', 'pontiac catalina brougham',\n       'ford galaxie 500', 'plymouth fury iii', 'dodge monaco (sw)',\n       'ford country squire (sw)', 'pontiac safari (sw)',\n       'amc hornet sportabout (sw)', 'chevrolet vega (sw)',\n       'pontiac firebird', 'ford mustang', 'mercury capri 2000',\n       'opel 1900', 'peugeot 304', 'fiat 124b', 'toyota corolla 1200',\n       'datsun 1200', 'volkswagen model 111', 'plymouth cricket',\n       'toyota corona hardtop', 'dodge colt hardtop', 'chevrolet vega',\n       'ford pinto runabout', 'amc ambassador sst',\n       'buick lesabre custom', 'oldsmobile delta 88 royale',\n       'mazda rx2 coupe', 'amc matador (sw)',\n       'chevrolet chevelle concours (sw)', 'ford gran torino (sw)',\n       'plymouth satellite custom (sw)', 'volvo 145e (sw)',\n       'volkswagen 411 (sw)', 'peugeot 504 (sw)', 'renault 12 (sw)',\n       'ford pinto (sw)', 'datsun 510 (sw)',\n       'toyouta corona mark ii (sw)', 'dodge colt (sw)',\n       'toyota corolla 1600 (sw)', 'buick century 350',\n       'chevrolet malibu', 'ford gran torino', 'dodge coronet custom',\n       'chevrolet caprice classic', 'ford ltd',\n       'plymouth fury gran sedan', 'amc ambassador brougham',\n       'plymouth valiant', 'chevrolet nova custom',\n       'volkswagen super beetle', 'ford country',\n       'plymouth custom suburb', 'oldsmobile vista cruiser',\n       'toyota carina', 'datsun 610', 'maxda rx3', 'mercury capri v6',\n       'fiat 124 sport coupe', 'chevrolet monte carlo s', 'fiat 128',\n       'opel manta', 'audi 100ls', 'volvo 144ea', 'dodge dart custom',\n       'saab 99le', 'toyota mark ii', 'oldsmobile omega',\n       'chevrolet nova', 'datsun b210',\n       'chevrolet chevelle malibu classic', 'plymouth satellite sebring',\n       'buick century luxus (sw)', 'dodge coronet custom (sw)',\n       'audi fox', 'volkswagen dasher', 'datsun 710', 'dodge colt',\n       'fiat 124 tc', 'honda civic', 'subaru', 'fiat x1.9',\n       'plymouth valiant custom', 'mercury monarch', 'chevrolet bel air',\n       'plymouth grand fury', 'buick century',\n       'chevroelt chevelle malibu', 'plymouth fury', 'buick skyhawk',\n       'chevrolet monza 2+2', 'ford mustang ii', 'toyota corolla',\n       'pontiac astro', 'volkswagen rabbit', 'amc pacer', 'volvo 244dl',\n       'honda civic cvcc', 'fiat 131', 'capri ii', 'renault 12tl',\n       'dodge coronet brougham', 'vw rabbit', 'dodge aspen se',\n       'ford granada ghia', 'pontiac ventura sj', 'amc pacer d/l',\n       'datsun b-210', 'volvo 245', 'plymouth volare premier v8',\n       'mercedes-benz 280s', 'cadillac seville', 'chevy c10', 'ford f108',\n       'dodge d100', 'honda accord cvcc', 'buick opel isuzu deluxe',\n       'renault 5 gtl', 'plymouth arrow gs', 'datsun f-10 hatchback',\n       'oldsmobile cutlass supreme', 'dodge monaco brougham',\n       'mercury cougar brougham', 'chevrolet concours', 'buick skylark',\n       'plymouth volare custom', 'ford granada', 'pontiac grand prix lj',\n       'chevrolet monte carlo landau', 'ford thunderbird',\n       'volkswagen rabbit custom', 'pontiac sunbird coupe',\n       'toyota corolla liftback', 'ford mustang ii 2+2',\n       'chevrolet chevette', 'dodge colt m/m', 'subaru dl', 'datsun 810',\n       'bmw 320i', 'mazda rx-4', 'volkswagen rabbit custom diesel',\n       'ford fiesta', 'mazda glc deluxe', 'datsun b210 gx',\n       'oldsmobile cutlass salon brougham', 'dodge diplomat',\n       'mercury monarch ghia', 'pontiac phoenix lj',\n       'ford fairmont (auto)', 'ford fairmont (man)', 'plymouth volare',\n       'amc concord', 'buick century special', 'mercury zephyr',\n       'dodge aspen', 'amc concord d/l',\n       'buick regal sport coupe (turbo)', 'ford futura',\n       'dodge magnum xe', 'datsun 510', 'dodge omni',\n       'toyota celica gt liftback', 'plymouth sapporo',\n       'oldsmobile starfire sx', 'datsun 200-sx', 'audi 5000',\n       'volvo 264gl', 'saab 99gle', 'peugeot 604sl',\n       'volkswagen scirocco', 'honda accord lx', 'pontiac lemans v6',\n       'mercury zephyr 6', 'ford fairmont 4', 'amc concord dl 6',\n       'dodge aspen 6', 'ford ltd landau', 'mercury grand marquis',\n       'dodge st. regis', 'buick estate wagon (sw)',\n       'chevrolet malibu classic (sw)',\n       'chrysler lebaron town @ country (sw)', 'vw rabbit custom',\n       'maxda glc deluxe', 'dodge colt hatchback custom', 'amc spirit dl',\n       'mercedes benz 300d', 'cadillac eldorado', 'plymouth horizon',\n       'plymouth horizon tc3', 'datsun 210', 'fiat strada custom',\n       'buick skylark limited', 'chevrolet citation',\n       'oldsmobile omega brougham', 'pontiac phoenix',\n       'toyota corolla tercel', 'datsun 310', 'ford fairmont',\n       'audi 4000', 'toyota corona liftback', 'mazda 626',\n       'datsun 510 hatchback', 'audi 5000s (diesel)',\n       'honda civic 1500 gl', 'renault lecar deluxe', 'vokswagen rabbit',\n       'datsun 280-zx', 'mazda rx-7 gs', 'triumph tr7 coupe',\n       'ford mustang cobra', 'honda accord', 'plymouth reliant',\n       'dodge aries wagon (sw)', 'toyota starlet', 'plymouth champ',\n       'honda civic 1300', 'datsun 210 mpg', 'toyota tercel',\n       'mazda glc 4', 'plymouth horizon 4', 'ford escort 4w',\n       'ford escort 2h', 'volkswagen jetta', 'renault 18i',\n       'honda prelude', 'datsun 200sx', 'peugeot 505s turbo diesel',\n       'volvo diesel', 'toyota cressida', 'datsun 810 maxima',\n       'oldsmobile cutlass ls', 'ford granada gl',\n       'chrysler lebaron salon', 'chevrolet cavalier',\n       'chevrolet cavalier wagon', 'chevrolet cavalier 2-door',\n       'pontiac j2000 se hatchback', 'dodge aries se',\n       'ford fairmont futura', 'amc concord dl', 'volkswagen rabbit l',\n       'mazda glc custom l', 'mazda glc custom', 'plymouth horizon miser',\n       'mercury lynx l', 'nissan stanza xe', 'honda civic (auto)',\n       'datsun 310 gx', 'buick century limited',\n       'oldsmobile cutlass ciera (diesel)', 'chrysler lebaron medallion',\n       'ford granada l', 'toyota celica gt', 'dodge charger 2.2',\n       'chevrolet camaro', 'ford mustang gl', 'dodge rampage',\n       'ford ranger', 'chevy s-10'], dtype=object)"
     },
     "execution_count": 148,
     "metadata": {},
     "output_type": "execute_result"
    }
   ],
   "source": [
    "automobile['name'].unique()"
   ],
   "metadata": {
    "collapsed": false,
    "ExecuteTime": {
     "end_time": "2024-02-03T20:07:17.068262Z",
     "start_time": "2024-02-03T20:07:17.048587Z"
    }
   }
  },
  {
   "cell_type": "code",
   "execution_count": 151,
   "outputs": [
    {
     "data": {
      "text/plain": "[array(['chevrolet chevelle malibu', 'buick skylark 320',\n        'plymouth satellite', 'amc rebel sst', 'ford torino',\n        'pontiac catalina', 'dodge challenger se', 'chevrolet monte carlo',\n        'toyota corona mark ii', 'plymouth duster', 'amc hornet',\n        'ford maverick', 'datsun pl510', 'volkswagen 1131 deluxe sedan',\n        'peugeot 504', 'audi 100 ls', 'saab 99e', 'bmw 2002',\n        'amc gremlin', 'chevrolet vega 2300', 'toyota corona',\n        'ford pinto', 'plymouth satellite custom', 'ford torino 500',\n        'amc matador', 'chevrolet impala', 'pontiac catalina brougham',\n        'ford galaxie 500', 'plymouth fury iii', 'dodge monaco (sw)',\n        'ford country squire (sw)', 'pontiac safari (sw)',\n        'amc hornet sportabout (sw)', 'chevrolet vega (sw)',\n        'pontiac firebird', 'ford mustang', 'mercury capri 2000',\n        'opel 1900', 'peugeot 304', 'fiat 124b', 'toyota corolla 1200',\n        'datsun 1200', 'volkswagen model 111', 'plymouth cricket',\n        'toyota corona hardtop', 'dodge colt hardtop', 'chevrolet vega',\n        'ford pinto runabout', 'amc ambassador sst',\n        'buick lesabre custom', 'oldsmobile delta 88 royale',\n        'mazda rx2 coupe', 'amc matador (sw)',\n        'chevrolet chevelle concours (sw)', 'ford gran torino (sw)',\n        'plymouth satellite custom (sw)', 'volvo 145e (sw)',\n        'volkswagen 411 (sw)', 'peugeot 504 (sw)', 'renault 12 (sw)',\n        'ford pinto (sw)', 'datsun 510 (sw)',\n        'toyouta corona mark ii (sw)', 'dodge colt (sw)',\n        'toyota corolla 1600 (sw)', 'buick century 350',\n        'chevrolet malibu', 'ford gran torino', 'dodge coronet custom',\n        'chevrolet caprice classic', 'ford ltd',\n        'plymouth fury gran sedan', 'amc ambassador brougham',\n        'plymouth valiant', 'chevrolet nova custom',\n        'volkswagen super beetle', 'ford country',\n        'plymouth custom suburb', 'oldsmobile vista cruiser',\n        'toyota carina', 'datsun 610', 'maxda rx3', 'mercury capri v6',\n        'fiat 124 sport coupe', 'chevrolet monte carlo s', 'fiat 128',\n        'opel manta', 'audi 100ls', 'volvo 144ea', 'dodge dart custom',\n        'saab 99le', 'toyota mark ii', 'oldsmobile omega',\n        'chevrolet nova', 'datsun b210',\n        'chevrolet chevelle malibu classic', 'plymouth satellite sebring',\n        'buick century luxus (sw)', 'dodge coronet custom (sw)',\n        'audi fox', 'volkswagen dasher', 'datsun 710', 'dodge colt',\n        'fiat 124 tc', 'honda civic', 'subaru', 'fiat x1.9',\n        'plymouth valiant custom', 'mercury monarch', 'chevrolet bel air',\n        'plymouth grand fury', 'buick century',\n        'chevroelt chevelle malibu', 'plymouth fury', 'buick skyhawk',\n        'chevrolet monza 2+2', 'ford mustang ii', 'toyota corolla',\n        'pontiac astro', 'volkswagen rabbit', 'amc pacer', 'volvo 244dl',\n        'honda civic cvcc', 'fiat 131', 'capri ii', 'renault 12tl',\n        'dodge coronet brougham', 'vw rabbit', 'dodge aspen se',\n        'ford granada ghia', 'pontiac ventura sj', 'amc pacer d/l',\n        'datsun b-210', 'volvo 245', 'plymouth volare premier v8',\n        'mercedes-benz 280s', 'cadillac seville', 'chevy c10', 'ford f108',\n        'dodge d100', 'honda accord cvcc', 'buick opel isuzu deluxe',\n        'renault 5 gtl', 'plymouth arrow gs', 'datsun f-10 hatchback',\n        'oldsmobile cutlass supreme', 'dodge monaco brougham',\n        'mercury cougar brougham', 'chevrolet concours', 'buick skylark',\n        'plymouth volare custom', 'ford granada', 'pontiac grand prix lj',\n        'chevrolet monte carlo landau', 'ford thunderbird',\n        'volkswagen rabbit custom', 'pontiac sunbird coupe',\n        'toyota corolla liftback', 'ford mustang ii 2+2',\n        'chevrolet chevette', 'dodge colt m/m', 'subaru dl', 'datsun 810',\n        'bmw 320i', 'mazda rx-4', 'volkswagen rabbit custom diesel',\n        'ford fiesta', 'mazda glc deluxe', 'datsun b210 gx',\n        'oldsmobile cutlass salon brougham', 'dodge diplomat',\n        'mercury monarch ghia', 'pontiac phoenix lj',\n        'ford fairmont (auto)', 'ford fairmont (man)', 'plymouth volare',\n        'amc concord', 'buick century special', 'mercury zephyr',\n        'dodge aspen', 'amc concord d/l',\n        'buick regal sport coupe (turbo)', 'ford futura',\n        'dodge magnum xe', 'datsun 510', 'dodge omni',\n        'toyota celica gt liftback', 'plymouth sapporo',\n        'oldsmobile starfire sx', 'datsun 200-sx', 'audi 5000',\n        'volvo 264gl', 'saab 99gle', 'peugeot 604sl',\n        'volkswagen scirocco', 'honda accord lx', 'pontiac lemans v6',\n        'mercury zephyr 6', 'ford fairmont 4', 'amc concord dl 6',\n        'dodge aspen 6', 'ford ltd landau', 'mercury grand marquis',\n        'dodge st. regis', 'buick estate wagon (sw)',\n        'chevrolet malibu classic (sw)',\n        'chrysler lebaron town @ country (sw)', 'vw rabbit custom',\n        'maxda glc deluxe', 'dodge colt hatchback custom', 'amc spirit dl',\n        'mercedes benz 300d', 'cadillac eldorado', 'plymouth horizon',\n        'plymouth horizon tc3', 'datsun 210', 'fiat strada custom',\n        'buick skylark limited', 'chevrolet citation',\n        'oldsmobile omega brougham', 'pontiac phoenix',\n        'toyota corolla tercel', 'datsun 310', 'ford fairmont',\n        'audi 4000', 'toyota corona liftback', 'mazda 626',\n        'datsun 510 hatchback', 'audi 5000s (diesel)',\n        'honda civic 1500 gl', 'renault lecar deluxe', 'vokswagen rabbit',\n        'datsun 280-zx', 'mazda rx-7 gs', 'triumph tr7 coupe',\n        'ford mustang cobra', 'honda accord', 'plymouth reliant',\n        'dodge aries wagon (sw)', 'toyota starlet', 'plymouth champ',\n        'honda civic 1300', 'datsun 210 mpg', 'toyota tercel',\n        'mazda glc 4', 'plymouth horizon 4', 'ford escort 4w',\n        'ford escort 2h', 'volkswagen jetta', 'renault 18i',\n        'honda prelude', 'datsun 200sx', 'peugeot 505s turbo diesel',\n        'volvo diesel', 'toyota cressida', 'datsun 810 maxima',\n        'oldsmobile cutlass ls', 'ford granada gl',\n        'chrysler lebaron salon', 'chevrolet cavalier',\n        'chevrolet cavalier wagon', 'chevrolet cavalier 2-door',\n        'pontiac j2000 se hatchback', 'dodge aries se',\n        'ford fairmont futura', 'amc concord dl', 'volkswagen rabbit l',\n        'mazda glc custom l', 'mazda glc custom', 'plymouth horizon miser',\n        'mercury lynx l', 'nissan stanza xe', 'honda civic (auto)',\n        'datsun 310 gx', 'buick century limited',\n        'oldsmobile cutlass ciera (diesel)', 'chrysler lebaron medallion',\n        'ford granada l', 'toyota celica gt', 'dodge charger 2.2',\n        'chevrolet camaro', 'ford mustang gl', 'dodge rampage',\n        'ford ranger', 'chevy s-10'], dtype=object)]"
     },
     "execution_count": 151,
     "metadata": {},
     "output_type": "execute_result"
    }
   ],
   "source": [
    "autoNames = [automobile['name'].unique()]\n",
    "autoNames"
   ],
   "metadata": {
    "collapsed": false,
    "ExecuteTime": {
     "end_time": "2024-02-03T20:07:31.935384Z",
     "start_time": "2024-02-03T20:07:31.889360Z"
    }
   }
  },
  {
   "cell_type": "code",
   "execution_count": 180,
   "outputs": [
    {
     "data": {
      "text/plain": "array([2, 1, 0])"
     },
     "execution_count": 180,
     "metadata": {},
     "output_type": "execute_result"
    }
   ],
   "source": [
    "automobile['origin'].unique()"
   ],
   "metadata": {
    "collapsed": false,
    "ExecuteTime": {
     "end_time": "2024-02-03T20:24:35.443363Z",
     "start_time": "2024-02-03T20:24:35.404550Z"
    }
   }
  },
  {
   "cell_type": "code",
   "execution_count": 168,
   "outputs": [
    {
     "data": {
      "text/plain": "     name   mpg  cylinders  displacement  horsepower  weight  acceleration  \\\n0      49  18.0        8.0         307.0       130.0  3504.0          12.0   \n1      36  15.0        8.0         350.0       165.0  3693.0          11.5   \n2     231  18.0        8.0         318.0       150.0  3436.0          11.0   \n3      14  16.0        8.0         304.0       150.0  3433.0          12.0   \n4     161  17.0        NaN         302.0       140.0  3449.0          10.5   \n..    ...   ...        ...           ...         ...     ...           ...   \n393   153  27.0        4.0         140.0        86.0  2790.0          15.6   \n394   301  44.0        4.0          97.0        52.0  2130.0          24.6   \n395   119  32.0        4.0         135.0        84.0  2295.0          11.6   \n396   159  28.0        4.0         120.0        79.0  2625.0          18.6   \n397    69  31.0        4.0         119.0        82.0  2720.0          19.4   \n\n     model_year  origin  \n0            70       2  \n1            70       2  \n2            70       2  \n3            70       2  \n4            70       2  \n..          ...     ...  \n393          82       2  \n394          82       0  \n395          82       2  \n396          82       2  \n397          82       2  \n\n[398 rows x 9 columns]",
      "text/html": "<div>\n<style scoped>\n    .dataframe tbody tr th:only-of-type {\n        vertical-align: middle;\n    }\n\n    .dataframe tbody tr th {\n        vertical-align: top;\n    }\n\n    .dataframe thead th {\n        text-align: right;\n    }\n</style>\n<table border=\"1\" class=\"dataframe\">\n  <thead>\n    <tr style=\"text-align: right;\">\n      <th></th>\n      <th>name</th>\n      <th>mpg</th>\n      <th>cylinders</th>\n      <th>displacement</th>\n      <th>horsepower</th>\n      <th>weight</th>\n      <th>acceleration</th>\n      <th>model_year</th>\n      <th>origin</th>\n    </tr>\n  </thead>\n  <tbody>\n    <tr>\n      <th>0</th>\n      <td>49</td>\n      <td>18.0</td>\n      <td>8.0</td>\n      <td>307.0</td>\n      <td>130.0</td>\n      <td>3504.0</td>\n      <td>12.0</td>\n      <td>70</td>\n      <td>2</td>\n    </tr>\n    <tr>\n      <th>1</th>\n      <td>36</td>\n      <td>15.0</td>\n      <td>8.0</td>\n      <td>350.0</td>\n      <td>165.0</td>\n      <td>3693.0</td>\n      <td>11.5</td>\n      <td>70</td>\n      <td>2</td>\n    </tr>\n    <tr>\n      <th>2</th>\n      <td>231</td>\n      <td>18.0</td>\n      <td>8.0</td>\n      <td>318.0</td>\n      <td>150.0</td>\n      <td>3436.0</td>\n      <td>11.0</td>\n      <td>70</td>\n      <td>2</td>\n    </tr>\n    <tr>\n      <th>3</th>\n      <td>14</td>\n      <td>16.0</td>\n      <td>8.0</td>\n      <td>304.0</td>\n      <td>150.0</td>\n      <td>3433.0</td>\n      <td>12.0</td>\n      <td>70</td>\n      <td>2</td>\n    </tr>\n    <tr>\n      <th>4</th>\n      <td>161</td>\n      <td>17.0</td>\n      <td>NaN</td>\n      <td>302.0</td>\n      <td>140.0</td>\n      <td>3449.0</td>\n      <td>10.5</td>\n      <td>70</td>\n      <td>2</td>\n    </tr>\n    <tr>\n      <th>...</th>\n      <td>...</td>\n      <td>...</td>\n      <td>...</td>\n      <td>...</td>\n      <td>...</td>\n      <td>...</td>\n      <td>...</td>\n      <td>...</td>\n      <td>...</td>\n    </tr>\n    <tr>\n      <th>393</th>\n      <td>153</td>\n      <td>27.0</td>\n      <td>4.0</td>\n      <td>140.0</td>\n      <td>86.0</td>\n      <td>2790.0</td>\n      <td>15.6</td>\n      <td>82</td>\n      <td>2</td>\n    </tr>\n    <tr>\n      <th>394</th>\n      <td>301</td>\n      <td>44.0</td>\n      <td>4.0</td>\n      <td>97.0</td>\n      <td>52.0</td>\n      <td>2130.0</td>\n      <td>24.6</td>\n      <td>82</td>\n      <td>0</td>\n    </tr>\n    <tr>\n      <th>395</th>\n      <td>119</td>\n      <td>32.0</td>\n      <td>4.0</td>\n      <td>135.0</td>\n      <td>84.0</td>\n      <td>2295.0</td>\n      <td>11.6</td>\n      <td>82</td>\n      <td>2</td>\n    </tr>\n    <tr>\n      <th>396</th>\n      <td>159</td>\n      <td>28.0</td>\n      <td>4.0</td>\n      <td>120.0</td>\n      <td>79.0</td>\n      <td>2625.0</td>\n      <td>18.6</td>\n      <td>82</td>\n      <td>2</td>\n    </tr>\n    <tr>\n      <th>397</th>\n      <td>69</td>\n      <td>31.0</td>\n      <td>4.0</td>\n      <td>119.0</td>\n      <td>82.0</td>\n      <td>2720.0</td>\n      <td>19.4</td>\n      <td>82</td>\n      <td>2</td>\n    </tr>\n  </tbody>\n</table>\n<p>398 rows × 9 columns</p>\n</div>"
     },
     "execution_count": 168,
     "metadata": {},
     "output_type": "execute_result"
    }
   ],
   "source": [
    "from sklearn.preprocessing import LabelEncoder\n",
    "label_encoder = LabelEncoder()\n",
    "\n",
    "# Apply label encoding for columns name, origin\n",
    "automobile['name'] = label_encoder.fit_transform(automobile['name'])\n",
    "automobile['origin'] = label_encoder.fit_transform(automobile['origin'])\n",
    "\n",
    "automobile"
   ],
   "metadata": {
    "collapsed": false,
    "ExecuteTime": {
     "end_time": "2024-02-03T20:18:16.672287Z",
     "start_time": "2024-02-03T20:18:16.655887Z"
    }
   }
  },
  {
   "cell_type": "markdown",
   "metadata": {
    "id": "-bcYdW-OXfbG"
   },
   "source": [
    "OneHot encoding"
   ]
  },
  {
   "cell_type": "markdown",
   "metadata": {
    "id": "0gCch709XiUP"
   },
   "source": [
    "9. Perform One-Hot encoding for categorical variables"
   ]
  },
  {
   "cell_type": "code",
   "execution_count": 171,
   "metadata": {
    "id": "jeayzgxGaPes",
    "ExecuteTime": {
     "end_time": "2024-02-03T20:19:33.388380Z",
     "start_time": "2024-02-03T20:19:33.270461Z"
    }
   },
   "outputs": [
    {
     "data": {
      "text/plain": "      mpg  cylinders  displacement  horsepower  weight  acceleration  \\\n0    18.0    8.00000         307.0       130.0  3504.0          12.0   \n1    15.0    8.00000         350.0       165.0  3693.0          11.5   \n2    18.0    8.00000         318.0       150.0  3436.0          11.0   \n3    16.0    8.00000         304.0       150.0  3433.0          12.0   \n4    17.0    5.44557         302.0       140.0  3449.0          10.5   \n..    ...        ...           ...         ...     ...           ...   \n393  27.0    4.00000         140.0        86.0  2790.0          15.6   \n394  44.0    4.00000          97.0        52.0  2130.0          24.6   \n395  32.0    4.00000         135.0        84.0  2295.0          11.6   \n396  28.0    4.00000         120.0        79.0  2625.0          18.6   \n397  31.0    4.00000         119.0        82.0  2720.0          19.4   \n\n     model_year  name_0  name_1  name_2  ...  name_298  name_299  name_300  \\\n0            70   False   False   False  ...     False     False     False   \n1            70   False   False   False  ...     False     False     False   \n2            70   False   False   False  ...     False     False     False   \n3            70   False   False   False  ...     False     False     False   \n4            70   False   False   False  ...     False     False     False   \n..          ...     ...     ...     ...  ...       ...       ...       ...   \n393          82   False   False   False  ...     False     False     False   \n394          82   False   False   False  ...     False     False     False   \n395          82   False   False   False  ...     False     False     False   \n396          82   False   False   False  ...     False     False     False   \n397          82   False   False   False  ...     False     False     False   \n\n     name_301  name_302  name_303  name_304  origin_0  origin_1  origin_2  \n0       False     False     False     False     False     False      True  \n1       False     False     False     False     False     False      True  \n2       False     False     False     False     False     False      True  \n3       False     False     False     False     False     False      True  \n4       False     False     False     False     False     False      True  \n..        ...       ...       ...       ...       ...       ...       ...  \n393     False     False     False     False     False     False      True  \n394      True     False     False     False      True     False     False  \n395     False     False     False     False     False     False      True  \n396     False     False     False     False     False     False      True  \n397     False     False     False     False     False     False      True  \n\n[398 rows x 315 columns]",
      "text/html": "<div>\n<style scoped>\n    .dataframe tbody tr th:only-of-type {\n        vertical-align: middle;\n    }\n\n    .dataframe tbody tr th {\n        vertical-align: top;\n    }\n\n    .dataframe thead th {\n        text-align: right;\n    }\n</style>\n<table border=\"1\" class=\"dataframe\">\n  <thead>\n    <tr style=\"text-align: right;\">\n      <th></th>\n      <th>mpg</th>\n      <th>cylinders</th>\n      <th>displacement</th>\n      <th>horsepower</th>\n      <th>weight</th>\n      <th>acceleration</th>\n      <th>model_year</th>\n      <th>name_0</th>\n      <th>name_1</th>\n      <th>name_2</th>\n      <th>...</th>\n      <th>name_298</th>\n      <th>name_299</th>\n      <th>name_300</th>\n      <th>name_301</th>\n      <th>name_302</th>\n      <th>name_303</th>\n      <th>name_304</th>\n      <th>origin_0</th>\n      <th>origin_1</th>\n      <th>origin_2</th>\n    </tr>\n  </thead>\n  <tbody>\n    <tr>\n      <th>0</th>\n      <td>18.0</td>\n      <td>8.00000</td>\n      <td>307.0</td>\n      <td>130.0</td>\n      <td>3504.0</td>\n      <td>12.0</td>\n      <td>70</td>\n      <td>False</td>\n      <td>False</td>\n      <td>False</td>\n      <td>...</td>\n      <td>False</td>\n      <td>False</td>\n      <td>False</td>\n      <td>False</td>\n      <td>False</td>\n      <td>False</td>\n      <td>False</td>\n      <td>False</td>\n      <td>False</td>\n      <td>True</td>\n    </tr>\n    <tr>\n      <th>1</th>\n      <td>15.0</td>\n      <td>8.00000</td>\n      <td>350.0</td>\n      <td>165.0</td>\n      <td>3693.0</td>\n      <td>11.5</td>\n      <td>70</td>\n      <td>False</td>\n      <td>False</td>\n      <td>False</td>\n      <td>...</td>\n      <td>False</td>\n      <td>False</td>\n      <td>False</td>\n      <td>False</td>\n      <td>False</td>\n      <td>False</td>\n      <td>False</td>\n      <td>False</td>\n      <td>False</td>\n      <td>True</td>\n    </tr>\n    <tr>\n      <th>2</th>\n      <td>18.0</td>\n      <td>8.00000</td>\n      <td>318.0</td>\n      <td>150.0</td>\n      <td>3436.0</td>\n      <td>11.0</td>\n      <td>70</td>\n      <td>False</td>\n      <td>False</td>\n      <td>False</td>\n      <td>...</td>\n      <td>False</td>\n      <td>False</td>\n      <td>False</td>\n      <td>False</td>\n      <td>False</td>\n      <td>False</td>\n      <td>False</td>\n      <td>False</td>\n      <td>False</td>\n      <td>True</td>\n    </tr>\n    <tr>\n      <th>3</th>\n      <td>16.0</td>\n      <td>8.00000</td>\n      <td>304.0</td>\n      <td>150.0</td>\n      <td>3433.0</td>\n      <td>12.0</td>\n      <td>70</td>\n      <td>False</td>\n      <td>False</td>\n      <td>False</td>\n      <td>...</td>\n      <td>False</td>\n      <td>False</td>\n      <td>False</td>\n      <td>False</td>\n      <td>False</td>\n      <td>False</td>\n      <td>False</td>\n      <td>False</td>\n      <td>False</td>\n      <td>True</td>\n    </tr>\n    <tr>\n      <th>4</th>\n      <td>17.0</td>\n      <td>5.44557</td>\n      <td>302.0</td>\n      <td>140.0</td>\n      <td>3449.0</td>\n      <td>10.5</td>\n      <td>70</td>\n      <td>False</td>\n      <td>False</td>\n      <td>False</td>\n      <td>...</td>\n      <td>False</td>\n      <td>False</td>\n      <td>False</td>\n      <td>False</td>\n      <td>False</td>\n      <td>False</td>\n      <td>False</td>\n      <td>False</td>\n      <td>False</td>\n      <td>True</td>\n    </tr>\n    <tr>\n      <th>...</th>\n      <td>...</td>\n      <td>...</td>\n      <td>...</td>\n      <td>...</td>\n      <td>...</td>\n      <td>...</td>\n      <td>...</td>\n      <td>...</td>\n      <td>...</td>\n      <td>...</td>\n      <td>...</td>\n      <td>...</td>\n      <td>...</td>\n      <td>...</td>\n      <td>...</td>\n      <td>...</td>\n      <td>...</td>\n      <td>...</td>\n      <td>...</td>\n      <td>...</td>\n      <td>...</td>\n    </tr>\n    <tr>\n      <th>393</th>\n      <td>27.0</td>\n      <td>4.00000</td>\n      <td>140.0</td>\n      <td>86.0</td>\n      <td>2790.0</td>\n      <td>15.6</td>\n      <td>82</td>\n      <td>False</td>\n      <td>False</td>\n      <td>False</td>\n      <td>...</td>\n      <td>False</td>\n      <td>False</td>\n      <td>False</td>\n      <td>False</td>\n      <td>False</td>\n      <td>False</td>\n      <td>False</td>\n      <td>False</td>\n      <td>False</td>\n      <td>True</td>\n    </tr>\n    <tr>\n      <th>394</th>\n      <td>44.0</td>\n      <td>4.00000</td>\n      <td>97.0</td>\n      <td>52.0</td>\n      <td>2130.0</td>\n      <td>24.6</td>\n      <td>82</td>\n      <td>False</td>\n      <td>False</td>\n      <td>False</td>\n      <td>...</td>\n      <td>False</td>\n      <td>False</td>\n      <td>False</td>\n      <td>True</td>\n      <td>False</td>\n      <td>False</td>\n      <td>False</td>\n      <td>True</td>\n      <td>False</td>\n      <td>False</td>\n    </tr>\n    <tr>\n      <th>395</th>\n      <td>32.0</td>\n      <td>4.00000</td>\n      <td>135.0</td>\n      <td>84.0</td>\n      <td>2295.0</td>\n      <td>11.6</td>\n      <td>82</td>\n      <td>False</td>\n      <td>False</td>\n      <td>False</td>\n      <td>...</td>\n      <td>False</td>\n      <td>False</td>\n      <td>False</td>\n      <td>False</td>\n      <td>False</td>\n      <td>False</td>\n      <td>False</td>\n      <td>False</td>\n      <td>False</td>\n      <td>True</td>\n    </tr>\n    <tr>\n      <th>396</th>\n      <td>28.0</td>\n      <td>4.00000</td>\n      <td>120.0</td>\n      <td>79.0</td>\n      <td>2625.0</td>\n      <td>18.6</td>\n      <td>82</td>\n      <td>False</td>\n      <td>False</td>\n      <td>False</td>\n      <td>...</td>\n      <td>False</td>\n      <td>False</td>\n      <td>False</td>\n      <td>False</td>\n      <td>False</td>\n      <td>False</td>\n      <td>False</td>\n      <td>False</td>\n      <td>False</td>\n      <td>True</td>\n    </tr>\n    <tr>\n      <th>397</th>\n      <td>31.0</td>\n      <td>4.00000</td>\n      <td>119.0</td>\n      <td>82.0</td>\n      <td>2720.0</td>\n      <td>19.4</td>\n      <td>82</td>\n      <td>False</td>\n      <td>False</td>\n      <td>False</td>\n      <td>...</td>\n      <td>False</td>\n      <td>False</td>\n      <td>False</td>\n      <td>False</td>\n      <td>False</td>\n      <td>False</td>\n      <td>False</td>\n      <td>False</td>\n      <td>False</td>\n      <td>True</td>\n    </tr>\n  </tbody>\n</table>\n<p>398 rows × 315 columns</p>\n</div>"
     },
     "execution_count": 171,
     "metadata": {},
     "output_type": "execute_result"
    }
   ],
   "source": [
    "automobile_cpy = pd.get_dummies(automobile, columns=['name', 'origin'])\n",
    "automobile_cpy = automobile_cpy.fillna(automobile_cpy.mean())\n",
    "automobile_cpy"
   ]
  },
  {
   "cell_type": "markdown",
   "metadata": {
    "id": "nD-pgSh1YHOD"
   },
   "source": [
    "##Scaling"
   ]
  },
  {
   "cell_type": "markdown",
   "metadata": {
    "id": "NLDX4QqkYJnG"
   },
   "source": [
    "10. Perform MinMax scaling for numerical features"
   ]
  },
  {
   "cell_type": "code",
   "execution_count": 172,
   "metadata": {
    "id": "8YUUrhRdkqrR",
    "ExecuteTime": {
     "end_time": "2024-02-03T20:19:46.286191Z",
     "start_time": "2024-02-03T20:19:46.274280Z"
    }
   },
   "outputs": [
    {
     "data": {
      "text/plain": "array([[0.20833333, 1.        , 0.67078514, ..., 0.        , 0.        ,\n        1.        ],\n       [0.11904762, 1.        , 0.7664354 , ..., 0.        , 0.        ,\n        1.        ],\n       [0.20833333, 1.        , 0.69525381, ..., 0.        , 0.        ,\n        1.        ],\n       ...,\n       [0.625     , 0.2       , 0.28818408, ..., 0.        , 0.        ,\n        1.        ],\n       [0.50595238, 0.2       , 0.25481771, ..., 0.        , 0.        ,\n        1.        ],\n       [0.5952381 , 0.2       , 0.25259329, ..., 0.        , 0.        ,\n        1.        ]])"
     },
     "execution_count": 172,
     "metadata": {},
     "output_type": "execute_result"
    }
   ],
   "source": [
    "from sklearn.preprocessing import MinMaxScaler\n",
    "\n",
    "scaler = MinMaxScaler()\n",
    "automobile_origin_scaled = scaler.fit_transform(automobile['origin'].values.reshape(-1, 1))\n",
    "automobile_scaled"
   ]
  },
  {
   "cell_type": "markdown",
   "metadata": {
    "id": "tu0_knAvYUfG"
   },
   "source": [
    "11. Perform Standardization for numarical features (not encoded categorical variables)"
   ]
  },
  {
   "cell_type": "code",
   "execution_count": 182,
   "metadata": {
    "id": "Fm4rClqxk2_C",
    "ExecuteTime": {
     "end_time": "2024-02-03T20:25:17.771608Z",
     "start_time": "2024-02-03T20:25:17.703025Z"
    }
   },
   "outputs": [
    {
     "name": "stdout",
     "output_type": "stream",
     "text": [
      "        mpg  cylinders  displacement  horsepower    weight  acceleration\n",
      "0 -0.706439   1.513595      1.093933    0.685653  0.640065     -1.301810\n",
      "1 -1.090751   1.513595      1.507792    1.620005  0.864514     -1.484531\n",
      "2 -0.706439   1.513595      1.199804    1.219568  0.559311     -1.667253\n",
      "3 -0.962647   1.513595      1.065059    1.219568  0.555748     -1.301810\n",
      "4 -0.834543   0.000000      1.045809    0.952611  0.574749     -1.849974\n"
     ]
    }
   ],
   "source": [
    "import pandas as pd\n",
    "from sklearn.preprocessing import StandardScaler\n",
    "\n",
    "# Separating numerical and categorical features\n",
    "numerical_features = ['mpg', 'cylinders', 'displacement', 'horsepower', 'weight', 'acceleration']\n",
    "categorical_features = ['name', 'origin']\n",
    "\n",
    "# one-hot encoded\n",
    "data = automobile_cpy\n",
    "\n",
    "# Standardizing numerical features\n",
    "scaler = StandardScaler()\n",
    "data_numerical_scaled = scaler.fit_transform(data[numerical_features])\n",
    "\n",
    "# Combining standardized numerical features with categorical features\n",
    "data_scaled = pd.DataFrame(data_numerical_scaled, columns=numerical_features)\n",
    "print(data_scaled.head())\n"
   ]
  },
  {
   "cell_type": "code",
   "execution_count": null,
   "outputs": [],
   "source": [],
   "metadata": {
    "collapsed": false
   }
  }
 ],
 "metadata": {
  "colab": {
   "provenance": []
  },
  "kernelspec": {
   "display_name": "Python 3 (ipykernel)",
   "language": "python",
   "name": "python3"
  },
  "language_info": {
   "codemirror_mode": {
    "name": "ipython",
    "version": 3
   },
   "file_extension": ".py",
   "mimetype": "text/x-python",
   "name": "python",
   "nbconvert_exporter": "python",
   "pygments_lexer": "ipython3",
   "version": "3.11.5"
  }
 },
 "nbformat": 4,
 "nbformat_minor": 1
}
