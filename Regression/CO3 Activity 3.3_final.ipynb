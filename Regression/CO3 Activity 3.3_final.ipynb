{
 "cells": [
  {
   "cell_type": "markdown",
   "id": "696a8acf",
   "metadata": {},
   "source": [
    "**Prepared by:**\n",
    "\n",
    "Prof. Ashwini Kumar Mathur<br>\n",
    "Assistant Professor<br>\n",
    "SoCSE "
   ]
  },
  {
   "cell_type": "markdown",
   "id": "c4148c07",
   "metadata": {},
   "source": [
    "## **CO3 - Apply Linear Regression to Analyse the Relationship between Independent and dependent variables.** \n",
    "   "
   ]
  },
  {
   "cell_type": "markdown",
   "id": "10936ed5",
   "metadata": {},
   "source": [
    "### Recall: Loss Functions and Gradient Descent \n",
    "\n",
    "**Loss Function:**<br>  \n",
    "Imagine you're lost in a maze trying to find the exit.<br> \n",
    "Each path you take is like a guess about the direction to the exit. \n",
    "\n",
    "A. **But how do you know if you're getting closer or further away?**\n",
    "\n",
    "**Solution:** \n",
    "Think of the loss function as a honest guide which tells you how bad your current guess (path) is.<br>\n",
    "The **worse your guess**, the **higher the loss**, But if you get closer, the loss goes down.\n",
    "\n",
    "\n",
    "B. Now, **how do you actually move towards the exit based on the guide's feedback?** \n",
    "\n",
    "**Solution**: That's where **gradient descent** steps in. Think of it as a gentle friend who listens to the guide and nudges you in the direction with the lower loss, eventually leading you out of the maze.\n",
    "\n",
    "\n",
    "**Steps of Calculating Loss Function and Gradient Descent**\n",
    "\n",
    "Here's how it works:\n",
    "\n",
    "01. **Take a guess (choose a path):** Your initial model is like a blind guess about the correct path.\n",
    "02. **Calculate the loss (listen to the guide):** Use the loss function to measure how bad your guess is.\n",
    "03. **Find the direction of lower loss (ask the friend):** Calculate the gradient of the loss function, which points in the direction of lower loss.\n",
    "04. **Take a small step in that direction (follow the friend's nudge):** Update your model parameters (like taking a small step) in the direction of the gradient.\n",
    "05. **Repeat steps 2-4 until you reach the exit (minimize the loss):** Keep iterating, always moving towards the direction with lower loss, until you finally exit the maze (find the optimal model parameters)."
   ]
  },
  {
   "cell_type": "markdown",
   "id": "b77ed143",
   "metadata": {},
   "source": [
    "## **Exercise Activity:** \n",
    "\n",
    "Apply Linear regression to analyse the relationship between Independent and Dependent Variables"
   ]
  },
  {
   "cell_type": "markdown",
   "id": "70e8a561",
   "metadata": {},
   "source": [
    "### Basic Overview of Independent and dependent varaibles.\n",
    "\n",
    "**Independent Variable (IV):** The variable you control or manipulate in an experiment or study. It's the \"cause\" you think might affect the outcome.\n",
    "\n",
    "**Dependent Variable (DV):** The variable you measure or observe to see how it changes in response to the independent variable. It's the \"effect\" you're interested in.\n",
    "\n",
    "Lets understand with the help of example mentioned below: \n",
    "\n",
    "### Nutrition Diet Examples:\n",
    "\n",
    "1. **Independent Variable:** Amount of fruits and vegetables consumed per day (e.g., 0 servings, 2 servings, 5 servings)<br>\n",
    "**Dependent Variable:** Blood pressure levels<br>\n",
    "<br>\n",
    "2. **Independent Variable:** Type of breakfast consumed (e.g., high-protein, high-fiber, high-sugar)<br>\n",
    "**Dependent Variable:** Energy levels and cognitive performance throughout the morning<br>\n",
    "<br>\n",
    "3. **Independent Variable:** Daily water intake (e.g., 1 liter, 2 liters, 3 liters)<br>\n",
    "**Dependent Variable:** Skin hydration levels<br>\n",
    "<br>\n",
    "4. **Independent Variable:** Amount of added sugar in the diet (e.g., 0 grams, 25 grams, 50 grams)<br>\n",
    "**Dependent Variable:** Weight gain or loss<br>\n",
    "<br>\n",
    "5. **Independent Variable:** Frequency of exercise per week (e.g., 0 times, 3 times, 5 times)<br>\n",
    "**Dependent Variable:** Muscle mass and body composition"
   ]
  },
  {
   "cell_type": "markdown",
   "id": "723de31d",
   "metadata": {},
   "source": [
    "Excercise Question: **Plant Growth:**\n",
    "\n",
    "Imagine you're growing a plant and want to understand how it grows.\n",
    "\n",
    "- Amount of sunlight the plant receives (e.g., 4 hours, 8 hours, 12 hours)ndependent variable:** \n",
    "- Height of the plant after a week\n",
    "\n",
    "Q: Identify, Which One is dependent variable and Independent Variable. Create a new cell, write your answer in it."
   ]
  },
  {
   "cell_type": "markdown",
   "id": "308af341",
   "metadata": {},
   "source": [
    "## Implementation of Linear regression using python [ Pre-built function ]"
   ]
  },
  {
   "cell_type": "code",
   "execution_count": 1,
   "id": "df8728ae",
   "metadata": {
    "ExecuteTime": {
     "end_time": "2024-02-16T17:24:58.201794Z",
     "start_time": "2024-02-16T17:24:50.595443Z"
    }
   },
   "outputs": [],
   "source": [
    "import pandas as pd\n",
    "from sklearn.linear_model import LinearRegression\n",
    "import matplotlib.pyplot as plt"
   ]
  },
  {
   "cell_type": "code",
   "execution_count": 2,
   "id": "19307b61",
   "metadata": {
    "ExecuteTime": {
     "end_time": "2024-02-16T17:24:58.258540Z",
     "start_time": "2024-02-16T17:24:58.200467Z"
    }
   },
   "outputs": [],
   "source": [
    "# Create sample data\n",
    "data = {\n",
    "    'fruits_veggies': [0, 2, 5, 1, 3, 4],\n",
    "    'blood_pressure': [140, 125, 110, 135, 120, 115]\n",
    "}\n",
    "\n",
    "# Dependent Variable = blood_pressure\n",
    "# Independent Variable = fruits_veggies"
   ]
  },
  {
   "cell_type": "code",
   "execution_count": 3,
   "id": "c0c85531",
   "metadata": {
    "ExecuteTime": {
     "end_time": "2024-02-16T17:24:58.388440Z",
     "start_time": "2024-02-16T17:24:58.213878Z"
    }
   },
   "outputs": [
    {
     "data": {
      "text/plain": "{'fruits_veggies': [0, 2, 5, 1, 3, 4],\n 'blood_pressure': [140, 125, 110, 135, 120, 115]}"
     },
     "execution_count": 3,
     "metadata": {},
     "output_type": "execute_result"
    }
   ],
   "source": [
    "data"
   ]
  },
  {
   "cell_type": "code",
   "execution_count": 4,
   "id": "9a6c051d",
   "metadata": {
    "ExecuteTime": {
     "end_time": "2024-02-16T17:25:01.968035Z",
     "start_time": "2024-02-16T17:25:01.892298Z"
    }
   },
   "outputs": [],
   "source": [
    "# Create a DataFrame\n",
    "df = pd.DataFrame(data)"
   ]
  },
  {
   "cell_type": "code",
   "execution_count": 5,
   "id": "334c00e1",
   "metadata": {
    "ExecuteTime": {
     "end_time": "2024-02-16T17:25:03.103555Z",
     "start_time": "2024-02-16T17:25:02.865705Z"
    }
   },
   "outputs": [
    {
     "data": {
      "text/plain": "   fruits_veggies  blood_pressure\n0               0             140\n1               2             125\n2               5             110\n3               1             135\n4               3             120\n5               4             115",
      "text/html": "<div>\n<style scoped>\n    .dataframe tbody tr th:only-of-type {\n        vertical-align: middle;\n    }\n\n    .dataframe tbody tr th {\n        vertical-align: top;\n    }\n\n    .dataframe thead th {\n        text-align: right;\n    }\n</style>\n<table border=\"1\" class=\"dataframe\">\n  <thead>\n    <tr style=\"text-align: right;\">\n      <th></th>\n      <th>fruits_veggies</th>\n      <th>blood_pressure</th>\n    </tr>\n  </thead>\n  <tbody>\n    <tr>\n      <th>0</th>\n      <td>0</td>\n      <td>140</td>\n    </tr>\n    <tr>\n      <th>1</th>\n      <td>2</td>\n      <td>125</td>\n    </tr>\n    <tr>\n      <th>2</th>\n      <td>5</td>\n      <td>110</td>\n    </tr>\n    <tr>\n      <th>3</th>\n      <td>1</td>\n      <td>135</td>\n    </tr>\n    <tr>\n      <th>4</th>\n      <td>3</td>\n      <td>120</td>\n    </tr>\n    <tr>\n      <th>5</th>\n      <td>4</td>\n      <td>115</td>\n    </tr>\n  </tbody>\n</table>\n</div>"
     },
     "execution_count": 5,
     "metadata": {},
     "output_type": "execute_result"
    }
   ],
   "source": [
    "df"
   ]
  },
  {
   "cell_type": "code",
   "execution_count": 6,
   "id": "63ec641c",
   "metadata": {
    "ExecuteTime": {
     "end_time": "2024-02-16T17:25:05.360766Z",
     "start_time": "2024-02-16T17:25:05.239573Z"
    }
   },
   "outputs": [],
   "source": [
    "# Define independent and dependent variables\n",
    "X = df['fruits_veggies'].values.reshape(-1, 1)  # #convert into 2D array \n",
    "y = df['blood_pressure']"
   ]
  },
  {
   "cell_type": "code",
   "execution_count": 7,
   "id": "35d4ddb4",
   "metadata": {
    "ExecuteTime": {
     "end_time": "2024-02-16T17:25:07.931606Z",
     "start_time": "2024-02-16T17:25:07.631482Z"
    }
   },
   "outputs": [
    {
     "data": {
      "text/plain": "array([[0],\n       [2],\n       [5],\n       [1],\n       [3],\n       [4]])"
     },
     "execution_count": 7,
     "metadata": {},
     "output_type": "execute_result"
    }
   ],
   "source": [
    "X "
   ]
  },
  {
   "cell_type": "code",
   "execution_count": 8,
   "id": "64fecbcc",
   "metadata": {
    "ExecuteTime": {
     "end_time": "2024-02-16T17:25:10.683898Z",
     "start_time": "2024-02-16T17:25:10.608038Z"
    }
   },
   "outputs": [],
   "source": [
    "# Create a linear regression model \n",
    "model = LinearRegression()"
   ]
  },
  {
   "cell_type": "code",
   "execution_count": 9,
   "id": "c9ef6d35",
   "metadata": {
    "ExecuteTime": {
     "end_time": "2024-02-16T17:25:11.723620Z",
     "start_time": "2024-02-16T17:25:11.475740Z"
    }
   },
   "outputs": [
    {
     "data": {
      "text/plain": "LinearRegression()",
      "text/html": "<style>#sk-container-id-1 {\n  /* Definition of color scheme common for light and dark mode */\n  --sklearn-color-text: black;\n  --sklearn-color-line: gray;\n  /* Definition of color scheme for unfitted estimators */\n  --sklearn-color-unfitted-level-0: #fff5e6;\n  --sklearn-color-unfitted-level-1: #f6e4d2;\n  --sklearn-color-unfitted-level-2: #ffe0b3;\n  --sklearn-color-unfitted-level-3: chocolate;\n  /* Definition of color scheme for fitted estimators */\n  --sklearn-color-fitted-level-0: #f0f8ff;\n  --sklearn-color-fitted-level-1: #d4ebff;\n  --sklearn-color-fitted-level-2: #b3dbfd;\n  --sklearn-color-fitted-level-3: cornflowerblue;\n\n  /* Specific color for light theme */\n  --sklearn-color-text-on-default-background: var(--sg-text-color, var(--theme-code-foreground, var(--jp-content-font-color1, black)));\n  --sklearn-color-background: var(--sg-background-color, var(--theme-background, var(--jp-layout-color0, white)));\n  --sklearn-color-border-box: var(--sg-text-color, var(--theme-code-foreground, var(--jp-content-font-color1, black)));\n  --sklearn-color-icon: #696969;\n\n  @media (prefers-color-scheme: dark) {\n    /* Redefinition of color scheme for dark theme */\n    --sklearn-color-text-on-default-background: var(--sg-text-color, var(--theme-code-foreground, var(--jp-content-font-color1, white)));\n    --sklearn-color-background: var(--sg-background-color, var(--theme-background, var(--jp-layout-color0, #111)));\n    --sklearn-color-border-box: var(--sg-text-color, var(--theme-code-foreground, var(--jp-content-font-color1, white)));\n    --sklearn-color-icon: #878787;\n  }\n}\n\n#sk-container-id-1 {\n  color: var(--sklearn-color-text);\n}\n\n#sk-container-id-1 pre {\n  padding: 0;\n}\n\n#sk-container-id-1 input.sk-hidden--visually {\n  border: 0;\n  clip: rect(1px 1px 1px 1px);\n  clip: rect(1px, 1px, 1px, 1px);\n  height: 1px;\n  margin: -1px;\n  overflow: hidden;\n  padding: 0;\n  position: absolute;\n  width: 1px;\n}\n\n#sk-container-id-1 div.sk-dashed-wrapped {\n  border: 1px dashed var(--sklearn-color-line);\n  margin: 0 0.4em 0.5em 0.4em;\n  box-sizing: border-box;\n  padding-bottom: 0.4em;\n  background-color: var(--sklearn-color-background);\n}\n\n#sk-container-id-1 div.sk-container {\n  /* jupyter's `normalize.less` sets `[hidden] { display: none; }`\n     but bootstrap.min.css set `[hidden] { display: none !important; }`\n     so we also need the `!important` here to be able to override the\n     default hidden behavior on the sphinx rendered scikit-learn.org.\n     See: https://github.com/scikit-learn/scikit-learn/issues/21755 */\n  display: inline-block !important;\n  position: relative;\n}\n\n#sk-container-id-1 div.sk-text-repr-fallback {\n  display: none;\n}\n\ndiv.sk-parallel-item,\ndiv.sk-serial,\ndiv.sk-item {\n  /* draw centered vertical line to link estimators */\n  background-image: linear-gradient(var(--sklearn-color-text-on-default-background), var(--sklearn-color-text-on-default-background));\n  background-size: 2px 100%;\n  background-repeat: no-repeat;\n  background-position: center center;\n}\n\n/* Parallel-specific style estimator block */\n\n#sk-container-id-1 div.sk-parallel-item::after {\n  content: \"\";\n  width: 100%;\n  border-bottom: 2px solid var(--sklearn-color-text-on-default-background);\n  flex-grow: 1;\n}\n\n#sk-container-id-1 div.sk-parallel {\n  display: flex;\n  align-items: stretch;\n  justify-content: center;\n  background-color: var(--sklearn-color-background);\n  position: relative;\n}\n\n#sk-container-id-1 div.sk-parallel-item {\n  display: flex;\n  flex-direction: column;\n}\n\n#sk-container-id-1 div.sk-parallel-item:first-child::after {\n  align-self: flex-end;\n  width: 50%;\n}\n\n#sk-container-id-1 div.sk-parallel-item:last-child::after {\n  align-self: flex-start;\n  width: 50%;\n}\n\n#sk-container-id-1 div.sk-parallel-item:only-child::after {\n  width: 0;\n}\n\n/* Serial-specific style estimator block */\n\n#sk-container-id-1 div.sk-serial {\n  display: flex;\n  flex-direction: column;\n  align-items: center;\n  background-color: var(--sklearn-color-background);\n  padding-right: 1em;\n  padding-left: 1em;\n}\n\n\n/* Toggleable style: style used for estimator/Pipeline/ColumnTransformer box that is\nclickable and can be expanded/collapsed.\n- Pipeline and ColumnTransformer use this feature and define the default style\n- Estimators will overwrite some part of the style using the `sk-estimator` class\n*/\n\n/* Pipeline and ColumnTransformer style (default) */\n\n#sk-container-id-1 div.sk-toggleable {\n  /* Default theme specific background. It is overwritten whether we have a\n  specific estimator or a Pipeline/ColumnTransformer */\n  background-color: var(--sklearn-color-background);\n}\n\n/* Toggleable label */\n#sk-container-id-1 label.sk-toggleable__label {\n  cursor: pointer;\n  display: block;\n  width: 100%;\n  margin-bottom: 0;\n  padding: 0.5em;\n  box-sizing: border-box;\n  text-align: center;\n}\n\n#sk-container-id-1 label.sk-toggleable__label-arrow:before {\n  /* Arrow on the left of the label */\n  content: \"▸\";\n  float: left;\n  margin-right: 0.25em;\n  color: var(--sklearn-color-icon);\n}\n\n#sk-container-id-1 label.sk-toggleable__label-arrow:hover:before {\n  color: var(--sklearn-color-text);\n}\n\n/* Toggleable content - dropdown */\n\n#sk-container-id-1 div.sk-toggleable__content {\n  max-height: 0;\n  max-width: 0;\n  overflow: hidden;\n  text-align: left;\n  /* unfitted */\n  background-color: var(--sklearn-color-unfitted-level-0);\n}\n\n#sk-container-id-1 div.sk-toggleable__content.fitted {\n  /* fitted */\n  background-color: var(--sklearn-color-fitted-level-0);\n}\n\n#sk-container-id-1 div.sk-toggleable__content pre {\n  margin: 0.2em;\n  border-radius: 0.25em;\n  color: var(--sklearn-color-text);\n  /* unfitted */\n  background-color: var(--sklearn-color-unfitted-level-0);\n}\n\n#sk-container-id-1 div.sk-toggleable__content.fitted pre {\n  /* unfitted */\n  background-color: var(--sklearn-color-fitted-level-0);\n}\n\n#sk-container-id-1 input.sk-toggleable__control:checked~div.sk-toggleable__content {\n  /* Expand drop-down */\n  max-height: 200px;\n  max-width: 100%;\n  overflow: auto;\n}\n\n#sk-container-id-1 input.sk-toggleable__control:checked~label.sk-toggleable__label-arrow:before {\n  content: \"▾\";\n}\n\n/* Pipeline/ColumnTransformer-specific style */\n\n#sk-container-id-1 div.sk-label input.sk-toggleable__control:checked~label.sk-toggleable__label {\n  color: var(--sklearn-color-text);\n  background-color: var(--sklearn-color-unfitted-level-2);\n}\n\n#sk-container-id-1 div.sk-label.fitted input.sk-toggleable__control:checked~label.sk-toggleable__label {\n  background-color: var(--sklearn-color-fitted-level-2);\n}\n\n/* Estimator-specific style */\n\n/* Colorize estimator box */\n#sk-container-id-1 div.sk-estimator input.sk-toggleable__control:checked~label.sk-toggleable__label {\n  /* unfitted */\n  background-color: var(--sklearn-color-unfitted-level-2);\n}\n\n#sk-container-id-1 div.sk-estimator.fitted input.sk-toggleable__control:checked~label.sk-toggleable__label {\n  /* fitted */\n  background-color: var(--sklearn-color-fitted-level-2);\n}\n\n#sk-container-id-1 div.sk-label label.sk-toggleable__label,\n#sk-container-id-1 div.sk-label label {\n  /* The background is the default theme color */\n  color: var(--sklearn-color-text-on-default-background);\n}\n\n/* On hover, darken the color of the background */\n#sk-container-id-1 div.sk-label:hover label.sk-toggleable__label {\n  color: var(--sklearn-color-text);\n  background-color: var(--sklearn-color-unfitted-level-2);\n}\n\n/* Label box, darken color on hover, fitted */\n#sk-container-id-1 div.sk-label.fitted:hover label.sk-toggleable__label.fitted {\n  color: var(--sklearn-color-text);\n  background-color: var(--sklearn-color-fitted-level-2);\n}\n\n/* Estimator label */\n\n#sk-container-id-1 div.sk-label label {\n  font-family: monospace;\n  font-weight: bold;\n  display: inline-block;\n  line-height: 1.2em;\n}\n\n#sk-container-id-1 div.sk-label-container {\n  text-align: center;\n}\n\n/* Estimator-specific */\n#sk-container-id-1 div.sk-estimator {\n  font-family: monospace;\n  border: 1px dotted var(--sklearn-color-border-box);\n  border-radius: 0.25em;\n  box-sizing: border-box;\n  margin-bottom: 0.5em;\n  /* unfitted */\n  background-color: var(--sklearn-color-unfitted-level-0);\n}\n\n#sk-container-id-1 div.sk-estimator.fitted {\n  /* fitted */\n  background-color: var(--sklearn-color-fitted-level-0);\n}\n\n/* on hover */\n#sk-container-id-1 div.sk-estimator:hover {\n  /* unfitted */\n  background-color: var(--sklearn-color-unfitted-level-2);\n}\n\n#sk-container-id-1 div.sk-estimator.fitted:hover {\n  /* fitted */\n  background-color: var(--sklearn-color-fitted-level-2);\n}\n\n/* Specification for estimator info (e.g. \"i\" and \"?\") */\n\n/* Common style for \"i\" and \"?\" */\n\n.sk-estimator-doc-link,\na:link.sk-estimator-doc-link,\na:visited.sk-estimator-doc-link {\n  float: right;\n  font-size: smaller;\n  line-height: 1em;\n  font-family: monospace;\n  background-color: var(--sklearn-color-background);\n  border-radius: 1em;\n  height: 1em;\n  width: 1em;\n  text-decoration: none !important;\n  margin-left: 1ex;\n  /* unfitted */\n  border: var(--sklearn-color-unfitted-level-1) 1pt solid;\n  color: var(--sklearn-color-unfitted-level-1);\n}\n\n.sk-estimator-doc-link.fitted,\na:link.sk-estimator-doc-link.fitted,\na:visited.sk-estimator-doc-link.fitted {\n  /* fitted */\n  border: var(--sklearn-color-fitted-level-1) 1pt solid;\n  color: var(--sklearn-color-fitted-level-1);\n}\n\n/* On hover */\ndiv.sk-estimator:hover .sk-estimator-doc-link:hover,\n.sk-estimator-doc-link:hover,\ndiv.sk-label-container:hover .sk-estimator-doc-link:hover,\n.sk-estimator-doc-link:hover {\n  /* unfitted */\n  background-color: var(--sklearn-color-unfitted-level-3);\n  color: var(--sklearn-color-background);\n  text-decoration: none;\n}\n\ndiv.sk-estimator.fitted:hover .sk-estimator-doc-link.fitted:hover,\n.sk-estimator-doc-link.fitted:hover,\ndiv.sk-label-container:hover .sk-estimator-doc-link.fitted:hover,\n.sk-estimator-doc-link.fitted:hover {\n  /* fitted */\n  background-color: var(--sklearn-color-fitted-level-3);\n  color: var(--sklearn-color-background);\n  text-decoration: none;\n}\n\n/* Span, style for the box shown on hovering the info icon */\n.sk-estimator-doc-link span {\n  display: none;\n  z-index: 9999;\n  position: relative;\n  font-weight: normal;\n  right: .2ex;\n  padding: .5ex;\n  margin: .5ex;\n  width: min-content;\n  min-width: 20ex;\n  max-width: 50ex;\n  color: var(--sklearn-color-text);\n  box-shadow: 2pt 2pt 4pt #999;\n  /* unfitted */\n  background: var(--sklearn-color-unfitted-level-0);\n  border: .5pt solid var(--sklearn-color-unfitted-level-3);\n}\n\n.sk-estimator-doc-link.fitted span {\n  /* fitted */\n  background: var(--sklearn-color-fitted-level-0);\n  border: var(--sklearn-color-fitted-level-3);\n}\n\n.sk-estimator-doc-link:hover span {\n  display: block;\n}\n\n/* \"?\"-specific style due to the `<a>` HTML tag */\n\n#sk-container-id-1 a.estimator_doc_link {\n  float: right;\n  font-size: 1rem;\n  line-height: 1em;\n  font-family: monospace;\n  background-color: var(--sklearn-color-background);\n  border-radius: 1rem;\n  height: 1rem;\n  width: 1rem;\n  text-decoration: none;\n  /* unfitted */\n  color: var(--sklearn-color-unfitted-level-1);\n  border: var(--sklearn-color-unfitted-level-1) 1pt solid;\n}\n\n#sk-container-id-1 a.estimator_doc_link.fitted {\n  /* fitted */\n  border: var(--sklearn-color-fitted-level-1) 1pt solid;\n  color: var(--sklearn-color-fitted-level-1);\n}\n\n/* On hover */\n#sk-container-id-1 a.estimator_doc_link:hover {\n  /* unfitted */\n  background-color: var(--sklearn-color-unfitted-level-3);\n  color: var(--sklearn-color-background);\n  text-decoration: none;\n}\n\n#sk-container-id-1 a.estimator_doc_link.fitted:hover {\n  /* fitted */\n  background-color: var(--sklearn-color-fitted-level-3);\n}\n</style><div id=\"sk-container-id-1\" class=\"sk-top-container\"><div class=\"sk-text-repr-fallback\"><pre>LinearRegression()</pre><b>In a Jupyter environment, please rerun this cell to show the HTML representation or trust the notebook. <br />On GitHub, the HTML representation is unable to render, please try loading this page with nbviewer.org.</b></div><div class=\"sk-container\" hidden><div class=\"sk-item\"><div class=\"sk-estimator fitted sk-toggleable\"><input class=\"sk-toggleable__control sk-hidden--visually\" id=\"sk-estimator-id-1\" type=\"checkbox\" checked><label for=\"sk-estimator-id-1\" class=\"sk-toggleable__label fitted sk-toggleable__label-arrow fitted\">&nbsp;&nbsp;LinearRegression<a class=\"sk-estimator-doc-link fitted\" rel=\"noreferrer\" target=\"_blank\" href=\"https://scikit-learn.org/1.4/modules/generated/sklearn.linear_model.LinearRegression.html\">?<span>Documentation for LinearRegression</span></a><span class=\"sk-estimator-doc-link fitted\">i<span>Fitted</span></span></label><div class=\"sk-toggleable__content fitted\"><pre>LinearRegression()</pre></div> </div></div></div></div>"
     },
     "execution_count": 9,
     "metadata": {},
     "output_type": "execute_result"
    }
   ],
   "source": [
    "# Fit the model to the data\n",
    "model.fit(X, y)"
   ]
  },
  {
   "cell_type": "code",
   "execution_count": 10,
   "id": "1ecfe3b9",
   "metadata": {
    "ExecuteTime": {
     "end_time": "2024-02-16T17:25:14.135939Z",
     "start_time": "2024-02-16T17:25:14.014300Z"
    }
   },
   "outputs": [],
   "source": [
    "# Make predictions\n",
    "predicted_bp = model.predict(X)"
   ]
  },
  {
   "cell_type": "code",
   "execution_count": 11,
   "id": "02b82ed3",
   "metadata": {
    "ExecuteTime": {
     "end_time": "2024-02-16T17:25:15.735463Z",
     "start_time": "2024-02-16T17:25:14.847457Z"
    }
   },
   "outputs": [
    {
     "data": {
      "text/plain": "<Figure size 640x480 with 1 Axes>",
      "image/png": "[encoded data removed]"
     },
     "metadata": {},
     "output_type": "display_data"
    }
   ],
   "source": [
    "# Visualize the results\n",
    "plt.scatter(X, y, label='Actual Blood Pressure')\n",
    "plt.plot(X, predicted_bp, color='red', label='Predicted Blood Pressure')\n",
    "plt.xlabel('Fruits/Veggies Intake (servings/day)')\n",
    "plt.ylabel('Blood Pressure (mmHg)')\n",
    "plt.title('Linear Regression: Fruits/Veggies vs Blood Pressure')\n",
    "plt.legend()\n",
    "plt.show()"
   ]
  },
  {
   "cell_type": "code",
   "execution_count": 12,
   "id": "45cfd3ef",
   "metadata": {
    "ExecuteTime": {
     "end_time": "2024-02-16T17:25:18.052694Z",
     "start_time": "2024-02-16T17:25:17.977410Z"
    }
   },
   "outputs": [
    {
     "name": "stdout",
     "output_type": "stream",
     "text": [
      "Slope: -6.142857142857142\n",
      "Intercept: 139.52380952380952\n"
     ]
    }
   ],
   "source": [
    "# Print the model's slope and intercept\n",
    "print(\"Slope:\", model.coef_[0])\n",
    "print(\"Intercept:\", model.intercept_)"
   ]
  },
  {
   "cell_type": "code",
   "execution_count": 13,
   "id": "aae2fc11",
   "metadata": {
    "ExecuteTime": {
     "end_time": "2024-02-16T17:25:26.035993Z",
     "start_time": "2024-02-16T17:25:25.940878Z"
    }
   },
   "outputs": [
    {
     "name": "stdout",
     "output_type": "stream",
     "text": [
      "R-squared: 0.9843833185448092\n"
     ]
    }
   ],
   "source": [
    "# Evaluation Metrics using R squared error\n",
    "'''\n",
    "R-squared: Measures the proportion of variance in the dependent variable explained by the model. \n",
    "Higher values (closer to 1) indicate better fit.\n",
    "'''\n",
    "print(\"R-squared:\", model.score(X, y))"
   ]
  },
  {
   "cell_type": "code",
   "execution_count": 14,
   "id": "3302619f",
   "metadata": {
    "ExecuteTime": {
     "end_time": "2024-02-16T17:25:27.836920Z",
     "start_time": "2024-02-16T17:25:27.672568Z"
    }
   },
   "outputs": [
    {
     "name": "stdout",
     "output_type": "stream",
     "text": [
      "Mean Squared Error: 1.7460317460317463\n"
     ]
    }
   ],
   "source": [
    "# Evaluation Metrics using Mean_Squared_error\n",
    "'''\n",
    "Mean Squared Error (MSE): Average squared difference between actual and predicted values. \n",
    "Lower values indicate better fit.\n",
    "'''\n",
    "\n",
    "from sklearn.metrics import mean_squared_error\n",
    "print(\"Mean Squared Error:\", mean_squared_error(y, predicted_bp))"
   ]
  },
  {
   "cell_type": "markdown",
   "id": "f38dc219",
   "metadata": {},
   "source": [
    "### Interpretation of the above:\n",
    "\n",
    "**R-squared (R²):**<br>\n",
    "<br>\n",
    "**Measures:** The proportion of the variance in the dependent variable (y) that's explained by the independent variable (x) in the model.<br>\n",
    "**Range:** 0 to 1, with 0 indicating no relationship and 1 indicating a perfect fit.\n",
    "\n",
    "\n",
    "**Interpretation:**<br>\n",
    "- A higher R-squared value suggests the model explains more of the variability in the data.\n",
    "For example, an R-squared of 0.75 suggests the model accounts for 75% of the observed variation in the dependent variable.<br>\n",
    "- However, it's **crucial to note that R-squared doesn't guarantee model quality or causation.** It's possible to have high R-squared values for models that don't represent true relationships.\n",
    "\n",
    "**Mean Squared Error (MSE):**<br>\n",
    "<br>\n",
    "**Measures:** The average squared difference between the actual values (y) and the predicted values (ŷ).\n",
    "Interpretation:<br>\n",
    "\n",
    "- A lower MSE indicates a better fit, as the model's predictions are closer to the observed values.\n",
    "MSE is expressed in the same units as the squared dependent variable, making it interpretable in the context of the problem.\n",
    "\n",
    "- **For example**, an MSE of 25 (mmHg)² suggests an average error of 5 mmHg in blood pressure predictions.\n"
   ]
  },
  {
   "cell_type": "markdown",
   "id": "97e2b6cc",
   "metadata": {},
   "source": [
    "## Class activity excercise: [ Beginner Level ] \n",
    "\n",
    "Important Note: **Remove the solution part before circulation to the students**"
   ]
  },
  {
   "cell_type": "code",
   "execution_count": 77,
   "id": "341aecf9",
   "metadata": {
    "ExecuteTime": {
     "end_time": "2024-02-18T05:19:09.390969Z",
     "start_time": "2024-02-18T05:19:09.352115Z"
    }
   },
   "outputs": [],
   "source": [
    "#import the neccessary library and Dataset\n",
    "import pandas as pd\n",
    "from sklearn.linear_model import LinearRegression\n",
    "import matplotlib.pyplot as plt\n",
    "from sklearn.model_selection import train_test_split\n",
    "from sklearn.preprocessing import LabelEncoder\n",
    "import numpy as np"
   ]
  },
  {
   "cell_type": "code",
   "execution_count": 80,
   "id": "99da4c94",
   "metadata": {
    "ExecuteTime": {
     "end_time": "2024-02-18T05:21:48.045823Z",
     "start_time": "2024-02-18T05:21:47.974488Z"
    }
   },
   "outputs": [
    {
     "data": {
      "text/plain": "0      0\n1      0\n2      0\n3      0\n4      0\n      ..\n145    2\n146    2\n147    2\n148    2\n149    2\nName: target, Length: 150, dtype: int64"
     },
     "execution_count": 80,
     "metadata": {},
     "output_type": "execute_result"
    }
   ],
   "source": [
    "#Load the required Dataset into dataframe\n",
    "from sklearn.datasets import load_iris\n",
    "\n",
    "dataCols = load_iris(return_X_y=False, as_frame=True)['data']\n",
    "target = load_iris(return_X_y=False, as_frame=True)['target']\n",
    "targetCols = dataCols['petal width (cm)']\n",
    "target"
   ]
  },
  {
   "cell_type": "code",
   "execution_count": 81,
   "outputs": [
    {
     "data": {
      "text/plain": "     sepal length (cm)  sepal width (cm)  petal length (cm)  petal width (cm)  \\\n0                  5.1               3.5                1.4               0.2   \n1                  4.9               3.0                1.4               0.2   \n2                  4.7               3.2                1.3               0.2   \n3                  4.6               3.1                1.5               0.2   \n4                  5.0               3.6                1.4               0.2   \n..                 ...               ...                ...               ...   \n145                6.7               3.0                5.2               2.3   \n146                6.3               2.5                5.0               1.9   \n147                6.5               3.0                5.2               2.0   \n148                6.2               3.4                5.4               2.3   \n149                5.9               3.0                5.1               1.8   \n\n     petal width (cm)  target  \n0                 0.2       0  \n1                 0.2       0  \n2                 0.2       0  \n3                 0.2       0  \n4                 0.2       0  \n..                ...     ...  \n145               2.3       2  \n146               1.9       2  \n147               2.0       2  \n148               2.3       2  \n149               1.8       2  \n\n[150 rows x 6 columns]",
      "text/html": "<div>\n<style scoped>\n    .dataframe tbody tr th:only-of-type {\n        vertical-align: middle;\n    }\n\n    .dataframe tbody tr th {\n        vertical-align: top;\n    }\n\n    .dataframe thead th {\n        text-align: right;\n    }\n</style>\n<table border=\"1\" class=\"dataframe\">\n  <thead>\n    <tr style=\"text-align: right;\">\n      <th></th>\n      <th>sepal length (cm)</th>\n      <th>sepal width (cm)</th>\n      <th>petal length (cm)</th>\n      <th>petal width (cm)</th>\n      <th>petal width (cm)</th>\n      <th>target</th>\n    </tr>\n  </thead>\n  <tbody>\n    <tr>\n      <th>0</th>\n      <td>5.1</td>\n      <td>3.5</td>\n      <td>1.4</td>\n      <td>0.2</td>\n      <td>0.2</td>\n      <td>0</td>\n    </tr>\n    <tr>\n      <th>1</th>\n      <td>4.9</td>\n      <td>3.0</td>\n      <td>1.4</td>\n      <td>0.2</td>\n      <td>0.2</td>\n      <td>0</td>\n    </tr>\n    <tr>\n      <th>2</th>\n      <td>4.7</td>\n      <td>3.2</td>\n      <td>1.3</td>\n      <td>0.2</td>\n      <td>0.2</td>\n      <td>0</td>\n    </tr>\n    <tr>\n      <th>3</th>\n      <td>4.6</td>\n      <td>3.1</td>\n      <td>1.5</td>\n      <td>0.2</td>\n      <td>0.2</td>\n      <td>0</td>\n    </tr>\n    <tr>\n      <th>4</th>\n      <td>5.0</td>\n      <td>3.6</td>\n      <td>1.4</td>\n      <td>0.2</td>\n      <td>0.2</td>\n      <td>0</td>\n    </tr>\n    <tr>\n      <th>...</th>\n      <td>...</td>\n      <td>...</td>\n      <td>...</td>\n      <td>...</td>\n      <td>...</td>\n      <td>...</td>\n    </tr>\n    <tr>\n      <th>145</th>\n      <td>6.7</td>\n      <td>3.0</td>\n      <td>5.2</td>\n      <td>2.3</td>\n      <td>2.3</td>\n      <td>2</td>\n    </tr>\n    <tr>\n      <th>146</th>\n      <td>6.3</td>\n      <td>2.5</td>\n      <td>5.0</td>\n      <td>1.9</td>\n      <td>1.9</td>\n      <td>2</td>\n    </tr>\n    <tr>\n      <th>147</th>\n      <td>6.5</td>\n      <td>3.0</td>\n      <td>5.2</td>\n      <td>2.0</td>\n      <td>2.0</td>\n      <td>2</td>\n    </tr>\n    <tr>\n      <th>148</th>\n      <td>6.2</td>\n      <td>3.4</td>\n      <td>5.4</td>\n      <td>2.3</td>\n      <td>2.3</td>\n      <td>2</td>\n    </tr>\n    <tr>\n      <th>149</th>\n      <td>5.9</td>\n      <td>3.0</td>\n      <td>5.1</td>\n      <td>1.8</td>\n      <td>1.8</td>\n      <td>2</td>\n    </tr>\n  </tbody>\n</table>\n<p>150 rows × 6 columns</p>\n</div>"
     },
     "execution_count": 81,
     "metadata": {},
     "output_type": "execute_result"
    }
   ],
   "source": [
    "dataSet = pd.concat([dataCols, targetCols, target], axis=1)\n",
    "dataSet"
   ],
   "metadata": {
    "collapsed": false,
    "ExecuteTime": {
     "end_time": "2024-02-18T05:21:58.692436Z",
     "start_time": "2024-02-18T05:21:58.603423Z"
    }
   },
   "id": "6b0d35952fe3f3c0"
  },
  {
   "cell_type": "code",
   "execution_count": 103,
   "id": "a0d1c988",
   "metadata": {
    "ExecuteTime": {
     "end_time": "2024-02-18T05:30:29.613014Z",
     "start_time": "2024-02-18T05:30:29.591421Z"
    }
   },
   "outputs": [],
   "source": [
    "# Define independent and dependent variables\n",
    "X = dataSet.drop('petal width (cm)', axis=1)\n",
    "y = dataSet['petal width (cm)']"
   ]
  },
  {
   "cell_type": "code",
   "execution_count": 100,
   "id": "3a707db8",
   "metadata": {
    "ExecuteTime": {
     "end_time": "2024-02-18T05:28:52.988032Z",
     "start_time": "2024-02-18T05:28:52.967871Z"
    }
   },
   "outputs": [],
   "source": [
    "# Perform Label Encoding to the target values \n",
    "# Since the targets are already in numerical values\n",
    "# even if we perform LabelEncoding there won't be any effect.\n",
    "y = np.array(y)\n",
    "\n",
    "labelEncode = LabelEncoder()\n",
    "y = labelEncode.fit_transform(y.flatten())"
   ]
  },
  {
   "cell_type": "code",
   "execution_count": 104,
   "outputs": [
    {
     "data": {
      "text/plain": "((150, 4), (150, 2))"
     },
     "execution_count": 104,
     "metadata": {},
     "output_type": "execute_result"
    }
   ],
   "source": [
    "X.shape, y.shape"
   ],
   "metadata": {
    "collapsed": false,
    "ExecuteTime": {
     "end_time": "2024-02-18T05:30:30.989956Z",
     "start_time": "2024-02-18T05:30:30.965972Z"
    }
   },
   "id": "71997b3b9ee16945"
  },
  {
   "cell_type": "code",
   "execution_count": 105,
   "id": "62b1610a",
   "metadata": {
    "ExecuteTime": {
     "end_time": "2024-02-18T05:30:33.383734Z",
     "start_time": "2024-02-18T05:30:33.339477Z"
    }
   },
   "outputs": [],
   "source": [
    "# training and test set split: 80% for training, 20% for testing\n",
    "X_train, X_test, y_train, y_test = train_test_split(X, y, test_size=0.2, random_state=23)"
   ]
  },
  {
   "cell_type": "code",
   "execution_count": 106,
   "id": "676bb945",
   "metadata": {
    "scrolled": true,
    "ExecuteTime": {
     "end_time": "2024-02-18T05:30:40.334935Z",
     "start_time": "2024-02-18T05:30:40.306883Z"
    }
   },
   "outputs": [
    {
     "name": "stdout",
     "output_type": "stream",
     "text": [
      "Intercept : [-0.213568 -0.213568]\n",
      "Co-efficients : [[-0.13788678  0.19758192  0.3393405   0.34380564]\n",
      " [-0.13788678  0.19758192  0.3393405   0.34380564]]\n"
     ]
    }
   ],
   "source": [
    "# Apply the Linear Regression model\n",
    "\n",
    "# Create a LinearRegression object\n",
    "model = LinearRegression()\n",
    "\n",
    "# Fit the model to the data\n",
    "model.fit(X_train, y_train)\n",
    "\n",
    "# Get the intercept and coefficients\n",
    "print(f\"Intercept : {model.intercept_}\")\n",
    "print(f\"Co-efficients : {model.coef_}\")"
   ]
  },
  {
   "cell_type": "code",
   "execution_count": 107,
   "id": "8962133f",
   "metadata": {
    "ExecuteTime": {
     "end_time": "2024-02-18T05:30:42.991237Z",
     "start_time": "2024-02-18T05:30:42.920150Z"
    }
   },
   "outputs": [
    {
     "name": "stdout",
     "output_type": "stream",
     "text": [
      "R-Square on train set : 0.9512043991885187\n"
     ]
    }
   ],
   "source": [
    "#Evaluation Metrics\n",
    "from sklearn.metrics import r2_score\n",
    "\n",
    "# Make predictions on the training set\n",
    "y_pred = model.predict(X_train)\n",
    "\n",
    "# Find R^2 on training data\n",
    "r2 = r2_score(y_train, y_pred)\n",
    "\n",
    "# Evaluate model performance on the training set (e.g., using R-squared)\n",
    "print(f\"R-Square on train set : {r2}\")"
   ]
  },
  {
   "cell_type": "code",
   "execution_count": 108,
   "id": "1498a0ff",
   "metadata": {
    "ExecuteTime": {
     "end_time": "2024-02-18T05:30:44.641067Z",
     "start_time": "2024-02-18T05:30:44.612854Z"
    }
   },
   "outputs": [
    {
     "name": "stdout",
     "output_type": "stream",
     "text": [
      "R-Square on test set : 0.9522194534907354\n"
     ]
    }
   ],
   "source": [
    "# Make predictions on the testing set\n",
    "\n",
    "y_pred_test = model.predict(X_test)\n",
    "\n",
    "# Evaluate model performance on the testing set with R^2 error\n",
    "r2_test = r2_score(y_test, y_pred_test)\n",
    "\n",
    "print(f\"R-Square on test set : {r2_test}\")"
   ]
  },
  {
   "cell_type": "code",
   "execution_count": 109,
   "id": "5b5fd9e5",
   "metadata": {
    "ExecuteTime": {
     "end_time": "2024-02-18T05:30:46.601831Z",
     "start_time": "2024-02-18T05:30:46.582335Z"
    }
   },
   "outputs": [
    {
     "name": "stdout",
     "output_type": "stream",
     "text": [
      "MSE on train set : 0.027663852620055808\n"
     ]
    }
   ],
   "source": [
    "# Evaluate model performance on the training set (e.g., using MSE)\n",
    "from sklearn.metrics import mean_squared_error\n",
    "\n",
    "train_set_mean = mean_squared_error(y_train, y_pred)\n",
    "print(f\"MSE on train set : {train_set_mean}\")"
   ]
  },
  {
   "cell_type": "code",
   "execution_count": 110,
   "id": "b841bdd6",
   "metadata": {
    "ExecuteTime": {
     "end_time": "2024-02-18T05:30:52.547813Z",
     "start_time": "2024-02-18T05:30:52.494531Z"
    }
   },
   "outputs": [
    {
     "name": "stdout",
     "output_type": "stream",
     "text": [
      "MSE on test set : 0.029116934147784622\n"
     ]
    }
   ],
   "source": [
    "# Evaluate model performance on the training set (e.g., using MSE)\n",
    "train_set_mean = mean_squared_error(y_test, y_pred_test)\n",
    "print(f\"MSE on test set : {train_set_mean}\")"
   ]
  },
  {
   "cell_type": "markdown",
   "id": "1e12ded0",
   "metadata": {},
   "source": [
    "## Class activity excercise: [ Intermediate Level ]"
   ]
  },
  {
   "cell_type": "markdown",
   "id": "11557f84",
   "metadata": {},
   "source": [
    "**Problem:** Use the given link to explore the Dataset (penguins_size) and Apply the Linear Regression Algorithm for finding the relationship between Dependent and Independent variables \n",
    "\n",
    "\n",
    "Lik: https://www.kaggle.com/code/parulpandey/penguin-dataset-the-new-iris/input"
   ]
  },
  {
   "cell_type": "code",
   "execution_count": 1,
   "id": "1790d3b1",
   "metadata": {
    "ExecuteTime": {
     "end_time": "2024-02-15T18:06:36.134509Z",
     "start_time": "2024-02-15T18:06:34.529316Z"
    }
   },
   "outputs": [],
   "source": [
    "#import the neccessary library and Dataset (use penguins_size csv)\n",
    "import pandas as pd"
   ]
  },
  {
   "cell_type": "code",
   "execution_count": 2,
   "outputs": [
    {
     "data": {
      "text/plain": "    species     island  culmen_length_mm  culmen_depth_mm  flipper_length_mm  \\\n0    Adelie  Torgersen              39.1             18.7              181.0   \n1    Adelie  Torgersen              39.5             17.4              186.0   \n2    Adelie  Torgersen              40.3             18.0              195.0   \n3    Adelie  Torgersen               NaN              NaN                NaN   \n4    Adelie  Torgersen              36.7             19.3              193.0   \n..      ...        ...               ...              ...                ...   \n339  Gentoo     Biscoe               NaN              NaN                NaN   \n340  Gentoo     Biscoe              46.8             14.3              215.0   \n341  Gentoo     Biscoe              50.4             15.7              222.0   \n342  Gentoo     Biscoe              45.2             14.8              212.0   \n343  Gentoo     Biscoe              49.9             16.1              213.0   \n\n     body_mass_g     sex  \n0         3750.0    MALE  \n1         3800.0  FEMALE  \n2         3250.0  FEMALE  \n3            NaN     NaN  \n4         3450.0  FEMALE  \n..           ...     ...  \n339          NaN     NaN  \n340       4850.0  FEMALE  \n341       5750.0    MALE  \n342       5200.0  FEMALE  \n343       5400.0    MALE  \n\n[344 rows x 7 columns]",
      "text/html": "<div>\n<style scoped>\n    .dataframe tbody tr th:only-of-type {\n        vertical-align: middle;\n    }\n\n    .dataframe tbody tr th {\n        vertical-align: top;\n    }\n\n    .dataframe thead th {\n        text-align: right;\n    }\n</style>\n<table border=\"1\" class=\"dataframe\">\n  <thead>\n    <tr style=\"text-align: right;\">\n      <th></th>\n      <th>species</th>\n      <th>island</th>\n      <th>culmen_length_mm</th>\n      <th>culmen_depth_mm</th>\n      <th>flipper_length_mm</th>\n      <th>body_mass_g</th>\n      <th>sex</th>\n    </tr>\n  </thead>\n  <tbody>\n    <tr>\n      <th>0</th>\n      <td>Adelie</td>\n      <td>Torgersen</td>\n      <td>39.1</td>\n      <td>18.7</td>\n      <td>181.0</td>\n      <td>3750.0</td>\n      <td>MALE</td>\n    </tr>\n    <tr>\n      <th>1</th>\n      <td>Adelie</td>\n      <td>Torgersen</td>\n      <td>39.5</td>\n      <td>17.4</td>\n      <td>186.0</td>\n      <td>3800.0</td>\n      <td>FEMALE</td>\n    </tr>\n    <tr>\n      <th>2</th>\n      <td>Adelie</td>\n      <td>Torgersen</td>\n      <td>40.3</td>\n      <td>18.0</td>\n      <td>195.0</td>\n      <td>3250.0</td>\n      <td>FEMALE</td>\n    </tr>\n    <tr>\n      <th>3</th>\n      <td>Adelie</td>\n      <td>Torgersen</td>\n      <td>NaN</td>\n      <td>NaN</td>\n      <td>NaN</td>\n      <td>NaN</td>\n      <td>NaN</td>\n    </tr>\n    <tr>\n      <th>4</th>\n      <td>Adelie</td>\n      <td>Torgersen</td>\n      <td>36.7</td>\n      <td>19.3</td>\n      <td>193.0</td>\n      <td>3450.0</td>\n      <td>FEMALE</td>\n    </tr>\n    <tr>\n      <th>...</th>\n      <td>...</td>\n      <td>...</td>\n      <td>...</td>\n      <td>...</td>\n      <td>...</td>\n      <td>...</td>\n      <td>...</td>\n    </tr>\n    <tr>\n      <th>339</th>\n      <td>Gentoo</td>\n      <td>Biscoe</td>\n      <td>NaN</td>\n      <td>NaN</td>\n      <td>NaN</td>\n      <td>NaN</td>\n      <td>NaN</td>\n    </tr>\n    <tr>\n      <th>340</th>\n      <td>Gentoo</td>\n      <td>Biscoe</td>\n      <td>46.8</td>\n      <td>14.3</td>\n      <td>215.0</td>\n      <td>4850.0</td>\n      <td>FEMALE</td>\n    </tr>\n    <tr>\n      <th>341</th>\n      <td>Gentoo</td>\n      <td>Biscoe</td>\n      <td>50.4</td>\n      <td>15.7</td>\n      <td>222.0</td>\n      <td>5750.0</td>\n      <td>MALE</td>\n    </tr>\n    <tr>\n      <th>342</th>\n      <td>Gentoo</td>\n      <td>Biscoe</td>\n      <td>45.2</td>\n      <td>14.8</td>\n      <td>212.0</td>\n      <td>5200.0</td>\n      <td>FEMALE</td>\n    </tr>\n    <tr>\n      <th>343</th>\n      <td>Gentoo</td>\n      <td>Biscoe</td>\n      <td>49.9</td>\n      <td>16.1</td>\n      <td>213.0</td>\n      <td>5400.0</td>\n      <td>MALE</td>\n    </tr>\n  </tbody>\n</table>\n<p>344 rows × 7 columns</p>\n</div>"
     },
     "execution_count": 2,
     "metadata": {},
     "output_type": "execute_result"
    }
   ],
   "source": [
    "dataSetRaw = pd.read_csv('../Datasets/penguins_size.csv')\n",
    "dataSetRaw"
   ],
   "metadata": {
    "collapsed": false,
    "ExecuteTime": {
     "end_time": "2024-02-15T18:06:37.315285Z",
     "start_time": "2024-02-15T18:06:37.170133Z"
    }
   },
   "id": "2da4b36e74609f80"
  },
  {
   "cell_type": "code",
   "execution_count": 55,
   "id": "851f9de1",
   "metadata": {
    "ExecuteTime": {
     "end_time": "2024-02-15T18:36:16.173693Z",
     "start_time": "2024-02-15T18:36:16.149962Z"
    }
   },
   "outputs": [
    {
     "data": {
      "text/plain": "     culmen_length_mm  culmen_depth_mm  flipper_length_mm  body_mass_g\n0                39.1             18.7              181.0       3750.0\n1                39.5             17.4              186.0       3800.0\n2                40.3             18.0              195.0       3250.0\n3                 NaN              NaN                NaN          NaN\n4                36.7             19.3              193.0       3450.0\n..                ...              ...                ...          ...\n339               NaN              NaN                NaN          NaN\n340              46.8             14.3              215.0       4850.0\n341              50.4             15.7              222.0       5750.0\n342              45.2             14.8              212.0       5200.0\n343              49.9             16.1              213.0       5400.0\n\n[344 rows x 4 columns]",
      "text/html": "<div>\n<style scoped>\n    .dataframe tbody tr th:only-of-type {\n        vertical-align: middle;\n    }\n\n    .dataframe tbody tr th {\n        vertical-align: top;\n    }\n\n    .dataframe thead th {\n        text-align: right;\n    }\n</style>\n<table border=\"1\" class=\"dataframe\">\n  <thead>\n    <tr style=\"text-align: right;\">\n      <th></th>\n      <th>culmen_length_mm</th>\n      <th>culmen_depth_mm</th>\n      <th>flipper_length_mm</th>\n      <th>body_mass_g</th>\n    </tr>\n  </thead>\n  <tbody>\n    <tr>\n      <th>0</th>\n      <td>39.1</td>\n      <td>18.7</td>\n      <td>181.0</td>\n      <td>3750.0</td>\n    </tr>\n    <tr>\n      <th>1</th>\n      <td>39.5</td>\n      <td>17.4</td>\n      <td>186.0</td>\n      <td>3800.0</td>\n    </tr>\n    <tr>\n      <th>2</th>\n      <td>40.3</td>\n      <td>18.0</td>\n      <td>195.0</td>\n      <td>3250.0</td>\n    </tr>\n    <tr>\n      <th>3</th>\n      <td>NaN</td>\n      <td>NaN</td>\n      <td>NaN</td>\n      <td>NaN</td>\n    </tr>\n    <tr>\n      <th>4</th>\n      <td>36.7</td>\n      <td>19.3</td>\n      <td>193.0</td>\n      <td>3450.0</td>\n    </tr>\n    <tr>\n      <th>...</th>\n      <td>...</td>\n      <td>...</td>\n      <td>...</td>\n      <td>...</td>\n    </tr>\n    <tr>\n      <th>339</th>\n      <td>NaN</td>\n      <td>NaN</td>\n      <td>NaN</td>\n      <td>NaN</td>\n    </tr>\n    <tr>\n      <th>340</th>\n      <td>46.8</td>\n      <td>14.3</td>\n      <td>215.0</td>\n      <td>4850.0</td>\n    </tr>\n    <tr>\n      <th>341</th>\n      <td>50.4</td>\n      <td>15.7</td>\n      <td>222.0</td>\n      <td>5750.0</td>\n    </tr>\n    <tr>\n      <th>342</th>\n      <td>45.2</td>\n      <td>14.8</td>\n      <td>212.0</td>\n      <td>5200.0</td>\n    </tr>\n    <tr>\n      <th>343</th>\n      <td>49.9</td>\n      <td>16.1</td>\n      <td>213.0</td>\n      <td>5400.0</td>\n    </tr>\n  </tbody>\n</table>\n<p>344 rows × 4 columns</p>\n</div>"
     },
     "execution_count": 55,
     "metadata": {},
     "output_type": "execute_result"
    }
   ],
   "source": [
    "# Data Pre-processing\n",
    "\n",
    "# Dropping the columns with non-numeric values\n",
    "dataSet = dataSetRaw.drop(['species', 'island', 'sex'], axis=1)\n",
    "dataSet"
   ]
  },
  {
   "cell_type": "code",
   "execution_count": 56,
   "outputs": [
    {
     "data": {
      "text/plain": "     culmen_length_mm  culmen_depth_mm  flipper_length_mm  body_mass_g\n0               39.10            18.70             181.00      3750.00\n1               39.50            17.40             186.00      3800.00\n2               40.30            18.00             195.00      3250.00\n3               43.92            17.15             200.92      4201.75\n4               36.70            19.30             193.00      3450.00\n..                ...              ...                ...          ...\n339             43.92            17.15             200.92      4201.75\n340             46.80            14.30             215.00      4850.00\n341             50.40            15.70             222.00      5750.00\n342             45.20            14.80             212.00      5200.00\n343             49.90            16.10             213.00      5400.00\n\n[344 rows x 4 columns]",
      "text/html": "<div>\n<style scoped>\n    .dataframe tbody tr th:only-of-type {\n        vertical-align: middle;\n    }\n\n    .dataframe tbody tr th {\n        vertical-align: top;\n    }\n\n    .dataframe thead th {\n        text-align: right;\n    }\n</style>\n<table border=\"1\" class=\"dataframe\">\n  <thead>\n    <tr style=\"text-align: right;\">\n      <th></th>\n      <th>culmen_length_mm</th>\n      <th>culmen_depth_mm</th>\n      <th>flipper_length_mm</th>\n      <th>body_mass_g</th>\n    </tr>\n  </thead>\n  <tbody>\n    <tr>\n      <th>0</th>\n      <td>39.10</td>\n      <td>18.70</td>\n      <td>181.00</td>\n      <td>3750.00</td>\n    </tr>\n    <tr>\n      <th>1</th>\n      <td>39.50</td>\n      <td>17.40</td>\n      <td>186.00</td>\n      <td>3800.00</td>\n    </tr>\n    <tr>\n      <th>2</th>\n      <td>40.30</td>\n      <td>18.00</td>\n      <td>195.00</td>\n      <td>3250.00</td>\n    </tr>\n    <tr>\n      <th>3</th>\n      <td>43.92</td>\n      <td>17.15</td>\n      <td>200.92</td>\n      <td>4201.75</td>\n    </tr>\n    <tr>\n      <th>4</th>\n      <td>36.70</td>\n      <td>19.30</td>\n      <td>193.00</td>\n      <td>3450.00</td>\n    </tr>\n    <tr>\n      <th>...</th>\n      <td>...</td>\n      <td>...</td>\n      <td>...</td>\n      <td>...</td>\n    </tr>\n    <tr>\n      <th>339</th>\n      <td>43.92</td>\n      <td>17.15</td>\n      <td>200.92</td>\n      <td>4201.75</td>\n    </tr>\n    <tr>\n      <th>340</th>\n      <td>46.80</td>\n      <td>14.30</td>\n      <td>215.00</td>\n      <td>4850.00</td>\n    </tr>\n    <tr>\n      <th>341</th>\n      <td>50.40</td>\n      <td>15.70</td>\n      <td>222.00</td>\n      <td>5750.00</td>\n    </tr>\n    <tr>\n      <th>342</th>\n      <td>45.20</td>\n      <td>14.80</td>\n      <td>212.00</td>\n      <td>5200.00</td>\n    </tr>\n    <tr>\n      <th>343</th>\n      <td>49.90</td>\n      <td>16.10</td>\n      <td>213.00</td>\n      <td>5400.00</td>\n    </tr>\n  </tbody>\n</table>\n<p>344 rows × 4 columns</p>\n</div>"
     },
     "execution_count": 56,
     "metadata": {},
     "output_type": "execute_result"
    }
   ],
   "source": [
    "# Processing the missing values\n",
    "\n",
    "# Filling each column's missing value with the Mean value\n",
    "meanValue = dataSet.mean().round(2)\n",
    "dataSet = dataSet.fillna(meanValue)"
   ],
   "metadata": {
    "collapsed": false,
    "ExecuteTime": {
     "end_time": "2024-02-15T18:36:17.097531Z",
     "start_time": "2024-02-15T18:36:17.086328Z"
    }
   },
   "id": "42f0a29cf964270"
  },
  {
   "cell_type": "code",
   "execution_count": 94,
   "outputs": [
    {
     "name": "stdout",
     "output_type": "stream",
     "text": [
      "species                3\n",
      "island                 3\n",
      "culmen_length_mm     164\n",
      "culmen_depth_mm       80\n",
      "flipper_length_mm     55\n",
      "body_mass_g           94\n",
      "sex                    3\n",
      "dtype: int64\n"
     ]
    }
   ],
   "source": [
    "# Finding the unique labels\n",
    "uniqueValues = dataSetRaw.nunique()\n",
    "print(uniqueValues)\n",
    "\n",
    "# Cols with Categorical data\n",
    "categoricalCols = dataSetRaw.drop(['culmen_depth_mm', 'culmen_length_mm', 'flipper_length_mm', 'body_mass_g'], axis=1)"
   ],
   "metadata": {
    "collapsed": false,
    "ExecuteTime": {
     "end_time": "2024-02-15T18:57:53.690335Z",
     "start_time": "2024-02-15T18:57:53.678148Z"
    }
   },
   "id": "44ab754f1e436c0c"
  },
  {
   "cell_type": "code",
   "execution_count": 95,
   "outputs": [
    {
     "name": "stdout",
     "output_type": "stream",
     "text": [
      "Count before dropping the NaN values : 10\n",
      "Count after dropping the NaN values : 0\n"
     ]
    }
   ],
   "source": [
    "# Since the Sex col has 3 unique type which should actually be 2 ONLY\n",
    "# the other is NaN value\n",
    "# and the count of NaN values are less so, we can drop them in our case it's (10)\n",
    "print(\"Count before dropping the NaN values :\", categoricalCols['sex'].isna().sum())\n",
    "categoricalCols = categoricalCols.dropna(subset=['sex'])\n",
    "print(\"Count after dropping the NaN values :\", categoricalCols['sex'].isna().sum())"
   ],
   "metadata": {
    "collapsed": false,
    "ExecuteTime": {
     "end_time": "2024-02-15T18:57:55.463712Z",
     "start_time": "2024-02-15T18:57:55.450160Z"
    }
   },
   "id": "c26c0192b265389b"
  },
  {
   "cell_type": "code",
   "execution_count": 134,
   "outputs": [],
   "source": [
    "# Dropping the NaN values from the other 2 columns"
   ],
   "metadata": {
    "collapsed": false,
    "ExecuteTime": {
     "end_time": "2024-02-15T19:47:19.666360Z",
     "start_time": "2024-02-15T19:47:19.603272Z"
    }
   },
   "id": "8685e90337412a74"
  },
  {
   "cell_type": "code",
   "execution_count": 115,
   "outputs": [
    {
     "name": "stdout",
     "output_type": "stream",
     "text": [
      "species    3\n",
      "island     3\n",
      "sex        2\n",
      "dtype: int64\n"
     ]
    }
   ],
   "source": [
    "# Unique values after fixing the 'sex' column\n",
    "# There was a (.) somewhere hidden in the data set that, I have removed using the\n",
    "# Below operation, and finally we have ONLY 2 unique in Sex col (M/F)\n",
    "categoricalCols = categoricalCols[categoricalCols['sex'] != '.']\n",
    "print(categoricalCols.nunique())\n"
   ],
   "metadata": {
    "collapsed": false,
    "ExecuteTime": {
     "end_time": "2024-02-15T19:23:08.624406Z",
     "start_time": "2024-02-15T19:23:08.602914Z"
    }
   },
   "id": "7234d6c6cb74f8bc"
  },
  {
   "cell_type": "code",
   "execution_count": 117,
   "outputs": [
    {
     "data": {
      "text/plain": "     species  island  sex\n0          0       2    1\n1          0       2    0\n2          0       2    0\n4          0       2    0\n5          0       2    1\n..       ...     ...  ...\n338        2       0    0\n340        2       0    0\n341        2       0    1\n342        2       0    0\n343        2       0    1\n\n[333 rows x 3 columns]",
      "text/html": "<div>\n<style scoped>\n    .dataframe tbody tr th:only-of-type {\n        vertical-align: middle;\n    }\n\n    .dataframe tbody tr th {\n        vertical-align: top;\n    }\n\n    .dataframe thead th {\n        text-align: right;\n    }\n</style>\n<table border=\"1\" class=\"dataframe\">\n  <thead>\n    <tr style=\"text-align: right;\">\n      <th></th>\n      <th>species</th>\n      <th>island</th>\n      <th>sex</th>\n    </tr>\n  </thead>\n  <tbody>\n    <tr>\n      <th>0</th>\n      <td>0</td>\n      <td>2</td>\n      <td>1</td>\n    </tr>\n    <tr>\n      <th>1</th>\n      <td>0</td>\n      <td>2</td>\n      <td>0</td>\n    </tr>\n    <tr>\n      <th>2</th>\n      <td>0</td>\n      <td>2</td>\n      <td>0</td>\n    </tr>\n    <tr>\n      <th>4</th>\n      <td>0</td>\n      <td>2</td>\n      <td>0</td>\n    </tr>\n    <tr>\n      <th>5</th>\n      <td>0</td>\n      <td>2</td>\n      <td>1</td>\n    </tr>\n    <tr>\n      <th>...</th>\n      <td>...</td>\n      <td>...</td>\n      <td>...</td>\n    </tr>\n    <tr>\n      <th>338</th>\n      <td>2</td>\n      <td>0</td>\n      <td>0</td>\n    </tr>\n    <tr>\n      <th>340</th>\n      <td>2</td>\n      <td>0</td>\n      <td>0</td>\n    </tr>\n    <tr>\n      <th>341</th>\n      <td>2</td>\n      <td>0</td>\n      <td>1</td>\n    </tr>\n    <tr>\n      <th>342</th>\n      <td>2</td>\n      <td>0</td>\n      <td>0</td>\n    </tr>\n    <tr>\n      <th>343</th>\n      <td>2</td>\n      <td>0</td>\n      <td>1</td>\n    </tr>\n  </tbody>\n</table>\n<p>333 rows × 3 columns</p>\n</div>"
     },
     "execution_count": 117,
     "metadata": {},
     "output_type": "execute_result"
    }
   ],
   "source": [
    "# Converting the categorical Values of the dataset to numeric values like,\n",
    "# species, island, sex using Label Encoders\n",
    "\n",
    "from sklearn.preprocessing import LabelEncoder\n",
    "\n",
    "labelEncoder = LabelEncoder()\n",
    "\n",
    "for col in categoricalCols.columns:\n",
    "    if categoricalCols[col].dtype == 'object':\n",
    "        categoricalCols[col] = labelEncoder.fit_transform(categoricalCols[col])\n",
    "        \n",
    "categoricalCols\n"
   ],
   "metadata": {
    "collapsed": false,
    "ExecuteTime": {
     "end_time": "2024-02-15T19:23:48.915978Z",
     "start_time": "2024-02-15T19:23:48.886285Z"
    }
   },
   "id": "2478649ccca1fa04"
  },
  {
   "cell_type": "code",
   "execution_count": 118,
   "outputs": [
    {
     "data": {
      "text/plain": "     species  island  sex  culmen_length_mm  culmen_depth_mm  \\\n0        0.0     2.0  1.0             39.10            18.70   \n1        0.0     2.0  0.0             39.50            17.40   \n2        0.0     2.0  0.0             40.30            18.00   \n4        0.0     2.0  0.0             36.70            19.30   \n5        0.0     2.0  1.0             39.30            20.60   \n..       ...     ...  ...               ...              ...   \n246      NaN     NaN  NaN             44.50            14.30   \n286      NaN     NaN  NaN             46.20            14.40   \n324      NaN     NaN  NaN             47.30            13.80   \n336      NaN     NaN  NaN             44.50            15.70   \n339      NaN     NaN  NaN             43.92            17.15   \n\n     flipper_length_mm  body_mass_g  \n0               181.00      3750.00  \n1               186.00      3800.00  \n2               195.00      3250.00  \n4               193.00      3450.00  \n5               190.00      3650.00  \n..                 ...          ...  \n246             216.00      4100.00  \n286             214.00      4650.00  \n324             216.00      4725.00  \n336             217.00      4875.00  \n339             200.92      4201.75  \n\n[344 rows x 7 columns]",
      "text/html": "<div>\n<style scoped>\n    .dataframe tbody tr th:only-of-type {\n        vertical-align: middle;\n    }\n\n    .dataframe tbody tr th {\n        vertical-align: top;\n    }\n\n    .dataframe thead th {\n        text-align: right;\n    }\n</style>\n<table border=\"1\" class=\"dataframe\">\n  <thead>\n    <tr style=\"text-align: right;\">\n      <th></th>\n      <th>species</th>\n      <th>island</th>\n      <th>sex</th>\n      <th>culmen_length_mm</th>\n      <th>culmen_depth_mm</th>\n      <th>flipper_length_mm</th>\n      <th>body_mass_g</th>\n    </tr>\n  </thead>\n  <tbody>\n    <tr>\n      <th>0</th>\n      <td>0.0</td>\n      <td>2.0</td>\n      <td>1.0</td>\n      <td>39.10</td>\n      <td>18.70</td>\n      <td>181.00</td>\n      <td>3750.00</td>\n    </tr>\n    <tr>\n      <th>1</th>\n      <td>0.0</td>\n      <td>2.0</td>\n      <td>0.0</td>\n      <td>39.50</td>\n      <td>17.40</td>\n      <td>186.00</td>\n      <td>3800.00</td>\n    </tr>\n    <tr>\n      <th>2</th>\n      <td>0.0</td>\n      <td>2.0</td>\n      <td>0.0</td>\n      <td>40.30</td>\n      <td>18.00</td>\n      <td>195.00</td>\n      <td>3250.00</td>\n    </tr>\n    <tr>\n      <th>4</th>\n      <td>0.0</td>\n      <td>2.0</td>\n      <td>0.0</td>\n      <td>36.70</td>\n      <td>19.30</td>\n      <td>193.00</td>\n      <td>3450.00</td>\n    </tr>\n    <tr>\n      <th>5</th>\n      <td>0.0</td>\n      <td>2.0</td>\n      <td>1.0</td>\n      <td>39.30</td>\n      <td>20.60</td>\n      <td>190.00</td>\n      <td>3650.00</td>\n    </tr>\n    <tr>\n      <th>...</th>\n      <td>...</td>\n      <td>...</td>\n      <td>...</td>\n      <td>...</td>\n      <td>...</td>\n      <td>...</td>\n      <td>...</td>\n    </tr>\n    <tr>\n      <th>246</th>\n      <td>NaN</td>\n      <td>NaN</td>\n      <td>NaN</td>\n      <td>44.50</td>\n      <td>14.30</td>\n      <td>216.00</td>\n      <td>4100.00</td>\n    </tr>\n    <tr>\n      <th>286</th>\n      <td>NaN</td>\n      <td>NaN</td>\n      <td>NaN</td>\n      <td>46.20</td>\n      <td>14.40</td>\n      <td>214.00</td>\n      <td>4650.00</td>\n    </tr>\n    <tr>\n      <th>324</th>\n      <td>NaN</td>\n      <td>NaN</td>\n      <td>NaN</td>\n      <td>47.30</td>\n      <td>13.80</td>\n      <td>216.00</td>\n      <td>4725.00</td>\n    </tr>\n    <tr>\n      <th>336</th>\n      <td>NaN</td>\n      <td>NaN</td>\n      <td>NaN</td>\n      <td>44.50</td>\n      <td>15.70</td>\n      <td>217.00</td>\n      <td>4875.00</td>\n    </tr>\n    <tr>\n      <th>339</th>\n      <td>NaN</td>\n      <td>NaN</td>\n      <td>NaN</td>\n      <td>43.92</td>\n      <td>17.15</td>\n      <td>200.92</td>\n      <td>4201.75</td>\n    </tr>\n  </tbody>\n</table>\n<p>344 rows × 7 columns</p>\n</div>"
     },
     "execution_count": 118,
     "metadata": {},
     "output_type": "execute_result"
    }
   ],
   "source": [
    "# Now combining the entire dataset into one clean dataset\n",
    "cleanData = pd.concat([categoricalCols, dataSet], axis=1)\n",
    "cleanData"
   ],
   "metadata": {
    "collapsed": false,
    "ExecuteTime": {
     "end_time": "2024-02-15T19:27:06.297916Z",
     "start_time": "2024-02-15T19:27:05.901240Z"
    }
   },
   "id": "c575bb7b24190c1a"
  },
  {
   "cell_type": "code",
   "execution_count": 120,
   "outputs": [
    {
     "data": {
      "text/plain": "Index(['species', 'island', 'sex', 'culmen_length_mm', 'culmen_depth_mm',\n       'flipper_length_mm', 'body_mass_g'],\n      dtype='object')"
     },
     "execution_count": 120,
     "metadata": {},
     "output_type": "execute_result"
    }
   ],
   "source": [
    "cleanData.columns\n",
    "# We see that all the columns have been arranged back,\n",
    "# Now we can start workign on building the ML model (Linear regression) "
   ],
   "metadata": {
    "collapsed": false,
    "ExecuteTime": {
     "end_time": "2024-02-15T19:30:16.591826Z",
     "start_time": "2024-02-15T19:30:16.566133Z"
    }
   },
   "id": "38c7b2421a7f08a6"
  },
  {
   "cell_type": "code",
   "execution_count": 138,
   "outputs": [],
   "source": [
    "cleanData = cleanData.dropna(axis=0)"
   ],
   "metadata": {
    "collapsed": false,
    "ExecuteTime": {
     "end_time": "2024-02-15T19:48:26.739565Z",
     "start_time": "2024-02-15T19:48:26.708686Z"
    }
   },
   "id": "14742fc7c211cf5f"
  },
  {
   "cell_type": "code",
   "execution_count": 139,
   "outputs": [
    {
     "data": {
      "text/plain": "species              0\nisland               0\nsex                  0\nculmen_length_mm     0\nculmen_depth_mm      0\nflipper_length_mm    0\nbody_mass_g          0\ndtype: int64"
     },
     "execution_count": 139,
     "metadata": {},
     "output_type": "execute_result"
    }
   ],
   "source": [
    "cleanData.isna().sum()"
   ],
   "metadata": {
    "collapsed": false,
    "ExecuteTime": {
     "end_time": "2024-02-15T19:48:28.033150Z",
     "start_time": "2024-02-15T19:48:28.017334Z"
    }
   },
   "id": "e0ce400bbf2c6445"
  },
  {
   "cell_type": "code",
   "execution_count": 141,
   "outputs": [],
   "source": [
    "# Making the 'species' as our target variable and others as the predictor variables\n",
    "\n",
    "# Taking X as our predictor variable and droping the species\n",
    "X = cleanData.drop(['species'], axis=1)\n",
    "\n",
    "# Taking y as out target variable\n",
    "y = cleanData['species']"
   ],
   "metadata": {
    "collapsed": false,
    "ExecuteTime": {
     "end_time": "2024-02-15T19:48:46.176331Z",
     "start_time": "2024-02-15T19:48:46.131578Z"
    }
   },
   "id": "ea180956a26b77cd"
  },
  {
   "cell_type": "code",
   "execution_count": 142,
   "id": "0b2f4681",
   "metadata": {
    "ExecuteTime": {
     "end_time": "2024-02-15T19:48:48.028283Z",
     "start_time": "2024-02-15T19:48:48.009613Z"
    }
   },
   "outputs": [],
   "source": [
    "#Split the Dataset into training and testing Set\n",
    "\n",
    "# We will be using train_test_split from sklearn to split the dataset\n",
    "from sklearn.model_selection import train_test_split\n",
    "# we will split into training set for X & y and testing set for X and y\n",
    "\n",
    "X_train, X_test, y_train, y_test = train_test_split(X, y, test_size=0.2, random_state=35)"
   ]
  },
  {
   "cell_type": "code",
   "execution_count": 143,
   "id": "0306441e",
   "metadata": {
    "ExecuteTime": {
     "end_time": "2024-02-15T19:48:49.204651Z",
     "start_time": "2024-02-15T19:48:49.181290Z"
    }
   },
   "outputs": [
    {
     "data": {
      "text/plain": "LinearRegression()",
      "text/html": "<style>#sk-container-id-1 {\n  /* Definition of color scheme common for light and dark mode */\n  --sklearn-color-text: black;\n  --sklearn-color-line: gray;\n  /* Definition of color scheme for unfitted estimators */\n  --sklearn-color-unfitted-level-0: #fff5e6;\n  --sklearn-color-unfitted-level-1: #f6e4d2;\n  --sklearn-color-unfitted-level-2: #ffe0b3;\n  --sklearn-color-unfitted-level-3: chocolate;\n  /* Definition of color scheme for fitted estimators */\n  --sklearn-color-fitted-level-0: #f0f8ff;\n  --sklearn-color-fitted-level-1: #d4ebff;\n  --sklearn-color-fitted-level-2: #b3dbfd;\n  --sklearn-color-fitted-level-3: cornflowerblue;\n\n  /* Specific color for light theme */\n  --sklearn-color-text-on-default-background: var(--sg-text-color, var(--theme-code-foreground, var(--jp-content-font-color1, black)));\n  --sklearn-color-background: var(--sg-background-color, var(--theme-background, var(--jp-layout-color0, white)));\n  --sklearn-color-border-box: var(--sg-text-color, var(--theme-code-foreground, var(--jp-content-font-color1, black)));\n  --sklearn-color-icon: #696969;\n\n  @media (prefers-color-scheme: dark) {\n    /* Redefinition of color scheme for dark theme */\n    --sklearn-color-text-on-default-background: var(--sg-text-color, var(--theme-code-foreground, var(--jp-content-font-color1, white)));\n    --sklearn-color-background: var(--sg-background-color, var(--theme-background, var(--jp-layout-color0, #111)));\n    --sklearn-color-border-box: var(--sg-text-color, var(--theme-code-foreground, var(--jp-content-font-color1, white)));\n    --sklearn-color-icon: #878787;\n  }\n}\n\n#sk-container-id-1 {\n  color: var(--sklearn-color-text);\n}\n\n#sk-container-id-1 pre {\n  padding: 0;\n}\n\n#sk-container-id-1 input.sk-hidden--visually {\n  border: 0;\n  clip: rect(1px 1px 1px 1px);\n  clip: rect(1px, 1px, 1px, 1px);\n  height: 1px;\n  margin: -1px;\n  overflow: hidden;\n  padding: 0;\n  position: absolute;\n  width: 1px;\n}\n\n#sk-container-id-1 div.sk-dashed-wrapped {\n  border: 1px dashed var(--sklearn-color-line);\n  margin: 0 0.4em 0.5em 0.4em;\n  box-sizing: border-box;\n  padding-bottom: 0.4em;\n  background-color: var(--sklearn-color-background);\n}\n\n#sk-container-id-1 div.sk-container {\n  /* jupyter's `normalize.less` sets `[hidden] { display: none; }`\n     but bootstrap.min.css set `[hidden] { display: none !important; }`\n     so we also need the `!important` here to be able to override the\n     default hidden behavior on the sphinx rendered scikit-learn.org.\n     See: https://github.com/scikit-learn/scikit-learn/issues/21755 */\n  display: inline-block !important;\n  position: relative;\n}\n\n#sk-container-id-1 div.sk-text-repr-fallback {\n  display: none;\n}\n\ndiv.sk-parallel-item,\ndiv.sk-serial,\ndiv.sk-item {\n  /* draw centered vertical line to link estimators */\n  background-image: linear-gradient(var(--sklearn-color-text-on-default-background), var(--sklearn-color-text-on-default-background));\n  background-size: 2px 100%;\n  background-repeat: no-repeat;\n  background-position: center center;\n}\n\n/* Parallel-specific style estimator block */\n\n#sk-container-id-1 div.sk-parallel-item::after {\n  content: \"\";\n  width: 100%;\n  border-bottom: 2px solid var(--sklearn-color-text-on-default-background);\n  flex-grow: 1;\n}\n\n#sk-container-id-1 div.sk-parallel {\n  display: flex;\n  align-items: stretch;\n  justify-content: center;\n  background-color: var(--sklearn-color-background);\n  position: relative;\n}\n\n#sk-container-id-1 div.sk-parallel-item {\n  display: flex;\n  flex-direction: column;\n}\n\n#sk-container-id-1 div.sk-parallel-item:first-child::after {\n  align-self: flex-end;\n  width: 50%;\n}\n\n#sk-container-id-1 div.sk-parallel-item:last-child::after {\n  align-self: flex-start;\n  width: 50%;\n}\n\n#sk-container-id-1 div.sk-parallel-item:only-child::after {\n  width: 0;\n}\n\n/* Serial-specific style estimator block */\n\n#sk-container-id-1 div.sk-serial {\n  display: flex;\n  flex-direction: column;\n  align-items: center;\n  background-color: var(--sklearn-color-background);\n  padding-right: 1em;\n  padding-left: 1em;\n}\n\n\n/* Toggleable style: style used for estimator/Pipeline/ColumnTransformer box that is\nclickable and can be expanded/collapsed.\n- Pipeline and ColumnTransformer use this feature and define the default style\n- Estimators will overwrite some part of the style using the `sk-estimator` class\n*/\n\n/* Pipeline and ColumnTransformer style (default) */\n\n#sk-container-id-1 div.sk-toggleable {\n  /* Default theme specific background. It is overwritten whether we have a\n  specific estimator or a Pipeline/ColumnTransformer */\n  background-color: var(--sklearn-color-background);\n}\n\n/* Toggleable label */\n#sk-container-id-1 label.sk-toggleable__label {\n  cursor: pointer;\n  display: block;\n  width: 100%;\n  margin-bottom: 0;\n  padding: 0.5em;\n  box-sizing: border-box;\n  text-align: center;\n}\n\n#sk-container-id-1 label.sk-toggleable__label-arrow:before {\n  /* Arrow on the left of the label */\n  content: \"▸\";\n  float: left;\n  margin-right: 0.25em;\n  color: var(--sklearn-color-icon);\n}\n\n#sk-container-id-1 label.sk-toggleable__label-arrow:hover:before {\n  color: var(--sklearn-color-text);\n}\n\n/* Toggleable content - dropdown */\n\n#sk-container-id-1 div.sk-toggleable__content {\n  max-height: 0;\n  max-width: 0;\n  overflow: hidden;\n  text-align: left;\n  /* unfitted */\n  background-color: var(--sklearn-color-unfitted-level-0);\n}\n\n#sk-container-id-1 div.sk-toggleable__content.fitted {\n  /* fitted */\n  background-color: var(--sklearn-color-fitted-level-0);\n}\n\n#sk-container-id-1 div.sk-toggleable__content pre {\n  margin: 0.2em;\n  border-radius: 0.25em;\n  color: var(--sklearn-color-text);\n  /* unfitted */\n  background-color: var(--sklearn-color-unfitted-level-0);\n}\n\n#sk-container-id-1 div.sk-toggleable__content.fitted pre {\n  /* unfitted */\n  background-color: var(--sklearn-color-fitted-level-0);\n}\n\n#sk-container-id-1 input.sk-toggleable__control:checked~div.sk-toggleable__content {\n  /* Expand drop-down */\n  max-height: 200px;\n  max-width: 100%;\n  overflow: auto;\n}\n\n#sk-container-id-1 input.sk-toggleable__control:checked~label.sk-toggleable__label-arrow:before {\n  content: \"▾\";\n}\n\n/* Pipeline/ColumnTransformer-specific style */\n\n#sk-container-id-1 div.sk-label input.sk-toggleable__control:checked~label.sk-toggleable__label {\n  color: var(--sklearn-color-text);\n  background-color: var(--sklearn-color-unfitted-level-2);\n}\n\n#sk-container-id-1 div.sk-label.fitted input.sk-toggleable__control:checked~label.sk-toggleable__label {\n  background-color: var(--sklearn-color-fitted-level-2);\n}\n\n/* Estimator-specific style */\n\n/* Colorize estimator box */\n#sk-container-id-1 div.sk-estimator input.sk-toggleable__control:checked~label.sk-toggleable__label {\n  /* unfitted */\n  background-color: var(--sklearn-color-unfitted-level-2);\n}\n\n#sk-container-id-1 div.sk-estimator.fitted input.sk-toggleable__control:checked~label.sk-toggleable__label {\n  /* fitted */\n  background-color: var(--sklearn-color-fitted-level-2);\n}\n\n#sk-container-id-1 div.sk-label label.sk-toggleable__label,\n#sk-container-id-1 div.sk-label label {\n  /* The background is the default theme color */\n  color: var(--sklearn-color-text-on-default-background);\n}\n\n/* On hover, darken the color of the background */\n#sk-container-id-1 div.sk-label:hover label.sk-toggleable__label {\n  color: var(--sklearn-color-text);\n  background-color: var(--sklearn-color-unfitted-level-2);\n}\n\n/* Label box, darken color on hover, fitted */\n#sk-container-id-1 div.sk-label.fitted:hover label.sk-toggleable__label.fitted {\n  color: var(--sklearn-color-text);\n  background-color: var(--sklearn-color-fitted-level-2);\n}\n\n/* Estimator label */\n\n#sk-container-id-1 div.sk-label label {\n  font-family: monospace;\n  font-weight: bold;\n  display: inline-block;\n  line-height: 1.2em;\n}\n\n#sk-container-id-1 div.sk-label-container {\n  text-align: center;\n}\n\n/* Estimator-specific */\n#sk-container-id-1 div.sk-estimator {\n  font-family: monospace;\n  border: 1px dotted var(--sklearn-color-border-box);\n  border-radius: 0.25em;\n  box-sizing: border-box;\n  margin-bottom: 0.5em;\n  /* unfitted */\n  background-color: var(--sklearn-color-unfitted-level-0);\n}\n\n#sk-container-id-1 div.sk-estimator.fitted {\n  /* fitted */\n  background-color: var(--sklearn-color-fitted-level-0);\n}\n\n/* on hover */\n#sk-container-id-1 div.sk-estimator:hover {\n  /* unfitted */\n  background-color: var(--sklearn-color-unfitted-level-2);\n}\n\n#sk-container-id-1 div.sk-estimator.fitted:hover {\n  /* fitted */\n  background-color: var(--sklearn-color-fitted-level-2);\n}\n\n/* Specification for estimator info (e.g. \"i\" and \"?\") */\n\n/* Common style for \"i\" and \"?\" */\n\n.sk-estimator-doc-link,\na:link.sk-estimator-doc-link,\na:visited.sk-estimator-doc-link {\n  float: right;\n  font-size: smaller;\n  line-height: 1em;\n  font-family: monospace;\n  background-color: var(--sklearn-color-background);\n  border-radius: 1em;\n  height: 1em;\n  width: 1em;\n  text-decoration: none !important;\n  margin-left: 1ex;\n  /* unfitted */\n  border: var(--sklearn-color-unfitted-level-1) 1pt solid;\n  color: var(--sklearn-color-unfitted-level-1);\n}\n\n.sk-estimator-doc-link.fitted,\na:link.sk-estimator-doc-link.fitted,\na:visited.sk-estimator-doc-link.fitted {\n  /* fitted */\n  border: var(--sklearn-color-fitted-level-1) 1pt solid;\n  color: var(--sklearn-color-fitted-level-1);\n}\n\n/* On hover */\ndiv.sk-estimator:hover .sk-estimator-doc-link:hover,\n.sk-estimator-doc-link:hover,\ndiv.sk-label-container:hover .sk-estimator-doc-link:hover,\n.sk-estimator-doc-link:hover {\n  /* unfitted */\n  background-color: var(--sklearn-color-unfitted-level-3);\n  color: var(--sklearn-color-background);\n  text-decoration: none;\n}\n\ndiv.sk-estimator.fitted:hover .sk-estimator-doc-link.fitted:hover,\n.sk-estimator-doc-link.fitted:hover,\ndiv.sk-label-container:hover .sk-estimator-doc-link.fitted:hover,\n.sk-estimator-doc-link.fitted:hover {\n  /* fitted */\n  background-color: var(--sklearn-color-fitted-level-3);\n  color: var(--sklearn-color-background);\n  text-decoration: none;\n}\n\n/* Span, style for the box shown on hovering the info icon */\n.sk-estimator-doc-link span {\n  display: none;\n  z-index: 9999;\n  position: relative;\n  font-weight: normal;\n  right: .2ex;\n  padding: .5ex;\n  margin: .5ex;\n  width: min-content;\n  min-width: 20ex;\n  max-width: 50ex;\n  color: var(--sklearn-color-text);\n  box-shadow: 2pt 2pt 4pt #999;\n  /* unfitted */\n  background: var(--sklearn-color-unfitted-level-0);\n  border: .5pt solid var(--sklearn-color-unfitted-level-3);\n}\n\n.sk-estimator-doc-link.fitted span {\n  /* fitted */\n  background: var(--sklearn-color-fitted-level-0);\n  border: var(--sklearn-color-fitted-level-3);\n}\n\n.sk-estimator-doc-link:hover span {\n  display: block;\n}\n\n/* \"?\"-specific style due to the `<a>` HTML tag */\n\n#sk-container-id-1 a.estimator_doc_link {\n  float: right;\n  font-size: 1rem;\n  line-height: 1em;\n  font-family: monospace;\n  background-color: var(--sklearn-color-background);\n  border-radius: 1rem;\n  height: 1rem;\n  width: 1rem;\n  text-decoration: none;\n  /* unfitted */\n  color: var(--sklearn-color-unfitted-level-1);\n  border: var(--sklearn-color-unfitted-level-1) 1pt solid;\n}\n\n#sk-container-id-1 a.estimator_doc_link.fitted {\n  /* fitted */\n  border: var(--sklearn-color-fitted-level-1) 1pt solid;\n  color: var(--sklearn-color-fitted-level-1);\n}\n\n/* On hover */\n#sk-container-id-1 a.estimator_doc_link:hover {\n  /* unfitted */\n  background-color: var(--sklearn-color-unfitted-level-3);\n  color: var(--sklearn-color-background);\n  text-decoration: none;\n}\n\n#sk-container-id-1 a.estimator_doc_link.fitted:hover {\n  /* fitted */\n  background-color: var(--sklearn-color-fitted-level-3);\n}\n</style><div id=\"sk-container-id-1\" class=\"sk-top-container\"><div class=\"sk-text-repr-fallback\"><pre>LinearRegression()</pre><b>In a Jupyter environment, please rerun this cell to show the HTML representation or trust the notebook. <br />On GitHub, the HTML representation is unable to render, please try loading this page with nbviewer.org.</b></div><div class=\"sk-container\" hidden><div class=\"sk-item\"><div class=\"sk-estimator fitted sk-toggleable\"><input class=\"sk-toggleable__control sk-hidden--visually\" id=\"sk-estimator-id-1\" type=\"checkbox\" checked><label for=\"sk-estimator-id-1\" class=\"sk-toggleable__label fitted sk-toggleable__label-arrow fitted\">&nbsp;&nbsp;LinearRegression<a class=\"sk-estimator-doc-link fitted\" rel=\"noreferrer\" target=\"_blank\" href=\"https://scikit-learn.org/1.4/modules/generated/sklearn.linear_model.LinearRegression.html\">?<span>Documentation for LinearRegression</span></a><span class=\"sk-estimator-doc-link fitted\">i<span>Fitted</span></span></label><div class=\"sk-toggleable__content fitted\"><pre>LinearRegression()</pre></div> </div></div></div></div>"
     },
     "execution_count": 143,
     "metadata": {},
     "output_type": "execute_result"
    }
   ],
   "source": [
    "#Apply the Model\n",
    "\n",
    "# We will be using the LinearRegression() model from the sklearn library\n",
    "from sklearn.linear_model import LinearRegression\n",
    "\n",
    "lr_Model = LinearRegression()\n",
    "lr_Model.fit(X_train, y_train)"
   ]
  },
  {
   "cell_type": "code",
   "execution_count": 144,
   "outputs": [
    {
     "name": "stdout",
     "output_type": "stream",
     "text": [
      "coeff [-8.69618562e-02 -2.42630310e-01  7.44325841e-02 -1.61934937e-01\n",
      "  1.32757759e-02  1.59485095e-04]\n",
      "intercept -2.735241697929049\n"
     ]
    }
   ],
   "source": [
    "# Additionally we can print the co-efficients and intercept by calling\n",
    "# respective methods\n",
    "print('coeff', lr_Model.coef_)\n",
    "print('intercept', lr_Model.intercept_)"
   ],
   "metadata": {
    "collapsed": false,
    "ExecuteTime": {
     "end_time": "2024-02-15T19:50:11.216702Z",
     "start_time": "2024-02-15T19:50:11.160336Z"
    }
   },
   "id": "378178a36b0f90b2"
  },
  {
   "cell_type": "code",
   "execution_count": 160,
   "id": "ecaa4ef4",
   "metadata": {
    "ExecuteTime": {
     "end_time": "2024-02-15T19:59:09.800993Z",
     "start_time": "2024-02-15T19:59:09.765989Z"
    }
   },
   "outputs": [
    {
     "name": "stdout",
     "output_type": "stream",
     "text": [
      "Score : 92.0% \n"
     ]
    }
   ],
   "source": [
    "#Evaluation Metrics\n",
    "from sklearn.metrics import mean_absolute_error\n",
    "\n",
    "y_predictions = lr_Model.predict(X_test)\n",
    "\n",
    "# Accuracy using mean squared error\n",
    "score = round(lr_Model.score(X, y), 2)\n",
    "print(f\"Score : {score * 100}% \")"
   ]
  }
 ],
 "metadata": {
  "kernelspec": {
   "display_name": "Python 3 (ipykernel)",
   "language": "python",
   "name": "python3"
  },
  "language_info": {
   "codemirror_mode": {
    "name": "ipython",
    "version": 3
   },
   "file_extension": ".py",
   "mimetype": "text/x-python",
   "name": "python",
   "nbconvert_exporter": "python",
   "pygments_lexer": "ipython3",
   "version": "3.11.5"
  }
 },
 "nbformat": 4,
 "nbformat_minor": 5
}
