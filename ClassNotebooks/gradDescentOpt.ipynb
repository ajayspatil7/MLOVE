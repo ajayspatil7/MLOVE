{
 "cells": [
  {
   "cell_type": "code",
   "execution_count": 2,
   "id": "initial_id",
   "metadata": {
    "collapsed": true,
    "ExecuteTime": {
     "end_time": "2024-02-08T06:14:35.156347Z",
     "start_time": "2024-02-08T06:14:34.185520Z"
    }
   },
   "outputs": [],
   "source": [
    "import pandas as pd\n",
    "import matplotlib.pyplot as plt"
   ]
  },
  {
   "cell_type": "code",
   "execution_count": 3,
   "outputs": [],
   "source": [
    "area = [0.5, 2.3, 2.9]\n",
    "price = [1.40, 1.90, 3.20]"
   ],
   "metadata": {
    "collapsed": false,
    "ExecuteTime": {
     "end_time": "2024-02-08T06:14:36.670046Z",
     "start_time": "2024-02-08T06:14:36.641731Z"
    }
   },
   "id": "9b5759cb6c727a64"
  },
  {
   "cell_type": "code",
   "execution_count": 5,
   "outputs": [
    {
     "data": {
      "text/plain": "<matplotlib.collections.PathCollection at 0x118511a00>"
     },
     "execution_count": 5,
     "metadata": {},
     "output_type": "execute_result"
    },
    {
     "data": {
      "text/plain": "<Figure size 640x480 with 1 Axes>",
      "image/png": "[encoded data removed]"
     },
     "metadata": {},
     "output_type": "display_data"
    }
   ],
   "source": [
    "plt.scatter(area, price)"
   ],
   "metadata": {
    "collapsed": false,
    "ExecuteTime": {
     "end_time": "2024-02-08T06:15:07.197220Z",
     "start_time": "2024-02-08T06:15:06.845473Z"
    }
   },
   "id": "2ccd154972554cc7"
  },
  {
   "cell_type": "code",
   "execution_count": 19,
   "outputs": [],
   "source": [
    "theta0 = 0\n",
    "theta1 = 0.64"
   ],
   "metadata": {
    "collapsed": false,
    "ExecuteTime": {
     "end_time": "2024-02-08T06:26:14.223497Z",
     "start_time": "2024-02-08T06:26:14.213099Z"
    }
   },
   "id": "76d79a76631b581d"
  },
  {
   "cell_type": "code",
   "execution_count": 63,
   "outputs": [],
   "source": [
    "def j(x, y):\n",
    "    theta0 = 0.02852\n",
    "    theta1 = 0.6942\n",
    "    i = 0\n",
    "    for j in range(len(area)):\n",
    "        i += (y[j] - (theta0 + theta1 * x[j]))**2\n",
    "    return i/2\n"
   ],
   "metadata": {
    "collapsed": false,
    "ExecuteTime": {
     "end_time": "2024-02-08T06:40:58.119123Z",
     "start_time": "2024-02-08T06:40:58.101843Z"
    }
   },
   "id": "5905b9192ab1ed3c"
  },
  {
   "cell_type": "code",
   "execution_count": 64,
   "outputs": [
    {
     "name": "stdout",
     "output_type": "stream",
     "text": [
      "1.2332696533999998\n"
     ]
    }
   ],
   "source": [
    "print(j(area, price))"
   ],
   "metadata": {
    "collapsed": false,
    "ExecuteTime": {
     "end_time": "2024-02-08T06:40:58.815754Z",
     "start_time": "2024-02-08T06:40:58.787423Z"
    }
   },
   "id": "e974ea4a566fb995"
  },
  {
   "cell_type": "code",
   "execution_count": 58,
   "outputs": [],
   "source": [
    "def doTheta1():\n",
    "    area = [0.5, 2.3, 2.9]\n",
    "    price = [1.40, 1.90, 3.20]\n",
    "    \n",
    "    theta0 = 0\n",
    "    theta1 = 0.64\n",
    "    x = 0\n",
    "    \n",
    "    for i in range(len(area)):\n",
    "        x -= (price[i] - (theta0 + theta1 * area[i]))\n",
    "    return x\n",
    "            \n",
    "        "
   ],
   "metadata": {
    "collapsed": false,
    "ExecuteTime": {
     "end_time": "2024-02-08T06:38:12.831598Z",
     "start_time": "2024-02-08T06:38:12.818727Z"
    }
   },
   "id": "5b2366335d233589"
  },
  {
   "cell_type": "code",
   "execution_count": 59,
   "outputs": [
    {
     "data": {
      "text/plain": "-2.8520000000000003"
     },
     "execution_count": 59,
     "metadata": {},
     "output_type": "execute_result"
    }
   ],
   "source": [
    "doTheta1()"
   ],
   "metadata": {
    "collapsed": false,
    "ExecuteTime": {
     "end_time": "2024-02-08T06:38:13.271638Z",
     "start_time": "2024-02-08T06:38:13.251590Z"
    }
   },
   "id": "b0de82b5304639a5"
  },
  {
   "cell_type": "code",
   "execution_count": null,
   "outputs": [],
   "source": [
    "print(j(area, price))"
   ],
   "metadata": {
    "collapsed": false
   },
   "id": "5400ebc82fb70a67"
  },
  {
   "cell_type": "code",
   "execution_count": 62,
   "outputs": [
    {
     "data": {
      "text/plain": "-2.4574999999999996"
     },
     "execution_count": 62,
     "metadata": {},
     "output_type": "execute_result"
    }
   ],
   "source": [
    "def doTheta2():\n",
    "    area = [0.5, 2.3, 2.9]\n",
    "    price = [1.40, 1.90, 3.20]\n",
    "\n",
    "    theta0 = 0.02852\n",
    "    theta1 = 0.6942\n",
    "    x = 0\n",
    "\n",
    "    for i in range(len(area)):\n",
    "        x -= (price[i] - (theta0 + theta1 * area[i]))\n",
    "    return x\n",
    "doTheta2()"
   ],
   "metadata": {
    "collapsed": false,
    "ExecuteTime": {
     "end_time": "2024-02-08T06:40:33.048236Z",
     "start_time": "2024-02-08T06:40:33.033369Z"
    }
   },
   "id": "ff7deac7f9021659"
  },
  {
   "cell_type": "code",
   "execution_count": null,
   "outputs": [],
   "source": [],
   "metadata": {
    "collapsed": false
   },
   "id": "51a06c4079849202"
  }
 ],
 "metadata": {
  "kernelspec": {
   "display_name": "Python 3",
   "language": "python",
   "name": "python3"
  },
  "language_info": {
   "codemirror_mode": {
    "name": "ipython",
    "version": 2
   },
   "file_extension": ".py",
   "mimetype": "text/x-python",
   "name": "python",
   "nbconvert_exporter": "python",
   "pygments_lexer": "ipython2",
   "version": "2.7.6"
  }
 },
 "nbformat": 4,
 "nbformat_minor": 5
}
